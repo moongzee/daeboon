{
  "nbformat": 4,
  "nbformat_minor": 0,
  "metadata": {
    "colab": {
      "name": "<데이콘> 실거래가 예측",
      "provenance": []
    },
    "kernelspec": {
      "name": "python3",
      "display_name": "Python 3"
    },
    "language_info": {
      "name": "python"
    }
  },
  "cells": [
    {
      "cell_type": "code",
      "metadata": {
        "id": "bBxr3p8RBh31"
      },
      "source": [
        "import numpy as np\n",
        "import pandas as pd\n",
        "\n",
        "import matplotlib.pyplot as plt\n",
        "import seaborn as sns\n",
        "\n",
        "import timeit #time measure\n",
        "import sklearn\n",
        "\n",
        "import warnings\n",
        "\n",
        "import sys"
      ],
      "execution_count": null,
      "outputs": []
    },
    {
      "cell_type": "code",
      "metadata": {
        "id": "5QQ73C1JB3Gj"
      },
      "source": [
        "train_df = pd.read_csv('/tutorial/train.csv')\n",
        "test_df = pd.read_csv('/tutorial/test.csv')"
      ],
      "execution_count": null,
      "outputs": []
    },
    {
      "cell_type": "code",
      "metadata": {
        "id": "kh1SLuwaB9gj"
      },
      "source": [
        "train = train_df.copy()\n",
        "test = test_df.copy()"
      ],
      "execution_count": null,
      "outputs": []
    },
    {
      "cell_type": "code",
      "metadata": {
        "colab": {
          "base_uri": "https://localhost:8080/"
        },
        "id": "v8CuXqZLG_vS",
        "outputId": "db104eb3-3d67-4d11-8eea-124779772716"
      },
      "source": [
        "print(\"train.csv.sahpe:\", train.shape)\n",
        "print(\"test.csv.shape:\", test.shape)"
      ],
      "execution_count": null,
      "outputs": [
        {
          "output_type": "stream",
          "text": [
            "train.csv.sahpe: (1216553, 13)\n",
            "test.csv.shape: (5463, 12)\n"
          ],
          "name": "stdout"
        }
      ]
    },
    {
      "cell_type": "code",
      "metadata": {
        "colab": {
          "base_uri": "https://localhost:8080/"
        },
        "id": "BvtjwNmBLu2K",
        "outputId": "c1a726c5-fc2d-4bcf-9e2a-6e8009e35132"
      },
      "source": [
        "train.info()"
      ],
      "execution_count": null,
      "outputs": [
        {
          "output_type": "stream",
          "text": [
            "<class 'pandas.core.frame.DataFrame'>\n",
            "RangeIndex: 1216553 entries, 0 to 1216552\n",
            "Data columns (total 13 columns):\n",
            " #   Column                  Non-Null Count    Dtype  \n",
            "---  ------                  --------------    -----  \n",
            " 0   transaction_id          1216553 non-null  int64  \n",
            " 1   apartment_id            1216553 non-null  int64  \n",
            " 2   city                    1216553 non-null  object \n",
            " 3   dong                    1216553 non-null  object \n",
            " 4   jibun                   1216553 non-null  object \n",
            " 5   apt                     1216553 non-null  object \n",
            " 6   addr_kr                 1216553 non-null  object \n",
            " 7   exclusive_use_area      1216553 non-null  float64\n",
            " 8   year_of_completion      1216553 non-null  int64  \n",
            " 9   transaction_year_month  1216553 non-null  int64  \n",
            " 10  transaction_date        1216553 non-null  object \n",
            " 11  floor                   1216553 non-null  int64  \n",
            " 12  transaction_real_price  1216553 non-null  int64  \n",
            "dtypes: float64(1), int64(6), object(6)\n",
            "memory usage: 120.7+ MB\n"
          ],
          "name": "stdout"
        }
      ]
    },
    {
      "cell_type": "code",
      "metadata": {
        "colab": {
          "base_uri": "https://localhost:8080/"
        },
        "id": "2HBWhSBcLxcf",
        "outputId": "e2aeafe0-8e63-42ed-c524-32168cd38638"
      },
      "source": [
        "\n",
        "test.info()"
      ],
      "execution_count": null,
      "outputs": [
        {
          "output_type": "stream",
          "text": [
            "<class 'pandas.core.frame.DataFrame'>\n",
            "RangeIndex: 5463 entries, 0 to 5462\n",
            "Data columns (total 12 columns):\n",
            " #   Column                  Non-Null Count  Dtype  \n",
            "---  ------                  --------------  -----  \n",
            " 0   transaction_id          5463 non-null   int64  \n",
            " 1   apartment_id            5463 non-null   int64  \n",
            " 2   city                    5463 non-null   object \n",
            " 3   dong                    5463 non-null   object \n",
            " 4   jibun                   5463 non-null   object \n",
            " 5   apt                     5463 non-null   object \n",
            " 6   addr_kr                 5463 non-null   object \n",
            " 7   exclusive_use_area      5463 non-null   float64\n",
            " 8   year_of_completion      5463 non-null   int64  \n",
            " 9   transaction_year_month  5463 non-null   int64  \n",
            " 10  transaction_date        5463 non-null   object \n",
            " 11  floor                   5463 non-null   int64  \n",
            "dtypes: float64(1), int64(5), object(6)\n",
            "memory usage: 512.3+ KB\n"
          ],
          "name": "stdout"
        }
      ]
    },
    {
      "cell_type": "markdown",
      "metadata": {
        "id": "QwnhzgIDMBB9"
      },
      "source": [
        "train.csv<br>\n",
        "transaction_id : 아파트 거래에 대한 유니크한 아이디<br>\n",
        "apartment_id : 아파트 아이디<br>\n",
        "city : 도시<br>\n",
        "dong : 동<br>\n",
        "jibun : 지번<br>\n",
        "apt : 아파트단지 이름<br>\n",
        "addr_kr : 주소<br>\n",
        "exclusive_use_area : 전용면적<br>\n",
        "year_of_completion : 설립일자<br>\n",
        "transaction_year_month : 거래년월<br>\n",
        "transaction_date : 거래날짜<br>\n",
        "floor : 층<br>\n",
        "transaction_real_price : 실거래가<br>"
      ]
    },
    {
      "cell_type": "code",
      "metadata": {
        "colab": {
          "base_uri": "https://localhost:8080/",
          "height": 421
        },
        "id": "Cu-HJYwNMqiu",
        "outputId": "dfc91195-5e6b-4157-c7fd-6e83cba30f8a"
      },
      "source": [
        "# 결측값 확인\n",
        "# train data set의 실거래가 열은 버리고, 결측값의 갯수를 셈\n",
        "train_null = train.drop('transaction_real_price', axis=1).isnull().sum()/len(train)*100\n",
        "test_null = test.isnull().sum()/len(test)*100\n",
        "pd.DataFrame({'train_null_count':train_null,'test_null_count':test_null})"
      ],
      "execution_count": null,
      "outputs": [
        {
          "output_type": "execute_result",
          "data": {
            "text/html": [
              "<div>\n",
              "<style scoped>\n",
              "    .dataframe tbody tr th:only-of-type {\n",
              "        vertical-align: middle;\n",
              "    }\n",
              "\n",
              "    .dataframe tbody tr th {\n",
              "        vertical-align: top;\n",
              "    }\n",
              "\n",
              "    .dataframe thead th {\n",
              "        text-align: right;\n",
              "    }\n",
              "</style>\n",
              "<table border=\"1\" class=\"dataframe\">\n",
              "  <thead>\n",
              "    <tr style=\"text-align: right;\">\n",
              "      <th></th>\n",
              "      <th>train_null_count</th>\n",
              "      <th>test_null_count</th>\n",
              "    </tr>\n",
              "  </thead>\n",
              "  <tbody>\n",
              "    <tr>\n",
              "      <th>transaction_id</th>\n",
              "      <td>0.0</td>\n",
              "      <td>0.0</td>\n",
              "    </tr>\n",
              "    <tr>\n",
              "      <th>apartment_id</th>\n",
              "      <td>0.0</td>\n",
              "      <td>0.0</td>\n",
              "    </tr>\n",
              "    <tr>\n",
              "      <th>city</th>\n",
              "      <td>0.0</td>\n",
              "      <td>0.0</td>\n",
              "    </tr>\n",
              "    <tr>\n",
              "      <th>dong</th>\n",
              "      <td>0.0</td>\n",
              "      <td>0.0</td>\n",
              "    </tr>\n",
              "    <tr>\n",
              "      <th>jibun</th>\n",
              "      <td>0.0</td>\n",
              "      <td>0.0</td>\n",
              "    </tr>\n",
              "    <tr>\n",
              "      <th>apt</th>\n",
              "      <td>0.0</td>\n",
              "      <td>0.0</td>\n",
              "    </tr>\n",
              "    <tr>\n",
              "      <th>addr_kr</th>\n",
              "      <td>0.0</td>\n",
              "      <td>0.0</td>\n",
              "    </tr>\n",
              "    <tr>\n",
              "      <th>exclusive_use_area</th>\n",
              "      <td>0.0</td>\n",
              "      <td>0.0</td>\n",
              "    </tr>\n",
              "    <tr>\n",
              "      <th>year_of_completion</th>\n",
              "      <td>0.0</td>\n",
              "      <td>0.0</td>\n",
              "    </tr>\n",
              "    <tr>\n",
              "      <th>transaction_year_month</th>\n",
              "      <td>0.0</td>\n",
              "      <td>0.0</td>\n",
              "    </tr>\n",
              "    <tr>\n",
              "      <th>transaction_date</th>\n",
              "      <td>0.0</td>\n",
              "      <td>0.0</td>\n",
              "    </tr>\n",
              "    <tr>\n",
              "      <th>floor</th>\n",
              "      <td>0.0</td>\n",
              "      <td>0.0</td>\n",
              "    </tr>\n",
              "  </tbody>\n",
              "</table>\n",
              "</div>"
            ],
            "text/plain": [
              "                        train_null_count  test_null_count\n",
              "transaction_id                       0.0              0.0\n",
              "apartment_id                         0.0              0.0\n",
              "city                                 0.0              0.0\n",
              "dong                                 0.0              0.0\n",
              "jibun                                0.0              0.0\n",
              "apt                                  0.0              0.0\n",
              "addr_kr                              0.0              0.0\n",
              "exclusive_use_area                   0.0              0.0\n",
              "year_of_completion                   0.0              0.0\n",
              "transaction_year_month               0.0              0.0\n",
              "transaction_date                     0.0              0.0\n",
              "floor                                0.0              0.0"
            ]
          },
          "metadata": {
            "tags": []
          },
          "execution_count": 8
        }
      ]
    },
    {
      "cell_type": "code",
      "metadata": {
        "colab": {
          "base_uri": "https://localhost:8080/",
          "height": 204
        },
        "id": "qnt1Lc2HMWCf",
        "outputId": "9349ff5b-dfe1-4953-e61b-679dfafab36b"
      },
      "source": [
        "train.head()"
      ],
      "execution_count": null,
      "outputs": [
        {
          "output_type": "execute_result",
          "data": {
            "text/html": [
              "<div>\n",
              "<style scoped>\n",
              "    .dataframe tbody tr th:only-of-type {\n",
              "        vertical-align: middle;\n",
              "    }\n",
              "\n",
              "    .dataframe tbody tr th {\n",
              "        vertical-align: top;\n",
              "    }\n",
              "\n",
              "    .dataframe thead th {\n",
              "        text-align: right;\n",
              "    }\n",
              "</style>\n",
              "<table border=\"1\" class=\"dataframe\">\n",
              "  <thead>\n",
              "    <tr style=\"text-align: right;\">\n",
              "      <th></th>\n",
              "      <th>transaction_id</th>\n",
              "      <th>apartment_id</th>\n",
              "      <th>city</th>\n",
              "      <th>dong</th>\n",
              "      <th>jibun</th>\n",
              "      <th>apt</th>\n",
              "      <th>addr_kr</th>\n",
              "      <th>exclusive_use_area</th>\n",
              "      <th>year_of_completion</th>\n",
              "      <th>transaction_year_month</th>\n",
              "      <th>transaction_date</th>\n",
              "      <th>floor</th>\n",
              "      <th>transaction_real_price</th>\n",
              "    </tr>\n",
              "  </thead>\n",
              "  <tbody>\n",
              "    <tr>\n",
              "      <th>0</th>\n",
              "      <td>0</td>\n",
              "      <td>7622</td>\n",
              "      <td>서울특별시</td>\n",
              "      <td>신교동</td>\n",
              "      <td>6-13</td>\n",
              "      <td>신현(101동)</td>\n",
              "      <td>신교동 6-13 신현(101동)</td>\n",
              "      <td>84.82</td>\n",
              "      <td>2002</td>\n",
              "      <td>200801</td>\n",
              "      <td>21~31</td>\n",
              "      <td>2</td>\n",
              "      <td>37500</td>\n",
              "    </tr>\n",
              "    <tr>\n",
              "      <th>1</th>\n",
              "      <td>1</td>\n",
              "      <td>5399</td>\n",
              "      <td>서울특별시</td>\n",
              "      <td>필운동</td>\n",
              "      <td>142</td>\n",
              "      <td>사직파크맨션</td>\n",
              "      <td>필운동 142 사직파크맨션</td>\n",
              "      <td>99.17</td>\n",
              "      <td>1973</td>\n",
              "      <td>200801</td>\n",
              "      <td>1~10</td>\n",
              "      <td>6</td>\n",
              "      <td>20000</td>\n",
              "    </tr>\n",
              "    <tr>\n",
              "      <th>2</th>\n",
              "      <td>2</td>\n",
              "      <td>3578</td>\n",
              "      <td>서울특별시</td>\n",
              "      <td>필운동</td>\n",
              "      <td>174-1</td>\n",
              "      <td>두레엘리시안</td>\n",
              "      <td>필운동 174-1 두레엘리시안</td>\n",
              "      <td>84.74</td>\n",
              "      <td>2007</td>\n",
              "      <td>200801</td>\n",
              "      <td>1~10</td>\n",
              "      <td>6</td>\n",
              "      <td>38500</td>\n",
              "    </tr>\n",
              "    <tr>\n",
              "      <th>3</th>\n",
              "      <td>3</td>\n",
              "      <td>10957</td>\n",
              "      <td>서울특별시</td>\n",
              "      <td>내수동</td>\n",
              "      <td>95</td>\n",
              "      <td>파크팰리스</td>\n",
              "      <td>내수동 95 파크팰리스</td>\n",
              "      <td>146.39</td>\n",
              "      <td>2003</td>\n",
              "      <td>200801</td>\n",
              "      <td>11~20</td>\n",
              "      <td>15</td>\n",
              "      <td>118000</td>\n",
              "    </tr>\n",
              "    <tr>\n",
              "      <th>4</th>\n",
              "      <td>4</td>\n",
              "      <td>10639</td>\n",
              "      <td>서울특별시</td>\n",
              "      <td>내수동</td>\n",
              "      <td>110-15</td>\n",
              "      <td>킹스매너</td>\n",
              "      <td>내수동 110-15 킹스매너</td>\n",
              "      <td>194.43</td>\n",
              "      <td>2004</td>\n",
              "      <td>200801</td>\n",
              "      <td>21~31</td>\n",
              "      <td>3</td>\n",
              "      <td>120000</td>\n",
              "    </tr>\n",
              "  </tbody>\n",
              "</table>\n",
              "</div>"
            ],
            "text/plain": [
              "   transaction_id  apartment_id  ... floor transaction_real_price\n",
              "0               0          7622  ...     2                  37500\n",
              "1               1          5399  ...     6                  20000\n",
              "2               2          3578  ...     6                  38500\n",
              "3               3         10957  ...    15                 118000\n",
              "4               4         10639  ...     3                 120000\n",
              "\n",
              "[5 rows x 13 columns]"
            ]
          },
          "metadata": {
            "tags": []
          },
          "execution_count": 9
        }
      ]
    },
    {
      "cell_type": "markdown",
      "metadata": {
        "id": "zOL5_hHxOBP-"
      },
      "source": [
        "# EDA and processing"
      ]
    },
    {
      "cell_type": "markdown",
      "metadata": {
        "id": "PDkp8XQxOKlq"
      },
      "source": [
        "## target variable\n"
      ]
    },
    {
      "cell_type": "markdown",
      "metadata": {
        "id": "YR0bcnGaOPhw"
      },
      "source": [
        "transaction_real_price"
      ]
    },
    {
      "cell_type": "code",
      "metadata": {
        "colab": {
          "base_uri": "https://localhost:8080/"
        },
        "id": "rNnk2MQ_OTBI",
        "outputId": "5093b7c0-164a-4132-86b8-e01d1fdf7167"
      },
      "source": [
        "train['transaction_real_price'].describe()"
      ],
      "execution_count": null,
      "outputs": [
        {
          "output_type": "execute_result",
          "data": {
            "text/plain": [
              "count    1.216553e+06\n",
              "mean     3.822769e+04\n",
              "std      3.104898e+04\n",
              "min      1.000000e+02\n",
              "25%      1.900000e+04\n",
              "50%      3.090000e+04\n",
              "75%      4.700000e+04\n",
              "max      8.200000e+05\n",
              "Name: transaction_real_price, dtype: float64"
            ]
          },
          "metadata": {
            "tags": []
          },
          "execution_count": 10
        }
      ]
    },
    {
      "cell_type": "code",
      "metadata": {
        "colab": {
          "base_uri": "https://localhost:8080/",
          "height": 474
        },
        "id": "VdwVYn-VO19F",
        "outputId": "db28faad-0a9b-4616-8329-ef0b24c1e4f3"
      },
      "source": [
        "f, ax = plt.subplots(figsize=(8,6))\n",
        "sns.distplot(train['transaction_real_price'])"
      ],
      "execution_count": null,
      "outputs": [
        {
          "output_type": "stream",
          "text": [
            "/usr/local/lib/python3.7/dist-packages/seaborn/distributions.py:2557: FutureWarning: `distplot` is a deprecated function and will be removed in a future version. Please adapt your code to use either `displot` (a figure-level function with similar flexibility) or `histplot` (an axes-level function for histograms).\n",
            "  warnings.warn(msg, FutureWarning)\n"
          ],
          "name": "stderr"
        },
        {
          "output_type": "execute_result",
          "data": {
            "text/plain": [
              "<matplotlib.axes._subplots.AxesSubplot at 0x7ff80ac20f90>"
            ]
          },
          "metadata": {
            "tags": []
          },
          "execution_count": 11
        },
        {
          "output_type": "display_data",
          "data": {
            "image/png": "[encoded data removed]",
            "text/plain": [
              "<Figure size 576x432 with 1 Axes>"
            ]
          },
          "metadata": {
            "tags": [],
            "needs_background": "light"
          }
        }
      ]
    },
    {
      "cell_type": "markdown",
      "metadata": {
        "id": "odwI5HLNQlIk"
      },
      "source": [
        "### 정규성 확인 \n",
        "\n",
        "![image.png](data:image/png;base64,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)\n",
        "\n",
        "\n",
        "skewness가 -0.5 ~ 0,5 일 경우 데이터가 대칭 <br>\n",
        "skewness가 (-1, -0.5) 이거나 (0.5,1) 일 경우 데이터는 적당히 치우쳐있다.<br>\n",
        "skewness가 -1보다 작거나 1보다 클 경우 데이터는 상당히 치우쳐있다.<br>\n",
        "\n",
        "\n",
        "\n",
        "\n",
        "![image.png](data:image/png;base64,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)\n",
        "<br>\n",
        "kurtosis<br>\n",
        "\n",
        "분포에 존재하는 특이치(outlier)의 척도다.<br>\n",
        "\n",
        " \n",
        "\n",
        "Kurtosis가 높으면 데이터가 두꺼운 꼬리나 outlier를 가지고 있다는 것을 의미하는 지표이다. 왜 이렇게 많은 outlier를 가지고 있는지 조사할 필요가 있다. 어쩌면 잘못된 데이터 입력이나 다른 것들이 있을 수 있다. 조사해보자!<br>\n",
        "\n",
        " \n",
        "\n",
        "Kurtosis가 낮으면 데이터가 얇은 꼬리나 outlier를 가지고 있지 않다는 듯이다. 만약 낮은 첨도가 나온다고 해도 이상 결과의 데이터를 다듬을 필요가 있다.<br>"
      ]
    },
    {
      "cell_type": "code",
      "metadata": {
        "colab": {
          "base_uri": "https://localhost:8080/"
        },
        "id": "q93n5dwAPCk9",
        "outputId": "33d0e4e9-f8a9-4412-ed6e-8fa078c51ef0"
      },
      "source": [
        "print(\"Skewness: %f, Kurtosis: %f\", (train['transaction_real_price'].skew(), train['transaction_real_price'].kurt()))"
      ],
      "execution_count": null,
      "outputs": [
        {
          "output_type": "stream",
          "text": [
            "Skewness: %f, Kurtosis: %f (3.4071692420405535, 24.839820787251245)\n"
          ],
          "name": "stdout"
        }
      ]
    },
    {
      "cell_type": "markdown",
      "metadata": {
        "id": "MccRVpEKPxVb"
      },
      "source": [
        "데이터는 현재, positive skewness로 왼쪽으로 상당히 치우쳐 있음.<br>\n",
        "데이터는 현재, kurtosis의 값이 매우 높으므로 데이터의 두꺼운 꼬리나 outlier를 가지고 있음."
      ]
    },
    {
      "cell_type": "markdown",
      "metadata": {
        "id": "5V7kFQbiSKv_"
      },
      "source": [
        "### 정규변환\n",
        "\n",
        "일변량 분석의 기초는 평균에 대한 추론이다.<br>\n",
        "평균은 치우침이나 이상치에 영향을 많이 받으므로 평균,평균 차이 방법론을 적용하기 전에 치우침과 이상치 진단을 해야함.<br>\n",
        "치우침(왜도) 정규성 검정, 이상치 진단은 상자-수염 그림에 의함<br>\n",
        "선형모형에서 확률변수들에 의한 치우침이나 이상치 (회귀모형에서는 스튜던트 잔차) 진단을 실시함\n",
        "\n",
        "1. 정규성 진단 <br>\n",
        "Q-Q plot 사용, 히스토그램, 통계량 ( 수리적 왜도, EDA 왜도 ), 적합성 검정 (H0: 데이터는 정규분포를 따른다. H1: 데이터는 정규분포를 따르지 않는다 ),  Shapiro Wilk W-통계량, Kolmogorov D-통계량, Anderson-Darling AD 통계량\n",
        "\n",
        "2. 정규변환 <br> \n",
        "제곱근 변환, 로그변환\n"
      ]
    },
    {
      "cell_type": "code",
      "metadata": {
        "colab": {
          "base_uri": "https://localhost:8080/"
        },
        "id": "R8N54g3GSGmX",
        "outputId": "bbbd9932-6d9e-4f7a-9b42-f91e12cef991"
      },
      "source": [
        "\n",
        "# np.log1p() 를 통해 로그변환함.\n",
        "\n",
        "train['transaction_real_price']= np.log1p(train['transaction_real_price'])\n",
        "print(\"Skewness: %f, Kurtosis: %f\", (train['transaction_real_price'].skew(), train['transaction_real_price'].kurt()))"
      ],
      "execution_count": null,
      "outputs": [
        {
          "output_type": "stream",
          "text": [
            "Skewness: %f, Kurtosis: %f (-0.09493151731286435, 0.24886558181939034)\n"
          ],
          "name": "stdout"
        }
      ]
    },
    {
      "cell_type": "code",
      "metadata": {
        "colab": {
          "base_uri": "https://localhost:8080/",
          "height": 463
        },
        "id": "vppDUPb3aSo4",
        "outputId": "462ba0b0-f470-44ee-f24a-ec9aa729b2ee"
      },
      "source": [
        "\n",
        "\n",
        "f, ax = plt.subplots(figsize=(8,6))\n",
        "sns.distplot(train['transaction_real_price'])"
      ],
      "execution_count": null,
      "outputs": [
        {
          "output_type": "stream",
          "text": [
            "/usr/local/lib/python3.7/dist-packages/seaborn/distributions.py:2557: FutureWarning: `distplot` is a deprecated function and will be removed in a future version. Please adapt your code to use either `displot` (a figure-level function with similar flexibility) or `histplot` (an axes-level function for histograms).\n",
            "  warnings.warn(msg, FutureWarning)\n"
          ],
          "name": "stderr"
        },
        {
          "output_type": "execute_result",
          "data": {
            "text/plain": [
              "<matplotlib.axes._subplots.AxesSubplot at 0x7ff7ffa5f8d0>"
            ]
          },
          "metadata": {
            "tags": []
          },
          "execution_count": 14
        },
        {
          "output_type": "display_data",
          "data": {
            "image/png": "[encoded data removed]",
            "text/plain": [
              "<Figure size 576x432 with 1 Axes>"
            ]
          },
          "metadata": {
            "tags": [],
            "needs_background": "light"
          }
        }
      ]
    },
    {
      "cell_type": "markdown",
      "metadata": {
        "id": "ugfidxjDa2fK"
      },
      "source": [
        "## columns 상관관계"
      ]
    },
    {
      "cell_type": "code",
      "metadata": {
        "colab": {
          "base_uri": "https://localhost:8080/",
          "height": 507
        },
        "id": "LDeiJBA9adHT",
        "outputId": "3eca9d35-1b6c-4a28-8904-0b6d0a3120ca"
      },
      "source": [
        "# k : 히트맵 변수갯수\n",
        "k = train.shape[1]\n",
        "corrmat = train.corr()\n",
        "cols= corrmat.nlargest(k, 'transaction_real_price')['transaction_real_price'].index\n",
        "cm = np.corrcoef(train[cols].values.T)\n",
        "f, ax = plt.subplots(figsize=(8,6))\n",
        "sns.heatmap(data = cm, annot=True, square=True, fmt='.2f',linewidths=.5, cmap='Reds', yticklabels=cols.values, xticklabels=cols.values)"
      ],
      "execution_count": null,
      "outputs": [
        {
          "output_type": "execute_result",
          "data": {
            "text/plain": [
              "<matplotlib.axes._subplots.AxesSubplot at 0x7ff7ff5d3f10>"
            ]
          },
          "metadata": {
            "tags": []
          },
          "execution_count": 15
        },
        {
          "output_type": "display_data",
          "data": {
            "image/png": "[encoded data removed]",
            "text/plain": [
              "<Figure size 576x432 with 2 Axes>"
            ]
          },
          "metadata": {
            "tags": [],
            "needs_background": "light"
          }
        }
      ]
    },
    {
      "cell_type": "markdown",
      "metadata": {
        "id": "HSay2gg7egKc"
      },
      "source": [
        "면적과 실거래가에 양의 상관관계가 있음을 알 수 있다 \n"
      ]
    },
    {
      "cell_type": "markdown",
      "metadata": {
        "id": "OZcdRFNnfPl8"
      },
      "source": [
        "# Numerical Variable\n",
        "\n"
      ]
    },
    {
      "cell_type": "markdown",
      "metadata": {
        "id": "8JaWoaycgYq9"
      },
      "source": [
        "## apartment_id & transaction_id"
      ]
    },
    {
      "cell_type": "code",
      "metadata": {
        "colab": {
          "base_uri": "https://localhost:8080/"
        },
        "id": "GVQDw1gHbIFY",
        "outputId": "336c020c-16f2-43ae-e530-f2562e8da262"
      },
      "source": [
        "len(train['apartment_id'].unique())"
      ],
      "execution_count": null,
      "outputs": [
        {
          "output_type": "execute_result",
          "data": {
            "text/plain": [
              "12533"
            ]
          },
          "metadata": {
            "tags": []
          },
          "execution_count": 16
        }
      ]
    },
    {
      "cell_type": "code",
      "metadata": {
        "colab": {
          "base_uri": "https://localhost:8080/"
        },
        "id": "7p2FuTrDfhJH",
        "outputId": "b2121cd5-8dc8-48d6-ffb2-cb6013749b8b"
      },
      "source": [
        "\n",
        "len(train['transaction_id'].unique())"
      ],
      "execution_count": null,
      "outputs": [
        {
          "output_type": "execute_result",
          "data": {
            "text/plain": [
              "1216553"
            ]
          },
          "metadata": {
            "tags": []
          },
          "execution_count": 17
        }
      ]
    },
    {
      "cell_type": "code",
      "metadata": {
        "id": "zFSAj3gofgDR"
      },
      "source": [
        "# train_id = train['transaction_id']\n",
        "# train = train.drop('transaction_id',axis=1)\n",
        "# test_id = test['transaction_id']\n",
        "# test = test.drop('transaction_id', axis=1)"
      ],
      "execution_count": null,
      "outputs": []
    },
    {
      "cell_type": "markdown",
      "metadata": {
        "id": "Ejp8CR_OgVQe"
      },
      "source": [
        "## floor"
      ]
    },
    {
      "cell_type": "code",
      "metadata": {
        "colab": {
          "base_uri": "https://localhost:8080/",
          "height": 390
        },
        "id": "ZLk1IN5ef6D0",
        "outputId": "b13a8f47-bce1-411e-940a-d82c021d107f"
      },
      "source": [
        "\n",
        "f, ax = plt.subplots(figsize=(8,6))\n",
        "plt.scatter(train['floor'],train['transaction_real_price'])\n",
        "plt.xlabel('floor')\n",
        "plt.ylabel('transaction_real_price')\n",
        "plt.show()"
      ],
      "execution_count": null,
      "outputs": [
        {
          "output_type": "display_data",
          "data": {
            "image/png": "[encoded data removed]",
            "text/plain": [
              "<Figure size 576x432 with 1 Axes>"
            ]
          },
          "metadata": {
            "tags": [],
            "needs_background": "light"
          }
        }
      ]
    },
    {
      "cell_type": "code",
      "metadata": {
        "colab": {
          "base_uri": "https://localhost:8080/",
          "height": 462
        },
        "id": "rL3gasqHglig",
        "outputId": "e69a7a02-0283-4382-dff9-c43fab5ef6ea"
      },
      "source": [
        "f, ax = plt.subplots(figsize=(8,6))\n",
        "sns.distplot(train['floor'])\n",
        "print(\"Skewness: %f, Kurtosis: %f\", (train['floor'].skew(), train['floor'].kurt()))"
      ],
      "execution_count": null,
      "outputs": [
        {
          "output_type": "stream",
          "text": [
            "/usr/local/lib/python3.7/dist-packages/seaborn/distributions.py:2557: FutureWarning: `distplot` is a deprecated function and will be removed in a future version. Please adapt your code to use either `displot` (a figure-level function with similar flexibility) or `histplot` (an axes-level function for histograms).\n",
            "  warnings.warn(msg, FutureWarning)\n"
          ],
          "name": "stderr"
        },
        {
          "output_type": "stream",
          "text": [
            "Skewness: %f, Kurtosis: %f (1.3247097550477565, 3.7966033670123065)\n"
          ],
          "name": "stdout"
        },
        {
          "output_type": "display_data",
          "data": {
            "image/png": "[encoded data removed]",
            "text/plain": [
              "<Figure size 576x432 with 1 Axes>"
            ]
          },
          "metadata": {
            "tags": [],
            "needs_background": "light"
          }
        }
      ]
    },
    {
      "cell_type": "markdown",
      "metadata": {
        "id": "BgQw5mAwhIQ5"
      },
      "source": [
        "numerical variable 은 다른데이터와 비교를 해야하므로 왜도와 첨도 조정은 나중에 함."
      ]
    },
    {
      "cell_type": "markdown",
      "metadata": {
        "id": "sorbs_EKhVW9"
      },
      "source": [
        "## exclusive_use_area 전용\n",
        " 면적"
      ]
    },
    {
      "cell_type": "code",
      "metadata": {
        "colab": {
          "base_uri": "https://localhost:8080/"
        },
        "id": "O4zruwNQg-i2",
        "outputId": "e7b9e26d-68d9-4b7c-e86e-cfe7b0ee73d7"
      },
      "source": [
        "train['exclusive_use_area'].describe()"
      ],
      "execution_count": null,
      "outputs": [
        {
          "output_type": "execute_result",
          "data": {
            "text/plain": [
              "count    1.216553e+06\n",
              "mean     7.816549e+01\n",
              "std      2.915113e+01\n",
              "min      9.260000e+00\n",
              "25%      5.976000e+01\n",
              "50%      8.241000e+01\n",
              "75%      8.497000e+01\n",
              "max      4.243200e+02\n",
              "Name: exclusive_use_area, dtype: float64"
            ]
          },
          "metadata": {
            "tags": []
          },
          "execution_count": 21
        }
      ]
    },
    {
      "cell_type": "markdown",
      "metadata": {
        "id": "upS4F7BJhq5X"
      },
      "source": [
        "평균 : 78.16549 <br>\n",
        "표준편차 : 29.15113 <br>\n",
        "min : 9.26 <br> \n",
        "max : 424.32 <br>"
      ]
    },
    {
      "cell_type": "code",
      "metadata": {
        "colab": {
          "base_uri": "https://localhost:8080/",
          "height": 391
        },
        "id": "uqvFg0pXhglH",
        "outputId": "730c5267-5535-4933-c93b-c10a096c62fa"
      },
      "source": [
        "f, ax = plt.subplots(figsize=(8,6))\n",
        "plt.scatter(train['exclusive_use_area'], train['transaction_real_price'])\n",
        "plt.xlabel('exclusive_use_area')\n",
        "plt.ylabel('transaction_real_price')\n",
        "plt.show()"
      ],
      "execution_count": null,
      "outputs": [
        {
          "output_type": "display_data",
          "data": {
            "image/png": "[encoded data removed]",
            "text/plain": [
              "<Figure size 576x432 with 1 Axes>"
            ]
          },
          "metadata": {
            "tags": [],
            "needs_background": "light"
          }
        }
      ]
    },
    {
      "cell_type": "markdown",
      "metadata": {
        "id": "bu8h6NCYiLnw"
      },
      "source": [
        "이상치 탐지"
      ]
    },
    {
      "cell_type": "code",
      "metadata": {
        "colab": {
          "base_uri": "https://localhost:8080/",
          "height": 80
        },
        "id": "e3-Ad5UyiKmC",
        "outputId": "bed02a62-7ba5-41de-8985-2aac980113e2"
      },
      "source": [
        "train[train['exclusive_use_area']>400]"
      ],
      "execution_count": null,
      "outputs": [
        {
          "output_type": "execute_result",
          "data": {
            "text/html": [
              "<div>\n",
              "<style scoped>\n",
              "    .dataframe tbody tr th:only-of-type {\n",
              "        vertical-align: middle;\n",
              "    }\n",
              "\n",
              "    .dataframe tbody tr th {\n",
              "        vertical-align: top;\n",
              "    }\n",
              "\n",
              "    .dataframe thead th {\n",
              "        text-align: right;\n",
              "    }\n",
              "</style>\n",
              "<table border=\"1\" class=\"dataframe\">\n",
              "  <thead>\n",
              "    <tr style=\"text-align: right;\">\n",
              "      <th></th>\n",
              "      <th>transaction_id</th>\n",
              "      <th>apartment_id</th>\n",
              "      <th>city</th>\n",
              "      <th>dong</th>\n",
              "      <th>jibun</th>\n",
              "      <th>apt</th>\n",
              "      <th>addr_kr</th>\n",
              "      <th>exclusive_use_area</th>\n",
              "      <th>year_of_completion</th>\n",
              "      <th>transaction_year_month</th>\n",
              "      <th>transaction_date</th>\n",
              "      <th>floor</th>\n",
              "      <th>transaction_real_price</th>\n",
              "    </tr>\n",
              "  </thead>\n",
              "  <tbody>\n",
              "    <tr>\n",
              "      <th>563870</th>\n",
              "      <td>563870</td>\n",
              "      <td>12633</td>\n",
              "      <td>서울특별시</td>\n",
              "      <td>도곡동</td>\n",
              "      <td>193-1</td>\n",
              "      <td>힐데스하임빌라</td>\n",
              "      <td>도곡동 193-1 힐데스하임빌라</td>\n",
              "      <td>424.32</td>\n",
              "      <td>1998</td>\n",
              "      <td>201604</td>\n",
              "      <td>11~20</td>\n",
              "      <td>10</td>\n",
              "      <td>13.118357</td>\n",
              "    </tr>\n",
              "  </tbody>\n",
              "</table>\n",
              "</div>"
            ],
            "text/plain": [
              "        transaction_id  apartment_id  ... floor transaction_real_price\n",
              "563870          563870         12633  ...    10              13.118357\n",
              "\n",
              "[1 rows x 13 columns]"
            ]
          },
          "metadata": {
            "tags": []
          },
          "execution_count": 23
        }
      ]
    },
    {
      "cell_type": "code",
      "metadata": {
        "colab": {
          "base_uri": "https://localhost:8080/",
          "height": 111
        },
        "id": "DcAd54t3iWxp",
        "outputId": "052f8484-f1da-466a-ef9b-b3e1d5285b45"
      },
      "source": [
        "\n",
        "\n",
        "\n",
        "train[(train['exclusive_use_area']<150)& (train['transaction_real_price']<6)]"
      ],
      "execution_count": null,
      "outputs": [
        {
          "output_type": "execute_result",
          "data": {
            "text/html": [
              "<div>\n",
              "<style scoped>\n",
              "    .dataframe tbody tr th:only-of-type {\n",
              "        vertical-align: middle;\n",
              "    }\n",
              "\n",
              "    .dataframe tbody tr th {\n",
              "        vertical-align: top;\n",
              "    }\n",
              "\n",
              "    .dataframe thead th {\n",
              "        text-align: right;\n",
              "    }\n",
              "</style>\n",
              "<table border=\"1\" class=\"dataframe\">\n",
              "  <thead>\n",
              "    <tr style=\"text-align: right;\">\n",
              "      <th></th>\n",
              "      <th>transaction_id</th>\n",
              "      <th>apartment_id</th>\n",
              "      <th>city</th>\n",
              "      <th>dong</th>\n",
              "      <th>jibun</th>\n",
              "      <th>apt</th>\n",
              "      <th>addr_kr</th>\n",
              "      <th>exclusive_use_area</th>\n",
              "      <th>year_of_completion</th>\n",
              "      <th>transaction_year_month</th>\n",
              "      <th>transaction_date</th>\n",
              "      <th>floor</th>\n",
              "      <th>transaction_real_price</th>\n",
              "    </tr>\n",
              "  </thead>\n",
              "  <tbody>\n",
              "    <tr>\n",
              "      <th>312119</th>\n",
              "      <td>312119</td>\n",
              "      <td>10853</td>\n",
              "      <td>서울특별시</td>\n",
              "      <td>신월동</td>\n",
              "      <td>128</td>\n",
              "      <td>태헌(신월프라자)</td>\n",
              "      <td>신월동 128 태헌(신월프라자)</td>\n",
              "      <td>56.97</td>\n",
              "      <td>1999</td>\n",
              "      <td>201005</td>\n",
              "      <td>21~31</td>\n",
              "      <td>7</td>\n",
              "      <td>5.860786</td>\n",
              "    </tr>\n",
              "    <tr>\n",
              "      <th>722888</th>\n",
              "      <td>722888</td>\n",
              "      <td>6225</td>\n",
              "      <td>부산광역시</td>\n",
              "      <td>범전동</td>\n",
              "      <td>263-5</td>\n",
              "      <td>서면</td>\n",
              "      <td>범전동 263-5 서면</td>\n",
              "      <td>138.25</td>\n",
              "      <td>1974</td>\n",
              "      <td>201606</td>\n",
              "      <td>21~30</td>\n",
              "      <td>-1</td>\n",
              "      <td>4.615121</td>\n",
              "    </tr>\n",
              "  </tbody>\n",
              "</table>\n",
              "</div>"
            ],
            "text/plain": [
              "        transaction_id  apartment_id  ... floor transaction_real_price\n",
              "312119          312119         10853  ...     7               5.860786\n",
              "722888          722888          6225  ...    -1               4.615121\n",
              "\n",
              "[2 rows x 13 columns]"
            ]
          },
          "metadata": {
            "tags": []
          },
          "execution_count": 24
        }
      ]
    },
    {
      "cell_type": "code",
      "metadata": {
        "colab": {
          "base_uri": "https://localhost:8080/",
          "height": 463
        },
        "id": "z53yL079jYJS",
        "outputId": "368f9eb7-e02e-4155-8979-d678b366b46d"
      },
      "source": [
        "f, ax = plt.subplots(figsize = (8,6))\n",
        "sns.distplot(train['exclusive_use_area'])\n",
        "print(\"Skewness: %f, Kurtosis: %f\", (train['exclusive_use_area'].skew(), train['exclusive_use_area'].kurt()))"
      ],
      "execution_count": null,
      "outputs": [
        {
          "output_type": "stream",
          "text": [
            "/usr/local/lib/python3.7/dist-packages/seaborn/distributions.py:2557: FutureWarning: `distplot` is a deprecated function and will be removed in a future version. Please adapt your code to use either `displot` (a figure-level function with similar flexibility) or `histplot` (an axes-level function for histograms).\n",
            "  warnings.warn(msg, FutureWarning)\n"
          ],
          "name": "stderr"
        },
        {
          "output_type": "stream",
          "text": [
            "Skewness: %f, Kurtosis: %f (1.2275090586886344, 3.1005174479571935)\n"
          ],
          "name": "stdout"
        },
        {
          "output_type": "display_data",
          "data": {
            "image/png": "[encoded data removed]",
            "text/plain": [
              "<Figure size 576x432 with 1 Axes>"
            ]
          },
          "metadata": {
            "tags": [],
            "needs_background": "light"
          }
        }
      ]
    },
    {
      "cell_type": "markdown",
      "metadata": {
        "id": "9tvUraobjxRx"
      },
      "source": [
        "## transaction_year_month\n"
      ]
    },
    {
      "cell_type": "code",
      "metadata": {
        "id": "EeJqVN5njsXh"
      },
      "source": [
        "train_test_data = [train, test]\n",
        "\n",
        "for dataset in train_test_data:\n",
        "  dataset['transaction_year_month']= dataset['transaction_year_month'].astype(str)\n",
        "  dataset['year']=dataset['transaction_year_month'].str[:4].astype(int)\n",
        "  dataset['month']=dataset['transaction_year_month'].str[4:6].astype(int)\n",
        "  dataset['transaction_year_month']=dataset['transaction_year_month'].astype(int)"
      ],
      "execution_count": null,
      "outputs": []
    },
    {
      "cell_type": "code",
      "metadata": {
        "colab": {
          "base_uri": "https://localhost:8080/",
          "height": 446
        },
        "id": "zEqB6AHYkdi1",
        "outputId": "3a42d22f-71a6-4200-800e-09ac10b32b27"
      },
      "source": [
        "f, ax = plt.subplots(figsize=(8,6))\n",
        "sns.boxplot(train['year'], train['transaction_real_price'])\n",
        "plt.show()"
      ],
      "execution_count": null,
      "outputs": [
        {
          "output_type": "stream",
          "text": [
            "/usr/local/lib/python3.7/dist-packages/seaborn/_decorators.py:43: FutureWarning: Pass the following variables as keyword args: x, y. From version 0.12, the only valid positional argument will be `data`, and passing other arguments without an explicit keyword will result in an error or misinterpretation.\n",
            "  FutureWarning\n"
          ],
          "name": "stderr"
        },
        {
          "output_type": "display_data",
          "data": {
            "image/png": "[encoded data removed]",
            "text/plain": [
              "<Figure size 576x432 with 1 Axes>"
            ]
          },
          "metadata": {
            "tags": [],
            "needs_background": "light"
          }
        }
      ]
    },
    {
      "cell_type": "code",
      "metadata": {
        "colab": {
          "base_uri": "https://localhost:8080/",
          "height": 80
        },
        "id": "KnS67GAmknsu",
        "outputId": "11ea38e7-62e3-4eea-f1c0-9030f571bf45"
      },
      "source": [
        "\n",
        "train[(train['year']==2016)&(train['transaction_real_price']<6)]"
      ],
      "execution_count": null,
      "outputs": [
        {
          "output_type": "execute_result",
          "data": {
            "text/html": [
              "<div>\n",
              "<style scoped>\n",
              "    .dataframe tbody tr th:only-of-type {\n",
              "        vertical-align: middle;\n",
              "    }\n",
              "\n",
              "    .dataframe tbody tr th {\n",
              "        vertical-align: top;\n",
              "    }\n",
              "\n",
              "    .dataframe thead th {\n",
              "        text-align: right;\n",
              "    }\n",
              "</style>\n",
              "<table border=\"1\" class=\"dataframe\">\n",
              "  <thead>\n",
              "    <tr style=\"text-align: right;\">\n",
              "      <th></th>\n",
              "      <th>transaction_id</th>\n",
              "      <th>apartment_id</th>\n",
              "      <th>city</th>\n",
              "      <th>dong</th>\n",
              "      <th>jibun</th>\n",
              "      <th>apt</th>\n",
              "      <th>addr_kr</th>\n",
              "      <th>exclusive_use_area</th>\n",
              "      <th>year_of_completion</th>\n",
              "      <th>transaction_year_month</th>\n",
              "      <th>transaction_date</th>\n",
              "      <th>floor</th>\n",
              "      <th>transaction_real_price</th>\n",
              "      <th>year</th>\n",
              "      <th>month</th>\n",
              "    </tr>\n",
              "  </thead>\n",
              "  <tbody>\n",
              "    <tr>\n",
              "      <th>722888</th>\n",
              "      <td>722888</td>\n",
              "      <td>6225</td>\n",
              "      <td>부산광역시</td>\n",
              "      <td>범전동</td>\n",
              "      <td>263-5</td>\n",
              "      <td>서면</td>\n",
              "      <td>범전동 263-5 서면</td>\n",
              "      <td>138.25</td>\n",
              "      <td>1974</td>\n",
              "      <td>201606</td>\n",
              "      <td>21~30</td>\n",
              "      <td>-1</td>\n",
              "      <td>4.615121</td>\n",
              "      <td>2016</td>\n",
              "      <td>6</td>\n",
              "    </tr>\n",
              "  </tbody>\n",
              "</table>\n",
              "</div>"
            ],
            "text/plain": [
              "        transaction_id  apartment_id  ...  year month\n",
              "722888          722888          6225  ...  2016     6\n",
              "\n",
              "[1 rows x 15 columns]"
            ]
          },
          "metadata": {
            "tags": []
          },
          "execution_count": 28
        }
      ]
    },
    {
      "cell_type": "code",
      "metadata": {
        "colab": {
          "base_uri": "https://localhost:8080/",
          "height": 545
        },
        "id": "VQ2Sp5Wwkw6M",
        "outputId": "82daa250-3aab-4614-c3e4-84dbcee482b2"
      },
      "source": [
        "train[train['apt']=='서면']"
      ],
      "execution_count": null,
      "outputs": [
        {
          "output_type": "execute_result",
          "data": {
            "text/html": [
              "<div>\n",
              "<style scoped>\n",
              "    .dataframe tbody tr th:only-of-type {\n",
              "        vertical-align: middle;\n",
              "    }\n",
              "\n",
              "    .dataframe tbody tr th {\n",
              "        vertical-align: top;\n",
              "    }\n",
              "\n",
              "    .dataframe thead th {\n",
              "        text-align: right;\n",
              "    }\n",
              "</style>\n",
              "<table border=\"1\" class=\"dataframe\">\n",
              "  <thead>\n",
              "    <tr style=\"text-align: right;\">\n",
              "      <th></th>\n",
              "      <th>transaction_id</th>\n",
              "      <th>apartment_id</th>\n",
              "      <th>city</th>\n",
              "      <th>dong</th>\n",
              "      <th>jibun</th>\n",
              "      <th>apt</th>\n",
              "      <th>addr_kr</th>\n",
              "      <th>exclusive_use_area</th>\n",
              "      <th>year_of_completion</th>\n",
              "      <th>transaction_year_month</th>\n",
              "      <th>transaction_date</th>\n",
              "      <th>floor</th>\n",
              "      <th>transaction_real_price</th>\n",
              "      <th>year</th>\n",
              "      <th>month</th>\n",
              "    </tr>\n",
              "  </thead>\n",
              "  <tbody>\n",
              "    <tr>\n",
              "      <th>695725</th>\n",
              "      <td>695725</td>\n",
              "      <td>6238</td>\n",
              "      <td>부산광역시</td>\n",
              "      <td>전포동</td>\n",
              "      <td>산99-46</td>\n",
              "      <td>서면</td>\n",
              "      <td>전포동 산99-46 서면</td>\n",
              "      <td>57.59</td>\n",
              "      <td>1976</td>\n",
              "      <td>201105</td>\n",
              "      <td>21~31</td>\n",
              "      <td>3</td>\n",
              "      <td>8.682877</td>\n",
              "      <td>2011</td>\n",
              "      <td>5</td>\n",
              "    </tr>\n",
              "    <tr>\n",
              "      <th>696834</th>\n",
              "      <td>696834</td>\n",
              "      <td>6238</td>\n",
              "      <td>부산광역시</td>\n",
              "      <td>전포동</td>\n",
              "      <td>산99-46</td>\n",
              "      <td>서면</td>\n",
              "      <td>전포동 산99-46 서면</td>\n",
              "      <td>57.59</td>\n",
              "      <td>1976</td>\n",
              "      <td>201108</td>\n",
              "      <td>21~31</td>\n",
              "      <td>1</td>\n",
              "      <td>8.922792</td>\n",
              "      <td>2011</td>\n",
              "      <td>8</td>\n",
              "    </tr>\n",
              "    <tr>\n",
              "      <th>700884</th>\n",
              "      <td>700884</td>\n",
              "      <td>6225</td>\n",
              "      <td>부산광역시</td>\n",
              "      <td>범전동</td>\n",
              "      <td>263-5</td>\n",
              "      <td>서면</td>\n",
              "      <td>범전동 263-5 서면</td>\n",
              "      <td>88.93</td>\n",
              "      <td>1974</td>\n",
              "      <td>201206</td>\n",
              "      <td>1~10</td>\n",
              "      <td>1</td>\n",
              "      <td>10.126671</td>\n",
              "      <td>2012</td>\n",
              "      <td>6</td>\n",
              "    </tr>\n",
              "    <tr>\n",
              "      <th>702589</th>\n",
              "      <td>702589</td>\n",
              "      <td>6238</td>\n",
              "      <td>부산광역시</td>\n",
              "      <td>전포동</td>\n",
              "      <td>산99-46</td>\n",
              "      <td>서면</td>\n",
              "      <td>전포동 산99-46 서면</td>\n",
              "      <td>57.59</td>\n",
              "      <td>1976</td>\n",
              "      <td>201212</td>\n",
              "      <td>21~31</td>\n",
              "      <td>5</td>\n",
              "      <td>8.699681</td>\n",
              "      <td>2012</td>\n",
              "      <td>12</td>\n",
              "    </tr>\n",
              "    <tr>\n",
              "      <th>702876</th>\n",
              "      <td>702876</td>\n",
              "      <td>6238</td>\n",
              "      <td>부산광역시</td>\n",
              "      <td>전포동</td>\n",
              "      <td>산99-46</td>\n",
              "      <td>서면</td>\n",
              "      <td>전포동 산99-46 서면</td>\n",
              "      <td>57.59</td>\n",
              "      <td>1976</td>\n",
              "      <td>201301</td>\n",
              "      <td>11~20</td>\n",
              "      <td>4</td>\n",
              "      <td>8.909370</td>\n",
              "      <td>2013</td>\n",
              "      <td>1</td>\n",
              "    </tr>\n",
              "    <tr>\n",
              "      <th>703979</th>\n",
              "      <td>703979</td>\n",
              "      <td>6238</td>\n",
              "      <td>부산광역시</td>\n",
              "      <td>전포동</td>\n",
              "      <td>산99-46</td>\n",
              "      <td>서면</td>\n",
              "      <td>전포동 산99-46 서면</td>\n",
              "      <td>57.59</td>\n",
              "      <td>1976</td>\n",
              "      <td>201304</td>\n",
              "      <td>1~10</td>\n",
              "      <td>1</td>\n",
              "      <td>8.853808</td>\n",
              "      <td>2013</td>\n",
              "      <td>4</td>\n",
              "    </tr>\n",
              "    <tr>\n",
              "      <th>711024</th>\n",
              "      <td>711024</td>\n",
              "      <td>6238</td>\n",
              "      <td>부산광역시</td>\n",
              "      <td>전포동</td>\n",
              "      <td>산99-46</td>\n",
              "      <td>서면</td>\n",
              "      <td>전포동 산99-46 서면</td>\n",
              "      <td>57.59</td>\n",
              "      <td>1976</td>\n",
              "      <td>201407</td>\n",
              "      <td>21~31</td>\n",
              "      <td>5</td>\n",
              "      <td>8.853808</td>\n",
              "      <td>2014</td>\n",
              "      <td>7</td>\n",
              "    </tr>\n",
              "    <tr>\n",
              "      <th>712441</th>\n",
              "      <td>712441</td>\n",
              "      <td>6238</td>\n",
              "      <td>부산광역시</td>\n",
              "      <td>전포동</td>\n",
              "      <td>산99-46</td>\n",
              "      <td>서면</td>\n",
              "      <td>전포동 산99-46 서면</td>\n",
              "      <td>57.59</td>\n",
              "      <td>1976</td>\n",
              "      <td>201410</td>\n",
              "      <td>21~31</td>\n",
              "      <td>3</td>\n",
              "      <td>9.082621</td>\n",
              "      <td>2014</td>\n",
              "      <td>10</td>\n",
              "    </tr>\n",
              "    <tr>\n",
              "      <th>713864</th>\n",
              "      <td>713864</td>\n",
              "      <td>6238</td>\n",
              "      <td>부산광역시</td>\n",
              "      <td>전포동</td>\n",
              "      <td>산99-46</td>\n",
              "      <td>서면</td>\n",
              "      <td>전포동 산99-46 서면</td>\n",
              "      <td>57.59</td>\n",
              "      <td>1976</td>\n",
              "      <td>201501</td>\n",
              "      <td>1~10</td>\n",
              "      <td>4</td>\n",
              "      <td>8.955577</td>\n",
              "      <td>2015</td>\n",
              "      <td>1</td>\n",
              "    </tr>\n",
              "    <tr>\n",
              "      <th>721684</th>\n",
              "      <td>721684</td>\n",
              "      <td>6238</td>\n",
              "      <td>부산광역시</td>\n",
              "      <td>전포동</td>\n",
              "      <td>산99-46</td>\n",
              "      <td>서면</td>\n",
              "      <td>전포동 산99-46 서면</td>\n",
              "      <td>57.59</td>\n",
              "      <td>1976</td>\n",
              "      <td>201604</td>\n",
              "      <td>1~10</td>\n",
              "      <td>1</td>\n",
              "      <td>9.059634</td>\n",
              "      <td>2016</td>\n",
              "      <td>4</td>\n",
              "    </tr>\n",
              "    <tr>\n",
              "      <th>722888</th>\n",
              "      <td>722888</td>\n",
              "      <td>6225</td>\n",
              "      <td>부산광역시</td>\n",
              "      <td>범전동</td>\n",
              "      <td>263-5</td>\n",
              "      <td>서면</td>\n",
              "      <td>범전동 263-5 서면</td>\n",
              "      <td>138.25</td>\n",
              "      <td>1974</td>\n",
              "      <td>201606</td>\n",
              "      <td>21~30</td>\n",
              "      <td>-1</td>\n",
              "      <td>4.615121</td>\n",
              "      <td>2016</td>\n",
              "      <td>6</td>\n",
              "    </tr>\n",
              "    <tr>\n",
              "      <th>723957</th>\n",
              "      <td>723957</td>\n",
              "      <td>6225</td>\n",
              "      <td>부산광역시</td>\n",
              "      <td>범전동</td>\n",
              "      <td>263-5</td>\n",
              "      <td>서면</td>\n",
              "      <td>범전동 263-5 서면</td>\n",
              "      <td>55.04</td>\n",
              "      <td>1974</td>\n",
              "      <td>201608</td>\n",
              "      <td>21~31</td>\n",
              "      <td>2</td>\n",
              "      <td>10.051951</td>\n",
              "      <td>2016</td>\n",
              "      <td>8</td>\n",
              "    </tr>\n",
              "    <tr>\n",
              "      <th>726597</th>\n",
              "      <td>726597</td>\n",
              "      <td>6238</td>\n",
              "      <td>부산광역시</td>\n",
              "      <td>전포동</td>\n",
              "      <td>산99-46</td>\n",
              "      <td>서면</td>\n",
              "      <td>전포동 산99-46 서면</td>\n",
              "      <td>57.59</td>\n",
              "      <td>1976</td>\n",
              "      <td>201612</td>\n",
              "      <td>11~20</td>\n",
              "      <td>4</td>\n",
              "      <td>8.802522</td>\n",
              "      <td>2016</td>\n",
              "      <td>12</td>\n",
              "    </tr>\n",
              "    <tr>\n",
              "      <th>1186983</th>\n",
              "      <td>1200815</td>\n",
              "      <td>6225</td>\n",
              "      <td>부산광역시</td>\n",
              "      <td>범전동</td>\n",
              "      <td>263-5</td>\n",
              "      <td>서면</td>\n",
              "      <td>범전동 263-5 서면</td>\n",
              "      <td>34.08</td>\n",
              "      <td>1974</td>\n",
              "      <td>201702</td>\n",
              "      <td>11~20</td>\n",
              "      <td>1</td>\n",
              "      <td>9.705098</td>\n",
              "      <td>2017</td>\n",
              "      <td>2</td>\n",
              "    </tr>\n",
              "    <tr>\n",
              "      <th>1189112</th>\n",
              "      <td>1202989</td>\n",
              "      <td>6238</td>\n",
              "      <td>부산광역시</td>\n",
              "      <td>전포동</td>\n",
              "      <td>산99-46</td>\n",
              "      <td>서면</td>\n",
              "      <td>전포동 산99-46 서면</td>\n",
              "      <td>57.59</td>\n",
              "      <td>1976</td>\n",
              "      <td>201706</td>\n",
              "      <td>21~30</td>\n",
              "      <td>3</td>\n",
              "      <td>9.137877</td>\n",
              "      <td>2017</td>\n",
              "      <td>6</td>\n",
              "    </tr>\n",
              "    <tr>\n",
              "      <th>1189212</th>\n",
              "      <td>1203105</td>\n",
              "      <td>6225</td>\n",
              "      <td>부산광역시</td>\n",
              "      <td>범전동</td>\n",
              "      <td>263-5</td>\n",
              "      <td>서면</td>\n",
              "      <td>범전동 263-5 서면</td>\n",
              "      <td>54.15</td>\n",
              "      <td>1974</td>\n",
              "      <td>201706</td>\n",
              "      <td>1~10</td>\n",
              "      <td>5</td>\n",
              "      <td>10.173553</td>\n",
              "      <td>2017</td>\n",
              "      <td>6</td>\n",
              "    </tr>\n",
              "  </tbody>\n",
              "</table>\n",
              "</div>"
            ],
            "text/plain": [
              "         transaction_id  apartment_id  ...  year month\n",
              "695725           695725          6238  ...  2011     5\n",
              "696834           696834          6238  ...  2011     8\n",
              "700884           700884          6225  ...  2012     6\n",
              "702589           702589          6238  ...  2012    12\n",
              "702876           702876          6238  ...  2013     1\n",
              "703979           703979          6238  ...  2013     4\n",
              "711024           711024          6238  ...  2014     7\n",
              "712441           712441          6238  ...  2014    10\n",
              "713864           713864          6238  ...  2015     1\n",
              "721684           721684          6238  ...  2016     4\n",
              "722888           722888          6225  ...  2016     6\n",
              "723957           723957          6225  ...  2016     8\n",
              "726597           726597          6238  ...  2016    12\n",
              "1186983         1200815          6225  ...  2017     2\n",
              "1189112         1202989          6238  ...  2017     6\n",
              "1189212         1203105          6225  ...  2017     6\n",
              "\n",
              "[16 rows x 15 columns]"
            ]
          },
          "metadata": {
            "tags": []
          },
          "execution_count": 29
        }
      ]
    },
    {
      "cell_type": "code",
      "metadata": {
        "colab": {
          "base_uri": "https://localhost:8080/",
          "height": 589
        },
        "id": "bo1TPLJilAXL",
        "outputId": "0c171b80-2f6c-4b24-d695-c6c8a7dd86a2"
      },
      "source": [
        "train[train['floor']==-1].sort_values('transaction_real_price')"
      ],
      "execution_count": null,
      "outputs": [
        {
          "output_type": "execute_result",
          "data": {
            "text/html": [
              "<div>\n",
              "<style scoped>\n",
              "    .dataframe tbody tr th:only-of-type {\n",
              "        vertical-align: middle;\n",
              "    }\n",
              "\n",
              "    .dataframe tbody tr th {\n",
              "        vertical-align: top;\n",
              "    }\n",
              "\n",
              "    .dataframe thead th {\n",
              "        text-align: right;\n",
              "    }\n",
              "</style>\n",
              "<table border=\"1\" class=\"dataframe\">\n",
              "  <thead>\n",
              "    <tr style=\"text-align: right;\">\n",
              "      <th></th>\n",
              "      <th>transaction_id</th>\n",
              "      <th>apartment_id</th>\n",
              "      <th>city</th>\n",
              "      <th>dong</th>\n",
              "      <th>jibun</th>\n",
              "      <th>apt</th>\n",
              "      <th>addr_kr</th>\n",
              "      <th>exclusive_use_area</th>\n",
              "      <th>year_of_completion</th>\n",
              "      <th>transaction_year_month</th>\n",
              "      <th>transaction_date</th>\n",
              "      <th>floor</th>\n",
              "      <th>transaction_real_price</th>\n",
              "      <th>year</th>\n",
              "      <th>month</th>\n",
              "    </tr>\n",
              "  </thead>\n",
              "  <tbody>\n",
              "    <tr>\n",
              "      <th>722888</th>\n",
              "      <td>722888</td>\n",
              "      <td>6225</td>\n",
              "      <td>부산광역시</td>\n",
              "      <td>범전동</td>\n",
              "      <td>263-5</td>\n",
              "      <td>서면</td>\n",
              "      <td>범전동 263-5 서면</td>\n",
              "      <td>138.250</td>\n",
              "      <td>1974</td>\n",
              "      <td>201606</td>\n",
              "      <td>21~30</td>\n",
              "      <td>-1</td>\n",
              "      <td>4.615121</td>\n",
              "      <td>2016</td>\n",
              "      <td>6</td>\n",
              "    </tr>\n",
              "    <tr>\n",
              "      <th>651052</th>\n",
              "      <td>651052</td>\n",
              "      <td>1514</td>\n",
              "      <td>부산광역시</td>\n",
              "      <td>대청동4가</td>\n",
              "      <td>75-176</td>\n",
              "      <td>근영빌라2동</td>\n",
              "      <td>대청동4가 75-176 근영빌라2동</td>\n",
              "      <td>47.170</td>\n",
              "      <td>1996</td>\n",
              "      <td>200809</td>\n",
              "      <td>21~30</td>\n",
              "      <td>-1</td>\n",
              "      <td>7.170888</td>\n",
              "      <td>2008</td>\n",
              "      <td>9</td>\n",
              "    </tr>\n",
              "    <tr>\n",
              "      <th>651087</th>\n",
              "      <td>651087</td>\n",
              "      <td>1513</td>\n",
              "      <td>부산광역시</td>\n",
              "      <td>대청동4가</td>\n",
              "      <td>75-181</td>\n",
              "      <td>근영빌라1동</td>\n",
              "      <td>대청동4가 75-181 근영빌라1동</td>\n",
              "      <td>59.890</td>\n",
              "      <td>1996</td>\n",
              "      <td>200810</td>\n",
              "      <td>11~20</td>\n",
              "      <td>-1</td>\n",
              "      <td>7.824446</td>\n",
              "      <td>2008</td>\n",
              "      <td>10</td>\n",
              "    </tr>\n",
              "    <tr>\n",
              "      <th>651641</th>\n",
              "      <td>651641</td>\n",
              "      <td>1514</td>\n",
              "      <td>부산광역시</td>\n",
              "      <td>대청동4가</td>\n",
              "      <td>75-176</td>\n",
              "      <td>근영빌라2동</td>\n",
              "      <td>대청동4가 75-176 근영빌라2동</td>\n",
              "      <td>47.170</td>\n",
              "      <td>1996</td>\n",
              "      <td>201101</td>\n",
              "      <td>21~31</td>\n",
              "      <td>-1</td>\n",
              "      <td>8.071219</td>\n",
              "      <td>2011</td>\n",
              "      <td>1</td>\n",
              "    </tr>\n",
              "    <tr>\n",
              "      <th>674249</th>\n",
              "      <td>674249</td>\n",
              "      <td>9764</td>\n",
              "      <td>부산광역시</td>\n",
              "      <td>동삼동</td>\n",
              "      <td>213-19</td>\n",
              "      <td>조은아크로빌</td>\n",
              "      <td>동삼동 213-19 조은아크로빌</td>\n",
              "      <td>46.800</td>\n",
              "      <td>2001</td>\n",
              "      <td>201506</td>\n",
              "      <td>11~20</td>\n",
              "      <td>-1</td>\n",
              "      <td>8.160804</td>\n",
              "      <td>2015</td>\n",
              "      <td>6</td>\n",
              "    </tr>\n",
              "    <tr>\n",
              "      <th>...</th>\n",
              "      <td>...</td>\n",
              "      <td>...</td>\n",
              "      <td>...</td>\n",
              "      <td>...</td>\n",
              "      <td>...</td>\n",
              "      <td>...</td>\n",
              "      <td>...</td>\n",
              "      <td>...</td>\n",
              "      <td>...</td>\n",
              "      <td>...</td>\n",
              "      <td>...</td>\n",
              "      <td>...</td>\n",
              "      <td>...</td>\n",
              "      <td>...</td>\n",
              "      <td>...</td>\n",
              "    </tr>\n",
              "    <tr>\n",
              "      <th>537384</th>\n",
              "      <td>537384</td>\n",
              "      <td>10310</td>\n",
              "      <td>서울특별시</td>\n",
              "      <td>청담동</td>\n",
              "      <td>102-13</td>\n",
              "      <td>청담파라곤Ⅱ 2단지</td>\n",
              "      <td>청담동 102-13 청담파라곤Ⅱ 2단지</td>\n",
              "      <td>241.880</td>\n",
              "      <td>2010</td>\n",
              "      <td>201012</td>\n",
              "      <td>11~20</td>\n",
              "      <td>-1</td>\n",
              "      <td>12.577640</td>\n",
              "      <td>2010</td>\n",
              "      <td>12</td>\n",
              "    </tr>\n",
              "    <tr>\n",
              "      <th>1095417</th>\n",
              "      <td>1095753</td>\n",
              "      <td>11320</td>\n",
              "      <td>서울특별시</td>\n",
              "      <td>한남동</td>\n",
              "      <td>810</td>\n",
              "      <td>한남더힐</td>\n",
              "      <td>한남동 810 한남더힐</td>\n",
              "      <td>212.524</td>\n",
              "      <td>2011</td>\n",
              "      <td>201705</td>\n",
              "      <td>21~31</td>\n",
              "      <td>-1</td>\n",
              "      <td>13.081543</td>\n",
              "      <td>2017</td>\n",
              "      <td>5</td>\n",
              "    </tr>\n",
              "    <tr>\n",
              "      <th>1095416</th>\n",
              "      <td>1095752</td>\n",
              "      <td>11320</td>\n",
              "      <td>서울특별시</td>\n",
              "      <td>한남동</td>\n",
              "      <td>810</td>\n",
              "      <td>한남더힐</td>\n",
              "      <td>한남동 810 한남더힐</td>\n",
              "      <td>212.524</td>\n",
              "      <td>2011</td>\n",
              "      <td>201705</td>\n",
              "      <td>21~31</td>\n",
              "      <td>-1</td>\n",
              "      <td>13.102163</td>\n",
              "      <td>2017</td>\n",
              "      <td>5</td>\n",
              "    </tr>\n",
              "    <tr>\n",
              "      <th>23585</th>\n",
              "      <td>23585</td>\n",
              "      <td>11320</td>\n",
              "      <td>서울특별시</td>\n",
              "      <td>한남동</td>\n",
              "      <td>810</td>\n",
              "      <td>한남더힐</td>\n",
              "      <td>한남동 810 한남더힐</td>\n",
              "      <td>240.230</td>\n",
              "      <td>2011</td>\n",
              "      <td>201612</td>\n",
              "      <td>1~10</td>\n",
              "      <td>-1</td>\n",
              "      <td>13.204866</td>\n",
              "      <td>2016</td>\n",
              "      <td>12</td>\n",
              "    </tr>\n",
              "    <tr>\n",
              "      <th>23376</th>\n",
              "      <td>23376</td>\n",
              "      <td>11320</td>\n",
              "      <td>서울특별시</td>\n",
              "      <td>한남동</td>\n",
              "      <td>810</td>\n",
              "      <td>한남더힐</td>\n",
              "      <td>한남동 810 한남더힐</td>\n",
              "      <td>240.230</td>\n",
              "      <td>2011</td>\n",
              "      <td>201610</td>\n",
              "      <td>11~20</td>\n",
              "      <td>-1</td>\n",
              "      <td>13.262127</td>\n",
              "      <td>2016</td>\n",
              "      <td>10</td>\n",
              "    </tr>\n",
              "  </tbody>\n",
              "</table>\n",
              "<p>140 rows × 15 columns</p>\n",
              "</div>"
            ],
            "text/plain": [
              "         transaction_id  apartment_id  ...  year month\n",
              "722888           722888          6225  ...  2016     6\n",
              "651052           651052          1514  ...  2008     9\n",
              "651087           651087          1513  ...  2008    10\n",
              "651641           651641          1514  ...  2011     1\n",
              "674249           674249          9764  ...  2015     6\n",
              "...                 ...           ...  ...   ...   ...\n",
              "537384           537384         10310  ...  2010    12\n",
              "1095417         1095753         11320  ...  2017     5\n",
              "1095416         1095752         11320  ...  2017     5\n",
              "23585             23585         11320  ...  2016    12\n",
              "23376             23376         11320  ...  2016    10\n",
              "\n",
              "[140 rows x 15 columns]"
            ]
          },
          "metadata": {
            "tags": []
          },
          "execution_count": 30
        }
      ]
    },
    {
      "cell_type": "code",
      "metadata": {
        "colab": {
          "base_uri": "https://localhost:8080/",
          "height": 241
        },
        "id": "z2qRJud2lNJf",
        "outputId": "9df3803e-cc1a-466c-b961-4283bacc104a"
      },
      "source": [
        "train[train['apt']=='근영빌라1동'].sort_values('floor')"
      ],
      "execution_count": null,
      "outputs": [
        {
          "output_type": "execute_result",
          "data": {
            "text/html": [
              "<div>\n",
              "<style scoped>\n",
              "    .dataframe tbody tr th:only-of-type {\n",
              "        vertical-align: middle;\n",
              "    }\n",
              "\n",
              "    .dataframe tbody tr th {\n",
              "        vertical-align: top;\n",
              "    }\n",
              "\n",
              "    .dataframe thead th {\n",
              "        text-align: right;\n",
              "    }\n",
              "</style>\n",
              "<table border=\"1\" class=\"dataframe\">\n",
              "  <thead>\n",
              "    <tr style=\"text-align: right;\">\n",
              "      <th></th>\n",
              "      <th>transaction_id</th>\n",
              "      <th>apartment_id</th>\n",
              "      <th>city</th>\n",
              "      <th>dong</th>\n",
              "      <th>jibun</th>\n",
              "      <th>apt</th>\n",
              "      <th>addr_kr</th>\n",
              "      <th>exclusive_use_area</th>\n",
              "      <th>year_of_completion</th>\n",
              "      <th>transaction_year_month</th>\n",
              "      <th>transaction_date</th>\n",
              "      <th>floor</th>\n",
              "      <th>transaction_real_price</th>\n",
              "      <th>year</th>\n",
              "      <th>month</th>\n",
              "    </tr>\n",
              "  </thead>\n",
              "  <tbody>\n",
              "    <tr>\n",
              "      <th>651087</th>\n",
              "      <td>651087</td>\n",
              "      <td>1513</td>\n",
              "      <td>부산광역시</td>\n",
              "      <td>대청동4가</td>\n",
              "      <td>75-181</td>\n",
              "      <td>근영빌라1동</td>\n",
              "      <td>대청동4가 75-181 근영빌라1동</td>\n",
              "      <td>59.89</td>\n",
              "      <td>1996</td>\n",
              "      <td>200810</td>\n",
              "      <td>11~20</td>\n",
              "      <td>-1</td>\n",
              "      <td>7.824446</td>\n",
              "      <td>2008</td>\n",
              "      <td>10</td>\n",
              "    </tr>\n",
              "    <tr>\n",
              "      <th>651599</th>\n",
              "      <td>651599</td>\n",
              "      <td>1513</td>\n",
              "      <td>부산광역시</td>\n",
              "      <td>대청동4가</td>\n",
              "      <td>75-181</td>\n",
              "      <td>근영빌라1동</td>\n",
              "      <td>대청동4가 75-181 근영빌라1동</td>\n",
              "      <td>54.73</td>\n",
              "      <td>1996</td>\n",
              "      <td>201011</td>\n",
              "      <td>1~10</td>\n",
              "      <td>1</td>\n",
              "      <td>8.216358</td>\n",
              "      <td>2010</td>\n",
              "      <td>11</td>\n",
              "    </tr>\n",
              "    <tr>\n",
              "      <th>652009</th>\n",
              "      <td>652009</td>\n",
              "      <td>1513</td>\n",
              "      <td>부산광역시</td>\n",
              "      <td>대청동4가</td>\n",
              "      <td>75-181</td>\n",
              "      <td>근영빌라1동</td>\n",
              "      <td>대청동4가 75-181 근영빌라1동</td>\n",
              "      <td>51.83</td>\n",
              "      <td>1996</td>\n",
              "      <td>201210</td>\n",
              "      <td>21~31</td>\n",
              "      <td>5</td>\n",
              "      <td>8.824825</td>\n",
              "      <td>2012</td>\n",
              "      <td>10</td>\n",
              "    </tr>\n",
              "    <tr>\n",
              "      <th>652591</th>\n",
              "      <td>652591</td>\n",
              "      <td>1513</td>\n",
              "      <td>부산광역시</td>\n",
              "      <td>대청동4가</td>\n",
              "      <td>75-181</td>\n",
              "      <td>근영빌라1동</td>\n",
              "      <td>대청동4가 75-181 근영빌라1동</td>\n",
              "      <td>59.89</td>\n",
              "      <td>1996</td>\n",
              "      <td>201508</td>\n",
              "      <td>1~10</td>\n",
              "      <td>5</td>\n",
              "      <td>9.169623</td>\n",
              "      <td>2015</td>\n",
              "      <td>8</td>\n",
              "    </tr>\n",
              "  </tbody>\n",
              "</table>\n",
              "</div>"
            ],
            "text/plain": [
              "        transaction_id  apartment_id  ...  year month\n",
              "651087          651087          1513  ...  2008    10\n",
              "651599          651599          1513  ...  2010    11\n",
              "652009          652009          1513  ...  2012    10\n",
              "652591          652591          1513  ...  2015     8\n",
              "\n",
              "[4 rows x 15 columns]"
            ]
          },
          "metadata": {
            "tags": []
          },
          "execution_count": 31
        }
      ]
    },
    {
      "cell_type": "code",
      "metadata": {
        "colab": {
          "base_uri": "https://localhost:8080/",
          "height": 446
        },
        "id": "CEiTI90VlyMS",
        "outputId": "60c6f88f-5e92-4c7d-a05a-37b01be8b18c"
      },
      "source": [
        "f, ax = plt.subplots(figsize=(8,6))\n",
        "sns.boxplot(train['month'], train['transaction_real_price'])\n",
        "plt.show()"
      ],
      "execution_count": null,
      "outputs": [
        {
          "output_type": "stream",
          "text": [
            "/usr/local/lib/python3.7/dist-packages/seaborn/_decorators.py:43: FutureWarning: Pass the following variables as keyword args: x, y. From version 0.12, the only valid positional argument will be `data`, and passing other arguments without an explicit keyword will result in an error or misinterpretation.\n",
            "  FutureWarning\n"
          ],
          "name": "stderr"
        },
        {
          "output_type": "display_data",
          "data": {
            "image/png": "[encoded data removed]",
            "text/plain": [
              "<Figure size 576x432 with 1 Axes>"
            ]
          },
          "metadata": {
            "tags": [],
            "needs_background": "light"
          }
        }
      ]
    },
    {
      "cell_type": "markdown",
      "metadata": {
        "id": "e26vFV07mKo1"
      },
      "source": [
        "## year_of_completion"
      ]
    },
    {
      "cell_type": "code",
      "metadata": {
        "colab": {
          "base_uri": "https://localhost:8080/",
          "height": 447
        },
        "id": "AEK6sn_7mDj1",
        "outputId": "8712575a-4a18-4106-9622-82e07d395042"
      },
      "source": [
        "f, ax = plt.subplots(figsize=(30,6))\n",
        "sns.boxplot(train['year_of_completion'], train['transaction_real_price'])\n",
        "plt.show()"
      ],
      "execution_count": null,
      "outputs": [
        {
          "output_type": "stream",
          "text": [
            "/usr/local/lib/python3.7/dist-packages/seaborn/_decorators.py:43: FutureWarning: Pass the following variables as keyword args: x, y. From version 0.12, the only valid positional argument will be `data`, and passing other arguments without an explicit keyword will result in an error or misinterpretation.\n",
            "  FutureWarning\n"
          ],
          "name": "stderr"
        },
        {
          "output_type": "display_data",
          "data": {
            "image/png": "[encoded data removed]",
            "text/plain": [
              "<Figure size 2160x432 with 1 Axes>"
            ]
          },
          "metadata": {
            "tags": [],
            "needs_background": "light"
          }
        }
      ]
    },
    {
      "cell_type": "markdown",
      "metadata": {
        "id": "mf7-wnBwmbmZ"
      },
      "source": [
        "# Catergorical Variable\n",
        "\n"
      ]
    },
    {
      "cell_type": "markdown",
      "metadata": {
        "id": "dFMxuRdBmt1z"
      },
      "source": [
        "## City\n"
      ]
    },
    {
      "cell_type": "code",
      "metadata": {
        "id": "HCkenDpcmXvm"
      },
      "source": [
        "replace_name ={'서울특별시':0, '부산광역시':1}\n",
        "train = train.replace({'City':replace_name})\n",
        "test = test.replace({'City':replace_name})"
      ],
      "execution_count": null,
      "outputs": []
    },
    {
      "cell_type": "code",
      "metadata": {
        "colab": {
          "base_uri": "https://localhost:8080/",
          "height": 446
        },
        "id": "PggOzVcqnDRV",
        "outputId": "cf537e80-f4a9-4aae-a29f-dc077de13d9b"
      },
      "source": [
        "f, ax = plt.subplots(figsize = (8,6))\n",
        "sns.boxplot(train['city'], train['transaction_real_price'])\n",
        "plt.show()"
      ],
      "execution_count": null,
      "outputs": [
        {
          "output_type": "stream",
          "text": [
            "/usr/local/lib/python3.7/dist-packages/seaborn/_decorators.py:43: FutureWarning: Pass the following variables as keyword args: x, y. From version 0.12, the only valid positional argument will be `data`, and passing other arguments without an explicit keyword will result in an error or misinterpretation.\n",
            "  FutureWarning\n"
          ],
          "name": "stderr"
        },
        {
          "output_type": "display_data",
          "data": {
            "image/png": "[encoded data removed]",
            "text/plain": [
              "<Figure size 576x432 with 1 Axes>"
            ]
          },
          "metadata": {
            "tags": [],
            "needs_background": "light"
          }
        }
      ]
    },
    {
      "cell_type": "code",
      "metadata": {
        "colab": {
          "base_uri": "https://localhost:8080/",
          "height": 444
        },
        "id": "SxISLpFspaTh",
        "outputId": "c1b15bbe-46a8-4ba0-d737-4d8dcf44dd58"
      },
      "source": [
        "f, ax = plt.subplots(figsize = (8,6))\n",
        "sns.countplot(train['city'])\n",
        "plt.show()"
      ],
      "execution_count": null,
      "outputs": [
        {
          "output_type": "stream",
          "text": [
            "/usr/local/lib/python3.7/dist-packages/seaborn/_decorators.py:43: FutureWarning: Pass the following variable as a keyword arg: x. From version 0.12, the only valid positional argument will be `data`, and passing other arguments without an explicit keyword will result in an error or misinterpretation.\n",
            "  FutureWarning\n"
          ],
          "name": "stderr"
        },
        {
          "output_type": "display_data",
          "data": {
            "image/png": "[encoded data removed]",
            "text/plain": [
              "<Figure size 576x432 with 1 Axes>"
            ]
          },
          "metadata": {
            "tags": [],
            "needs_background": "light"
          }
        }
      ]
    },
    {
      "cell_type": "markdown",
      "metadata": {
        "id": "ogNfCoSyqieK"
      },
      "source": [
        "## addr_kr 동,지번,아파트 단지 이름 합친것 필요없으니 삭제"
      ]
    },
    {
      "cell_type": "code",
      "metadata": {
        "id": "nbBYP-fupj5V"
      },
      "source": [
        "train = train.drop('addr_kr', axis=1)\n",
        "test = test.drop('addr_kr', axis=1)"
      ],
      "execution_count": null,
      "outputs": []
    },
    {
      "cell_type": "markdown",
      "metadata": {
        "id": "-g0jzU2arQOQ"
      },
      "source": [
        "## 한강 feature 만들기"
      ]
    },
    {
      "cell_type": "code",
      "metadata": {
        "id": "jHu-MIgRqrst"
      },
      "source": [
        "train['hangang']=train['dong'].isin(['성수동1가','삼성동','이촌동','공덕동','서교동','한강로3가','목동']).astype(int)\n",
        "test['hangang']=test['dong'].isin(['성수동1가','삼성동','이촌동','공덕동','서교동','한강로3가','목동']).astype(int)"
      ],
      "execution_count": null,
      "outputs": []
    },
    {
      "cell_type": "code",
      "metadata": {
        "colab": {
          "base_uri": "https://localhost:8080/"
        },
        "id": "zGFI4pAdrVgX",
        "outputId": "566855ae-c3a7-48fc-ec93-1bfe5207e228"
      },
      "source": [
        "len(train['dong'].unique())"
      ],
      "execution_count": null,
      "outputs": [
        {
          "output_type": "execute_result",
          "data": {
            "text/plain": [
              "473"
            ]
          },
          "metadata": {
            "tags": []
          },
          "execution_count": 39
        }
      ]
    },
    {
      "cell_type": "code",
      "metadata": {
        "colab": {
          "base_uri": "https://localhost:8080/",
          "height": 419
        },
        "id": "L4-tvDU9rabn",
        "outputId": "48b36894-5587-4313-e8a2-2d8f46b156a7"
      },
      "source": [
        "train_dong = train[['transaction_real_price','dong']].groupby('dong').mean().sort_values('transaction_real_price').reset_index()\n",
        "train_dong"
      ],
      "execution_count": null,
      "outputs": [
        {
          "output_type": "execute_result",
          "data": {
            "text/html": [
              "<div>\n",
              "<style scoped>\n",
              "    .dataframe tbody tr th:only-of-type {\n",
              "        vertical-align: middle;\n",
              "    }\n",
              "\n",
              "    .dataframe tbody tr th {\n",
              "        vertical-align: top;\n",
              "    }\n",
              "\n",
              "    .dataframe thead th {\n",
              "        text-align: right;\n",
              "    }\n",
              "</style>\n",
              "<table border=\"1\" class=\"dataframe\">\n",
              "  <thead>\n",
              "    <tr style=\"text-align: right;\">\n",
              "      <th></th>\n",
              "      <th>dong</th>\n",
              "      <th>transaction_real_price</th>\n",
              "    </tr>\n",
              "  </thead>\n",
              "  <tbody>\n",
              "    <tr>\n",
              "      <th>0</th>\n",
              "      <td>신선동3가</td>\n",
              "      <td>8.543619</td>\n",
              "    </tr>\n",
              "    <tr>\n",
              "      <th>1</th>\n",
              "      <td>봉래동5가</td>\n",
              "      <td>8.590871</td>\n",
              "    </tr>\n",
              "    <tr>\n",
              "      <th>2</th>\n",
              "      <td>장안읍 명례리</td>\n",
              "      <td>8.597728</td>\n",
              "    </tr>\n",
              "    <tr>\n",
              "      <th>3</th>\n",
              "      <td>신창동2가</td>\n",
              "      <td>8.601466</td>\n",
              "    </tr>\n",
              "    <tr>\n",
              "      <th>4</th>\n",
              "      <td>신선동2가</td>\n",
              "      <td>8.622581</td>\n",
              "    </tr>\n",
              "    <tr>\n",
              "      <th>...</th>\n",
              "      <td>...</td>\n",
              "      <td>...</td>\n",
              "    </tr>\n",
              "    <tr>\n",
              "      <th>468</th>\n",
              "      <td>회현동2가</td>\n",
              "      <td>11.833004</td>\n",
              "    </tr>\n",
              "    <tr>\n",
              "      <th>469</th>\n",
              "      <td>용산동5가</td>\n",
              "      <td>11.907140</td>\n",
              "    </tr>\n",
              "    <tr>\n",
              "      <th>470</th>\n",
              "      <td>압구정동</td>\n",
              "      <td>11.946198</td>\n",
              "    </tr>\n",
              "    <tr>\n",
              "      <th>471</th>\n",
              "      <td>청암동</td>\n",
              "      <td>11.972690</td>\n",
              "    </tr>\n",
              "    <tr>\n",
              "      <th>472</th>\n",
              "      <td>장충동1가</td>\n",
              "      <td>12.208880</td>\n",
              "    </tr>\n",
              "  </tbody>\n",
              "</table>\n",
              "<p>473 rows × 2 columns</p>\n",
              "</div>"
            ],
            "text/plain": [
              "        dong  transaction_real_price\n",
              "0      신선동3가                8.543619\n",
              "1      봉래동5가                8.590871\n",
              "2    장안읍 명례리                8.597728\n",
              "3      신창동2가                8.601466\n",
              "4      신선동2가                8.622581\n",
              "..       ...                     ...\n",
              "468    회현동2가               11.833004\n",
              "469    용산동5가               11.907140\n",
              "470     압구정동               11.946198\n",
              "471      청암동               11.972690\n",
              "472    장충동1가               12.208880\n",
              "\n",
              "[473 rows x 2 columns]"
            ]
          },
          "metadata": {
            "tags": []
          },
          "execution_count": 40
        }
      ]
    },
    {
      "cell_type": "code",
      "metadata": {
        "colab": {
          "base_uri": "https://localhost:8080/"
        },
        "id": "3q1i0Uworsfa",
        "outputId": "28a73210-b33e-4568-d243-566e6d4e356b"
      },
      "source": [
        "dong_num = {}\n",
        "for i in range(len(train_dong)):\n",
        "  dong = train_dong['dong'].iloc[i]\n",
        "  dong_num[dong]=i\n",
        "\n",
        "dong_num"
      ],
      "execution_count": null,
      "outputs": [
        {
          "output_type": "execute_result",
          "data": {
            "text/plain": [
              "{'가락동': 391,\n",
              " '가리봉동': 159,\n",
              " '가산동': 167,\n",
              " '가야동': 94,\n",
              " '가양동': 210,\n",
              " '갈월동': 362,\n",
              " '갈현동': 169,\n",
              " '감만동': 29,\n",
              " '감전동': 47,\n",
              " '감천동': 46,\n",
              " '강일동': 311,\n",
              " '개금동': 70,\n",
              " '개봉동': 242,\n",
              " '개포동': 432,\n",
              " '거여동': 281,\n",
              " '거제동': 162,\n",
              " '견지동': 453,\n",
              " '고덕동': 388,\n",
              " '고척동': 222,\n",
              " '공덕동': 401,\n",
              " '공릉동': 192,\n",
              " '공항동': 279,\n",
              " '광안동': 84,\n",
              " '광장동': 415,\n",
              " '괘법동': 115,\n",
              " '괴정동': 66,\n",
              " '교남동': 465,\n",
              " '교북동': 280,\n",
              " '구기동': 327,\n",
              " '구로동': 194,\n",
              " '구산동': 191,\n",
              " '구서동': 144,\n",
              " '구수동': 321,\n",
              " '구의동': 387,\n",
              " '구평동': 35,\n",
              " '구포동': 65,\n",
              " '군자동': 316,\n",
              " '궁동': 204,\n",
              " '금곡동': 37,\n",
              " '금사동': 49,\n",
              " '금호동1가': 332,\n",
              " '금호동2가': 426,\n",
              " '금호동3가': 355,\n",
              " '금호동4가': 404,\n",
              " '기장읍 교리': 58,\n",
              " '기장읍 내리': 160,\n",
              " '기장읍 대라리': 42,\n",
              " '기장읍 대변리': 13,\n",
              " '기장읍 동부리': 50,\n",
              " '기장읍 서부리': 17,\n",
              " '기장읍 청강리': 41,\n",
              " '길동': 243,\n",
              " '길음동': 319,\n",
              " '낙민동': 136,\n",
              " '낙원동': 174,\n",
              " '남가좌동': 324,\n",
              " '남대문로5가': 466,\n",
              " '남부민동': 82,\n",
              " '남산동': 71,\n",
              " '남산동2가': 250,\n",
              " '남창동': 110,\n",
              " '남천동': 215,\n",
              " '남항동1가': 131,\n",
              " '남항동2가': 122,\n",
              " '남항동3가': 15,\n",
              " '남현동': 317,\n",
              " '내곡동': 443,\n",
              " '내발산동': 304,\n",
              " '내수동': 462,\n",
              " '냉천동': 383,\n",
              " '노고산동': 129,\n",
              " '노량진동': 312,\n",
              " '녹번동': 251,\n",
              " '녹산동': 128,\n",
              " '논현동': 413,\n",
              " '누상동': 21,\n",
              " '능동': 233,\n",
              " '다대동': 55,\n",
              " '답십리동': 260,\n",
              " '당감동': 67,\n",
              " '당리동': 72,\n",
              " '당산동': 310,\n",
              " '당산동1가': 298,\n",
              " '당산동2가': 197,\n",
              " '당산동3가': 339,\n",
              " '당산동4가': 352,\n",
              " '당산동5가': 406,\n",
              " '당산동6가': 73,\n",
              " '당주동': 363,\n",
              " '대교동1가': 335,\n",
              " '대교동2가': 137,\n",
              " '대림동': 249,\n",
              " '대방동': 328,\n",
              " '대연동': 100,\n",
              " '대저1동': 195,\n",
              " '대조동': 112,\n",
              " '대창동1가': 59,\n",
              " '대청동1가': 16,\n",
              " '대청동2가': 164,\n",
              " '대청동4가': 23,\n",
              " '대치동': 461,\n",
              " '대평동1가': 90,\n",
              " '대현동': 289,\n",
              " '대흥동': 369,\n",
              " '덕천동': 26,\n",
              " '덕포동': 52,\n",
              " '도곡동': 456,\n",
              " '도림동': 299,\n",
              " '도봉동': 185,\n",
              " '도선동': 333,\n",
              " '도원동': 379,\n",
              " '도화동': 358,\n",
              " '독산동': 182,\n",
              " '돈암동': 272,\n",
              " '동광동5가': 12,\n",
              " '동교동': 374,\n",
              " '동대신동1가': 96,\n",
              " '동대신동2가': 153,\n",
              " '동대신동3가': 33,\n",
              " '동빙고동': 457,\n",
              " '동삼동': 18,\n",
              " '동선동1가': 376,\n",
              " '동선동3가': 265,\n",
              " '동선동4가': 187,\n",
              " '동선동5가': 259,\n",
              " '동소문동4가': 220,\n",
              " '동소문동5가': 371,\n",
              " '동소문동6가': 150,\n",
              " '동소문동7가': 309,\n",
              " '동숭동': 104,\n",
              " '동자동': 454,\n",
              " '동작동': 427,\n",
              " '둔촌동': 408,\n",
              " '등촌동': 261,\n",
              " '마곡동': 381,\n",
              " '마장동': 291,\n",
              " '마천동': 315,\n",
              " '마포동': 237,\n",
              " '만덕동': 80,\n",
              " '만리동1가': 392,\n",
              " '만리동2가': 135,\n",
              " '망미동': 134,\n",
              " '망우동': 196,\n",
              " '망원동': 286,\n",
              " '면목동': 201,\n",
              " '명륜1가': 270,\n",
              " '명륜2가': 372,\n",
              " '명륜3가': 125,\n",
              " '명륜동': 254,\n",
              " '명일동': 341,\n",
              " '명장동': 54,\n",
              " '명지동': 240,\n",
              " '모라동': 31,\n",
              " '목동': 419,\n",
              " '무악동': 410,\n",
              " '묵동': 231,\n",
              " '묵정동': 158,\n",
              " '문래동2가': 207,\n",
              " '문래동3가': 407,\n",
              " '문래동4가': 300,\n",
              " '문래동5가': 257,\n",
              " '문래동6가': 224,\n",
              " '문배동': 396,\n",
              " '문정동': 398,\n",
              " '문현동': 107,\n",
              " '미근동': 45,\n",
              " '미아동': 267,\n",
              " '민락동': 211,\n",
              " '반송동': 19,\n",
              " '반여동': 105,\n",
              " '반포동': 467,\n",
              " '방배동': 442,\n",
              " '방이동': 434,\n",
              " '방학동': 190,\n",
              " '방화동': 202,\n",
              " '번동': 181,\n",
              " '범일동': 166,\n",
              " '범전동': 118,\n",
              " '범천동': 63,\n",
              " '보광동': 425,\n",
              " '보문동2가': 217,\n",
              " '보문동3가': 331,\n",
              " '보문동4가': 348,\n",
              " '보문동6가': 212,\n",
              " '보수동1가': 5,\n",
              " '보수동2가': 20,\n",
              " '보수동3가': 91,\n",
              " '복천동': 141,\n",
              " '본동': 361,\n",
              " '봉래동1가': 93,\n",
              " '봉래동2가': 155,\n",
              " '봉래동3가': 22,\n",
              " '봉래동4가': 28,\n",
              " '봉래동5가': 1,\n",
              " '봉천동': 282,\n",
              " '부곡동': 114,\n",
              " '부민동1가': 121,\n",
              " '부민동3가': 140,\n",
              " '부암동': 143,\n",
              " '부용동1가': 101,\n",
              " '부전동': 111,\n",
              " '부평동2가': 8,\n",
              " '부평동4가': 124,\n",
              " '북가좌동': 330,\n",
              " '북아현동': 306,\n",
              " '불광동': 290,\n",
              " '사근동': 230,\n",
              " '사당동': 346,\n",
              " '사직동': 156,\n",
              " '산림동': 206,\n",
              " '산천동': 347,\n",
              " '삼락동': 86,\n",
              " '삼선동2가': 314,\n",
              " '삼선동3가': 385,\n",
              " '삼선동4가': 285,\n",
              " '삼선동5가': 157,\n",
              " '삼성동': 452,\n",
              " '삼전동': 226,\n",
              " '상계동': 172,\n",
              " '상도1동': 203,\n",
              " '상도동': 384,\n",
              " '상봉동': 248,\n",
              " '상수동': 438,\n",
              " '상암동': 412,\n",
              " '상왕십리동': 440,\n",
              " '상월곡동': 238,\n",
              " '상일동': 365,\n",
              " '서교동': 424,\n",
              " '서대신동1가': 56,\n",
              " '서대신동2가': 99,\n",
              " '서대신동3가': 138,\n",
              " '서동': 24,\n",
              " '서빙고동': 464,\n",
              " '서초동': 433,\n",
              " '석관동': 269,\n",
              " '석촌동': 386,\n",
              " '성내동': 275,\n",
              " '성북동': 83,\n",
              " '성북동1가': 318,\n",
              " '성산동': 303,\n",
              " '성수동1가': 400,\n",
              " '성수동2가': 399,\n",
              " '세곡동': 430,\n",
              " '송정동': 147,\n",
              " '송파동': 420,\n",
              " '수색동': 263,\n",
              " '수서동': 380,\n",
              " '수송동': 241,\n",
              " '수안동': 88,\n",
              " '수영동': 168,\n",
              " '수유동': 178,\n",
              " '수정동': 9,\n",
              " '순화동': 338,\n",
              " '숭인동': 228,\n",
              " '시흥동': 198,\n",
              " '신계동': 451,\n",
              " '신공덕동': 397,\n",
              " '신교동': 351,\n",
              " '신길동': 262,\n",
              " '신내동': 193,\n",
              " '신당동': 360,\n",
              " '신대방동': 356,\n",
              " '신도림동': 336,\n",
              " '신림동': 219,\n",
              " '신문로1가': 343,\n",
              " '신사동': 225,\n",
              " '신선동2가': 4,\n",
              " '신선동3가': 0,\n",
              " '신설동': 163,\n",
              " '신수동': 337,\n",
              " '신영동': 177,\n",
              " '신원동': 437,\n",
              " '신월동': 175,\n",
              " '신정동': 342,\n",
              " '신창동': 353,\n",
              " '신창동1가': 127,\n",
              " '신창동2가': 3,\n",
              " '신천동': 448,\n",
              " '신평동': 62,\n",
              " '신호동': 117,\n",
              " '쌍문동': 152,\n",
              " '아미동2가': 11,\n",
              " '아현동': 423,\n",
              " '안락동': 133,\n",
              " '안암동1가': 308,\n",
              " '안암동3가': 109,\n",
              " '안암동4가': 68,\n",
              " '암남동': 78,\n",
              " '암사동': 370,\n",
              " '압구정동': 470,\n",
              " '양재동': 377,\n",
              " '양정동': 139,\n",
              " '양평동1가': 245,\n",
              " '양평동2가': 213,\n",
              " '양평동3가': 301,\n",
              " '양평동4가': 273,\n",
              " '양평동5가': 284,\n",
              " '양평동6가': 247,\n",
              " '엄궁동': 79,\n",
              " '여의도동': 455,\n",
              " '역삼동': 411,\n",
              " '역촌동': 208,\n",
              " '연건동': 106,\n",
              " '연남동': 296,\n",
              " '연산동': 116,\n",
              " '연지동': 142,\n",
              " '연희동': 232,\n",
              " '염리동': 350,\n",
              " '염창동': 292,\n",
              " '영등포동': 313,\n",
              " '영등포동1가': 43,\n",
              " '영등포동2가': 44,\n",
              " '영등포동3가': 30,\n",
              " '영등포동4가': 60,\n",
              " '영등포동5가': 151,\n",
              " '영등포동7가': 252,\n",
              " '영등포동8가': 325,\n",
              " '영선동1가': 126,\n",
              " '영선동2가': 180,\n",
              " '영선동3가': 97,\n",
              " '영선동4가': 81,\n",
              " '영주동': 38,\n",
              " '영천동': 345,\n",
              " '예장동': 239,\n",
              " '오금동': 375,\n",
              " '오류동': 199,\n",
              " '오장동': 57,\n",
              " '옥수동': 417,\n",
              " '옥인동': 428,\n",
              " '온수동': 295,\n",
              " '온천동': 130,\n",
              " '용강동': 421,\n",
              " '용답동': 268,\n",
              " '용당동': 108,\n",
              " '용두동': 297,\n",
              " '용문동': 395,\n",
              " '용산동2가': 344,\n",
              " '용산동5가': 469,\n",
              " '용호동': 161,\n",
              " '우동': 277,\n",
              " '우면동': 429,\n",
              " '우암동': 64,\n",
              " '우이동': 227,\n",
              " '원효로1가': 444,\n",
              " '원효로2가': 149,\n",
              " '원효로3가': 154,\n",
              " '원효로4가': 405,\n",
              " '월계동': 179,\n",
              " '율현동': 436,\n",
              " '을지로5가': 287,\n",
              " '응봉동': 349,\n",
              " '응암동': 258,\n",
              " '이문동': 283,\n",
              " '이촌동': 449,\n",
              " '이태원동': 431,\n",
              " '이화동': 205,\n",
              " '익선동': 145,\n",
              " '인의동': 389,\n",
              " '인현동2가': 119,\n",
              " '일광면 삼성리': 27,\n",
              " '일광면 이천리': 25,\n",
              " '일원동': 435,\n",
              " '자곡동': 450,\n",
              " '자양동': 393,\n",
              " '잠실동': 459,\n",
              " '잠원동': 447,\n",
              " '장림동': 39,\n",
              " '장안동': 276,\n",
              " '장안읍 명례리': 2,\n",
              " '장안읍 좌천리': 103,\n",
              " '장위동': 278,\n",
              " '장전동': 176,\n",
              " '장지동': 409,\n",
              " '장충동1가': 472,\n",
              " '장충동2가': 6,\n",
              " '재송동': 95,\n",
              " '전농동': 294,\n",
              " '전포동': 48,\n",
              " '정관읍 달산리': 98,\n",
              " '정관읍 매학리': 148,\n",
              " '정관읍 모전리': 170,\n",
              " '정관읍 방곡리': 102,\n",
              " '정관읍 용수리': 184,\n",
              " '정동': 340,\n",
              " '정릉동': 223,\n",
              " '제기동': 271,\n",
              " '종암동': 293,\n",
              " '좌동': 146,\n",
              " '좌천동': 36,\n",
              " '주례동': 74,\n",
              " '주성동': 463,\n",
              " '중계동': 216,\n",
              " '중곡동': 200,\n",
              " '중동': 186,\n",
              " '중림동': 394,\n",
              " '중앙동4가': 7,\n",
              " '중화동': 209,\n",
              " '증산동': 229,\n",
              " '지사동': 87,\n",
              " '진관동': 373,\n",
              " '창동': 189,\n",
              " '창신동': 234,\n",
              " '창전동': 382,\n",
              " '창천동': 188,\n",
              " '천연동': 264,\n",
              " '천왕동': 302,\n",
              " '천호동': 256,\n",
              " '철마면 고촌리': 165,\n",
              " '청담동': 458,\n",
              " '청량리동': 307,\n",
              " '청룡동': 113,\n",
              " '청암동': 471,\n",
              " '청운동': 422,\n",
              " '청파동1가': 255,\n",
              " '청파동3가': 320,\n",
              " '청학동': 76,\n",
              " '초량동': 53,\n",
              " '초읍동': 92,\n",
              " '초장동': 14,\n",
              " '충무동1가': 274,\n",
              " '충무동2가': 77,\n",
              " '충무로4가': 364,\n",
              " '충무로5가': 173,\n",
              " '충신동': 89,\n",
              " '충정로2가': 288,\n",
              " '충정로3가': 218,\n",
              " '칠산동': 51,\n",
              " '토성동1가': 183,\n",
              " '토성동2가': 40,\n",
              " '토성동3가': 123,\n",
              " '토성동5가': 69,\n",
              " '토정동': 359,\n",
              " '통인동': 75,\n",
              " '평창동': 378,\n",
              " '풍납동': 329,\n",
              " '필동1가': 10,\n",
              " '필동3가': 323,\n",
              " '필운동': 414,\n",
              " '하계동': 214,\n",
              " '하단동': 85,\n",
              " '하왕십리동': 334,\n",
              " '하월곡동': 305,\n",
              " '하중동': 460,\n",
              " '학장동': 34,\n",
              " '한강로1가': 439,\n",
              " '한강로2가': 402,\n",
              " '한강로3가': 445,\n",
              " '한남동': 441,\n",
              " '합동': 390,\n",
              " '합정동': 366,\n",
              " '항동': 244,\n",
              " '행당동': 368,\n",
              " '행촌동': 32,\n",
              " '현석동': 403,\n",
              " '현저동': 322,\n",
              " '혜화동': 326,\n",
              " '홍은동': 235,\n",
              " '홍익동': 236,\n",
              " '홍제동': 253,\n",
              " '화곡동': 266,\n",
              " '화명동': 132,\n",
              " '화양동': 171,\n",
              " '황학동': 357,\n",
              " '회기동': 221,\n",
              " '회동동': 61,\n",
              " '회현동1가': 446,\n",
              " '회현동2가': 468,\n",
              " '효제동': 120,\n",
              " '효창동': 367,\n",
              " '후암동': 354,\n",
              " '휘경동': 246,\n",
              " '흑석동': 416,\n",
              " '흥인동': 418}"
            ]
          },
          "metadata": {
            "tags": []
          },
          "execution_count": 41
        }
      ]
    },
    {
      "cell_type": "code",
      "metadata": {
        "colab": {
          "base_uri": "https://localhost:8080/",
          "height": 204
        },
        "id": "CJZopcDfsWet",
        "outputId": "3e70c541-51fb-45f1-d7cd-5549d32546d1"
      },
      "source": [
        "train = train.replace({'dong' : dong_num})\n",
        "test = test.replace({'dong' : dong_num})\n",
        "train.head()"
      ],
      "execution_count": null,
      "outputs": [
        {
          "output_type": "execute_result",
          "data": {
            "text/html": [
              "<div>\n",
              "<style scoped>\n",
              "    .dataframe tbody tr th:only-of-type {\n",
              "        vertical-align: middle;\n",
              "    }\n",
              "\n",
              "    .dataframe tbody tr th {\n",
              "        vertical-align: top;\n",
              "    }\n",
              "\n",
              "    .dataframe thead th {\n",
              "        text-align: right;\n",
              "    }\n",
              "</style>\n",
              "<table border=\"1\" class=\"dataframe\">\n",
              "  <thead>\n",
              "    <tr style=\"text-align: right;\">\n",
              "      <th></th>\n",
              "      <th>transaction_id</th>\n",
              "      <th>apartment_id</th>\n",
              "      <th>city</th>\n",
              "      <th>dong</th>\n",
              "      <th>jibun</th>\n",
              "      <th>apt</th>\n",
              "      <th>exclusive_use_area</th>\n",
              "      <th>year_of_completion</th>\n",
              "      <th>transaction_year_month</th>\n",
              "      <th>transaction_date</th>\n",
              "      <th>floor</th>\n",
              "      <th>transaction_real_price</th>\n",
              "      <th>year</th>\n",
              "      <th>month</th>\n",
              "      <th>hangang</th>\n",
              "    </tr>\n",
              "  </thead>\n",
              "  <tbody>\n",
              "    <tr>\n",
              "      <th>0</th>\n",
              "      <td>0</td>\n",
              "      <td>7622</td>\n",
              "      <td>서울특별시</td>\n",
              "      <td>351</td>\n",
              "      <td>6-13</td>\n",
              "      <td>신현(101동)</td>\n",
              "      <td>84.82</td>\n",
              "      <td>2002</td>\n",
              "      <td>200801</td>\n",
              "      <td>21~31</td>\n",
              "      <td>2</td>\n",
              "      <td>10.532123</td>\n",
              "      <td>2008</td>\n",
              "      <td>1</td>\n",
              "      <td>0</td>\n",
              "    </tr>\n",
              "    <tr>\n",
              "      <th>1</th>\n",
              "      <td>1</td>\n",
              "      <td>5399</td>\n",
              "      <td>서울특별시</td>\n",
              "      <td>414</td>\n",
              "      <td>142</td>\n",
              "      <td>사직파크맨션</td>\n",
              "      <td>99.17</td>\n",
              "      <td>1973</td>\n",
              "      <td>200801</td>\n",
              "      <td>1~10</td>\n",
              "      <td>6</td>\n",
              "      <td>9.903538</td>\n",
              "      <td>2008</td>\n",
              "      <td>1</td>\n",
              "      <td>0</td>\n",
              "    </tr>\n",
              "    <tr>\n",
              "      <th>2</th>\n",
              "      <td>2</td>\n",
              "      <td>3578</td>\n",
              "      <td>서울특별시</td>\n",
              "      <td>414</td>\n",
              "      <td>174-1</td>\n",
              "      <td>두레엘리시안</td>\n",
              "      <td>84.74</td>\n",
              "      <td>2007</td>\n",
              "      <td>200801</td>\n",
              "      <td>1~10</td>\n",
              "      <td>6</td>\n",
              "      <td>10.558439</td>\n",
              "      <td>2008</td>\n",
              "      <td>1</td>\n",
              "      <td>0</td>\n",
              "    </tr>\n",
              "    <tr>\n",
              "      <th>3</th>\n",
              "      <td>3</td>\n",
              "      <td>10957</td>\n",
              "      <td>서울특별시</td>\n",
              "      <td>462</td>\n",
              "      <td>95</td>\n",
              "      <td>파크팰리스</td>\n",
              "      <td>146.39</td>\n",
              "      <td>2003</td>\n",
              "      <td>200801</td>\n",
              "      <td>11~20</td>\n",
              "      <td>15</td>\n",
              "      <td>11.678448</td>\n",
              "      <td>2008</td>\n",
              "      <td>1</td>\n",
              "      <td>0</td>\n",
              "    </tr>\n",
              "    <tr>\n",
              "      <th>4</th>\n",
              "      <td>4</td>\n",
              "      <td>10639</td>\n",
              "      <td>서울특별시</td>\n",
              "      <td>462</td>\n",
              "      <td>110-15</td>\n",
              "      <td>킹스매너</td>\n",
              "      <td>194.43</td>\n",
              "      <td>2004</td>\n",
              "      <td>200801</td>\n",
              "      <td>21~31</td>\n",
              "      <td>3</td>\n",
              "      <td>11.695255</td>\n",
              "      <td>2008</td>\n",
              "      <td>1</td>\n",
              "      <td>0</td>\n",
              "    </tr>\n",
              "  </tbody>\n",
              "</table>\n",
              "</div>"
            ],
            "text/plain": [
              "   transaction_id  apartment_id   city  ...  year month hangang\n",
              "0               0          7622  서울특별시  ...  2008     1       0\n",
              "1               1          5399  서울특별시  ...  2008     1       0\n",
              "2               2          3578  서울특별시  ...  2008     1       0\n",
              "3               3         10957  서울특별시  ...  2008     1       0\n",
              "4               4         10639  서울특별시  ...  2008     1       0\n",
              "\n",
              "[5 rows x 15 columns]"
            ]
          },
          "metadata": {
            "tags": []
          },
          "execution_count": 42
        }
      ]
    },
    {
      "cell_type": "markdown",
      "metadata": {
        "id": "DjvjnRhitb0I"
      },
      "source": [
        "## Jibun"
      ]
    },
    {
      "cell_type": "code",
      "metadata": {
        "colab": {
          "base_uri": "https://localhost:8080/"
        },
        "id": "9tMWb1U4slaj",
        "outputId": "e27af886-7b75-4f4c-aba7-2923bc5848b3"
      },
      "source": [
        "len(train['jibun'].unique())"
      ],
      "execution_count": null,
      "outputs": [
        {
          "output_type": "execute_result",
          "data": {
            "text/plain": [
              "8961"
            ]
          },
          "metadata": {
            "tags": []
          },
          "execution_count": 43
        }
      ]
    },
    {
      "cell_type": "code",
      "metadata": {
        "colab": {
          "base_uri": "https://localhost:8080/",
          "height": 204
        },
        "id": "jMYq1tR-tfEd",
        "outputId": "8af35344-bac5-4a68-fc5a-0bb815ffa9e2"
      },
      "source": [
        "train_jibun = train[['transaction_real_price','jibun']].groupby('jibun').mean().sort_values('transaction_real_price').reset_index()\n",
        "train_jibun.head()"
      ],
      "execution_count": null,
      "outputs": [
        {
          "output_type": "execute_result",
          "data": {
            "text/html": [
              "<div>\n",
              "<style scoped>\n",
              "    .dataframe tbody tr th:only-of-type {\n",
              "        vertical-align: middle;\n",
              "    }\n",
              "\n",
              "    .dataframe tbody tr th {\n",
              "        vertical-align: top;\n",
              "    }\n",
              "\n",
              "    .dataframe thead th {\n",
              "        text-align: right;\n",
              "    }\n",
              "</style>\n",
              "<table border=\"1\" class=\"dataframe\">\n",
              "  <thead>\n",
              "    <tr style=\"text-align: right;\">\n",
              "      <th></th>\n",
              "      <th>jibun</th>\n",
              "      <th>transaction_real_price</th>\n",
              "    </tr>\n",
              "  </thead>\n",
              "  <tbody>\n",
              "    <tr>\n",
              "      <th>0</th>\n",
              "      <td>산3-148</td>\n",
              "      <td>7.225286</td>\n",
              "    </tr>\n",
              "    <tr>\n",
              "      <th>1</th>\n",
              "      <td>737-1</td>\n",
              "      <td>7.494417</td>\n",
              "    </tr>\n",
              "    <tr>\n",
              "      <th>2</th>\n",
              "      <td>741-1</td>\n",
              "      <td>7.498174</td>\n",
              "    </tr>\n",
              "    <tr>\n",
              "      <th>3</th>\n",
              "      <td>1181-4</td>\n",
              "      <td>7.585491</td>\n",
              "    </tr>\n",
              "    <tr>\n",
              "      <th>4</th>\n",
              "      <td>11-174</td>\n",
              "      <td>7.601402</td>\n",
              "    </tr>\n",
              "  </tbody>\n",
              "</table>\n",
              "</div>"
            ],
            "text/plain": [
              "    jibun  transaction_real_price\n",
              "0  산3-148                7.225286\n",
              "1   737-1                7.494417\n",
              "2   741-1                7.498174\n",
              "3  1181-4                7.585491\n",
              "4  11-174                7.601402"
            ]
          },
          "metadata": {
            "tags": []
          },
          "execution_count": 44
        }
      ]
    },
    {
      "cell_type": "markdown",
      "metadata": {
        "id": "VpUDkE5ytjly"
      },
      "source": [
        "## apt"
      ]
    },
    {
      "cell_type": "code",
      "metadata": {
        "colab": {
          "base_uri": "https://localhost:8080/"
        },
        "id": "VuhtAYe-thHD",
        "outputId": "d636b2fe-eaa1-462d-b9f8-96966d6307b6"
      },
      "source": [
        "len(train['apt'].unique())"
      ],
      "execution_count": null,
      "outputs": [
        {
          "output_type": "execute_result",
          "data": {
            "text/plain": [
              "10440"
            ]
          },
          "metadata": {
            "tags": []
          },
          "execution_count": 45
        }
      ]
    },
    {
      "cell_type": "code",
      "metadata": {
        "colab": {
          "base_uri": "https://localhost:8080/",
          "height": 204
        },
        "id": "ydtW4zg2toyT",
        "outputId": "dba651f8-9a4a-40b3-945c-0879e8fc5b99"
      },
      "source": [
        "train_apt = train[['transaction_real_price','apt']].groupby('apt').mean().sort_values('transaction_real_price').reset_index()\n",
        "train_apt.head()"
      ],
      "execution_count": null,
      "outputs": [
        {
          "output_type": "execute_result",
          "data": {
            "text/html": [
              "<div>\n",
              "<style scoped>\n",
              "    .dataframe tbody tr th:only-of-type {\n",
              "        vertical-align: middle;\n",
              "    }\n",
              "\n",
              "    .dataframe tbody tr th {\n",
              "        vertical-align: top;\n",
              "    }\n",
              "\n",
              "    .dataframe thead th {\n",
              "        text-align: right;\n",
              "    }\n",
              "</style>\n",
              "<table border=\"1\" class=\"dataframe\">\n",
              "  <thead>\n",
              "    <tr style=\"text-align: right;\">\n",
              "      <th></th>\n",
              "      <th>apt</th>\n",
              "      <th>transaction_real_price</th>\n",
              "    </tr>\n",
              "  </thead>\n",
              "  <tbody>\n",
              "    <tr>\n",
              "      <th>0</th>\n",
              "      <td>좌천시민(737-1)</td>\n",
              "      <td>7.494417</td>\n",
              "    </tr>\n",
              "    <tr>\n",
              "      <th>1</th>\n",
              "      <td>좌천시민(741-1)</td>\n",
              "      <td>7.498174</td>\n",
              "    </tr>\n",
              "    <tr>\n",
              "      <th>2</th>\n",
              "      <td>수정(1181-4)</td>\n",
              "      <td>7.585491</td>\n",
              "    </tr>\n",
              "    <tr>\n",
              "      <th>3</th>\n",
              "      <td>수정(1175-1)</td>\n",
              "      <td>7.626830</td>\n",
              "    </tr>\n",
              "    <tr>\n",
              "      <th>4</th>\n",
              "      <td>수정(1186-1)</td>\n",
              "      <td>7.685623</td>\n",
              "    </tr>\n",
              "  </tbody>\n",
              "</table>\n",
              "</div>"
            ],
            "text/plain": [
              "           apt  transaction_real_price\n",
              "0  좌천시민(737-1)                7.494417\n",
              "1  좌천시민(741-1)                7.498174\n",
              "2   수정(1181-4)                7.585491\n",
              "3   수정(1175-1)                7.626830\n",
              "4   수정(1186-1)                7.685623"
            ]
          },
          "metadata": {
            "tags": []
          },
          "execution_count": 46
        }
      ]
    },
    {
      "cell_type": "markdown",
      "metadata": {
        "id": "tp68kEAhtxET"
      },
      "source": [
        "지번과 아파트 데이터는 unique() 가 많으므로 따로 labelling 하지 않는다. "
      ]
    },
    {
      "cell_type": "markdown",
      "metadata": {
        "id": "Jo4Ywps0uWpE"
      },
      "source": [
        "## transaction_date는 거래기간으로 day_diff라는 새로운 컬럼으로 생성"
      ]
    },
    {
      "cell_type": "code",
      "metadata": {
        "id": "1VXVWDeDtqdl"
      },
      "source": [
        "train['day_diff'] = train['transaction_date'].str.rsplit('~',expand=True)[1].astype(int)-train['transaction_date'].str.rsplit('~',expand=True)[0].astype(int)\n",
        "test['day_diff'] = test['transaction_date'].str.rsplit('~',expand=True)[1].astype(int)-test['transaction_date'].str.rsplit('~',expand=True)[0].astype(int)"
      ],
      "execution_count": null,
      "outputs": []
    },
    {
      "cell_type": "code",
      "metadata": {
        "colab": {
          "base_uri": "https://localhost:8080/"
        },
        "id": "1laWqT1PwLUX",
        "outputId": "6373043f-5db7-43e1-da1b-194103906bee"
      },
      "source": [
        "len(train['transaction_date'].unique())"
      ],
      "execution_count": null,
      "outputs": [
        {
          "output_type": "execute_result",
          "data": {
            "text/plain": [
              "6"
            ]
          },
          "metadata": {
            "tags": []
          },
          "execution_count": 48
        }
      ]
    },
    {
      "cell_type": "markdown",
      "metadata": {
        "id": "FMTCYVjWwlIy"
      },
      "source": [
        "transaction_date 데이터 unique 갯수가 몇개 안되므로 라벨링"
      ]
    },
    {
      "cell_type": "code",
      "metadata": {
        "colab": {
          "base_uri": "https://localhost:8080/",
          "height": 204
        },
        "id": "_LA_b2EUwZgx",
        "outputId": "366f93ac-af34-4298-a531-ab46da67ce53"
      },
      "source": [
        "train_date = train[['transaction_real_price','transaction_date']].groupby('transaction_date').mean().sort_values('transaction_real_price').reset_index()\n",
        "train_date.head()\n"
      ],
      "execution_count": null,
      "outputs": [
        {
          "output_type": "execute_result",
          "data": {
            "text/html": [
              "<div>\n",
              "<style scoped>\n",
              "    .dataframe tbody tr th:only-of-type {\n",
              "        vertical-align: middle;\n",
              "    }\n",
              "\n",
              "    .dataframe tbody tr th {\n",
              "        vertical-align: top;\n",
              "    }\n",
              "\n",
              "    .dataframe thead th {\n",
              "        text-align: right;\n",
              "    }\n",
              "</style>\n",
              "<table border=\"1\" class=\"dataframe\">\n",
              "  <thead>\n",
              "    <tr style=\"text-align: right;\">\n",
              "      <th></th>\n",
              "      <th>transaction_date</th>\n",
              "      <th>transaction_real_price</th>\n",
              "    </tr>\n",
              "  </thead>\n",
              "  <tbody>\n",
              "    <tr>\n",
              "      <th>0</th>\n",
              "      <td>21~29</td>\n",
              "      <td>10.176453</td>\n",
              "    </tr>\n",
              "    <tr>\n",
              "      <th>1</th>\n",
              "      <td>21~28</td>\n",
              "      <td>10.286294</td>\n",
              "    </tr>\n",
              "    <tr>\n",
              "      <th>2</th>\n",
              "      <td>1~10</td>\n",
              "      <td>10.293390</td>\n",
              "    </tr>\n",
              "    <tr>\n",
              "      <th>3</th>\n",
              "      <td>11~20</td>\n",
              "      <td>10.306731</td>\n",
              "    </tr>\n",
              "    <tr>\n",
              "      <th>4</th>\n",
              "      <td>21~31</td>\n",
              "      <td>10.318796</td>\n",
              "    </tr>\n",
              "  </tbody>\n",
              "</table>\n",
              "</div>"
            ],
            "text/plain": [
              "  transaction_date  transaction_real_price\n",
              "0            21~29               10.176453\n",
              "1            21~28               10.286294\n",
              "2             1~10               10.293390\n",
              "3            11~20               10.306731\n",
              "4            21~31               10.318796"
            ]
          },
          "metadata": {
            "tags": []
          },
          "execution_count": 49
        }
      ]
    },
    {
      "cell_type": "code",
      "metadata": {
        "colab": {
          "base_uri": "https://localhost:8080/"
        },
        "id": "C-L8JQ6twqXY",
        "outputId": "26f4a36a-dee0-4b32-8dc9-2e350ac87710"
      },
      "source": [
        "date_num={}\n",
        "for i in range(len(train_date)):\n",
        "  date = train_date['transaction_date'].iloc[i]\n",
        "  date_num[date]=i\n",
        "\n",
        "date_num"
      ],
      "execution_count": null,
      "outputs": [
        {
          "output_type": "execute_result",
          "data": {
            "text/plain": [
              "{'11~20': 3, '1~10': 2, '21~28': 1, '21~29': 0, '21~30': 5, '21~31': 4}"
            ]
          },
          "metadata": {
            "tags": []
          },
          "execution_count": 50
        }
      ]
    },
    {
      "cell_type": "code",
      "metadata": {
        "colab": {
          "base_uri": "https://localhost:8080/",
          "height": 204
        },
        "id": "YdGCnz32xABd",
        "outputId": "964e767a-5832-4135-b157-378da5cae644"
      },
      "source": [
        "train = train.replace({'transaction_date' : date_num})\n",
        "test = test.replace({'transaction_date' : date_num})\n",
        "train.head()"
      ],
      "execution_count": null,
      "outputs": [
        {
          "output_type": "execute_result",
          "data": {
            "text/html": [
              "<div>\n",
              "<style scoped>\n",
              "    .dataframe tbody tr th:only-of-type {\n",
              "        vertical-align: middle;\n",
              "    }\n",
              "\n",
              "    .dataframe tbody tr th {\n",
              "        vertical-align: top;\n",
              "    }\n",
              "\n",
              "    .dataframe thead th {\n",
              "        text-align: right;\n",
              "    }\n",
              "</style>\n",
              "<table border=\"1\" class=\"dataframe\">\n",
              "  <thead>\n",
              "    <tr style=\"text-align: right;\">\n",
              "      <th></th>\n",
              "      <th>transaction_id</th>\n",
              "      <th>apartment_id</th>\n",
              "      <th>city</th>\n",
              "      <th>dong</th>\n",
              "      <th>jibun</th>\n",
              "      <th>apt</th>\n",
              "      <th>exclusive_use_area</th>\n",
              "      <th>year_of_completion</th>\n",
              "      <th>transaction_year_month</th>\n",
              "      <th>transaction_date</th>\n",
              "      <th>floor</th>\n",
              "      <th>transaction_real_price</th>\n",
              "      <th>year</th>\n",
              "      <th>month</th>\n",
              "      <th>hangang</th>\n",
              "      <th>day_diff</th>\n",
              "    </tr>\n",
              "  </thead>\n",
              "  <tbody>\n",
              "    <tr>\n",
              "      <th>0</th>\n",
              "      <td>0</td>\n",
              "      <td>7622</td>\n",
              "      <td>서울특별시</td>\n",
              "      <td>351</td>\n",
              "      <td>6-13</td>\n",
              "      <td>신현(101동)</td>\n",
              "      <td>84.82</td>\n",
              "      <td>2002</td>\n",
              "      <td>200801</td>\n",
              "      <td>4</td>\n",
              "      <td>2</td>\n",
              "      <td>10.532123</td>\n",
              "      <td>2008</td>\n",
              "      <td>1</td>\n",
              "      <td>0</td>\n",
              "      <td>10</td>\n",
              "    </tr>\n",
              "    <tr>\n",
              "      <th>1</th>\n",
              "      <td>1</td>\n",
              "      <td>5399</td>\n",
              "      <td>서울특별시</td>\n",
              "      <td>414</td>\n",
              "      <td>142</td>\n",
              "      <td>사직파크맨션</td>\n",
              "      <td>99.17</td>\n",
              "      <td>1973</td>\n",
              "      <td>200801</td>\n",
              "      <td>2</td>\n",
              "      <td>6</td>\n",
              "      <td>9.903538</td>\n",
              "      <td>2008</td>\n",
              "      <td>1</td>\n",
              "      <td>0</td>\n",
              "      <td>9</td>\n",
              "    </tr>\n",
              "    <tr>\n",
              "      <th>2</th>\n",
              "      <td>2</td>\n",
              "      <td>3578</td>\n",
              "      <td>서울특별시</td>\n",
              "      <td>414</td>\n",
              "      <td>174-1</td>\n",
              "      <td>두레엘리시안</td>\n",
              "      <td>84.74</td>\n",
              "      <td>2007</td>\n",
              "      <td>200801</td>\n",
              "      <td>2</td>\n",
              "      <td>6</td>\n",
              "      <td>10.558439</td>\n",
              "      <td>2008</td>\n",
              "      <td>1</td>\n",
              "      <td>0</td>\n",
              "      <td>9</td>\n",
              "    </tr>\n",
              "    <tr>\n",
              "      <th>3</th>\n",
              "      <td>3</td>\n",
              "      <td>10957</td>\n",
              "      <td>서울특별시</td>\n",
              "      <td>462</td>\n",
              "      <td>95</td>\n",
              "      <td>파크팰리스</td>\n",
              "      <td>146.39</td>\n",
              "      <td>2003</td>\n",
              "      <td>200801</td>\n",
              "      <td>3</td>\n",
              "      <td>15</td>\n",
              "      <td>11.678448</td>\n",
              "      <td>2008</td>\n",
              "      <td>1</td>\n",
              "      <td>0</td>\n",
              "      <td>9</td>\n",
              "    </tr>\n",
              "    <tr>\n",
              "      <th>4</th>\n",
              "      <td>4</td>\n",
              "      <td>10639</td>\n",
              "      <td>서울특별시</td>\n",
              "      <td>462</td>\n",
              "      <td>110-15</td>\n",
              "      <td>킹스매너</td>\n",
              "      <td>194.43</td>\n",
              "      <td>2004</td>\n",
              "      <td>200801</td>\n",
              "      <td>4</td>\n",
              "      <td>3</td>\n",
              "      <td>11.695255</td>\n",
              "      <td>2008</td>\n",
              "      <td>1</td>\n",
              "      <td>0</td>\n",
              "      <td>10</td>\n",
              "    </tr>\n",
              "  </tbody>\n",
              "</table>\n",
              "</div>"
            ],
            "text/plain": [
              "   transaction_id  apartment_id   city  dong  ...  year month  hangang  day_diff\n",
              "0               0          7622  서울특별시   351  ...  2008     1        0        10\n",
              "1               1          5399  서울특별시   414  ...  2008     1        0         9\n",
              "2               2          3578  서울특별시   414  ...  2008     1        0         9\n",
              "3               3         10957  서울특별시   462  ...  2008     1        0         9\n",
              "4               4         10639  서울특별시   462  ...  2008     1        0        10\n",
              "\n",
              "[5 rows x 16 columns]"
            ]
          },
          "metadata": {
            "tags": []
          },
          "execution_count": 51
        }
      ]
    },
    {
      "cell_type": "markdown",
      "metadata": {
        "id": "O1tC93_cyAi3"
      },
      "source": [
        "#Preprocessing"
      ]
    },
    {
      "cell_type": "markdown",
      "metadata": {
        "id": "mk2OJpIpyEkU"
      },
      "source": [
        "floor 같은 경우 -값이 존재하기 때문에 log를 취하기 전에 각 값에 +5를 하면서 모든 값을 양수로 만들어줍니다."
      ]
    },
    {
      "cell_type": "code",
      "metadata": {
        "colab": {
          "base_uri": "https://localhost:8080/",
          "height": 462
        },
        "id": "1Z8oqYQqxJCb",
        "outputId": "045ca320-b50f-423d-f8cf-6534cf2a5500"
      },
      "source": [
        "train['floor'] = np.log(train['floor']+5)\n",
        "test['floor'] = np.log(test['floor']+5)\n",
        "f, ax = plt.subplots(figsize = (8,6))\n",
        "sns.distplot(train['floor'])\n",
        "print(\"Skewness: %f, Kurtosis: %f\", (train['floor'].skew(), train['floor'].kurt()))"
      ],
      "execution_count": null,
      "outputs": [
        {
          "output_type": "stream",
          "text": [
            "/usr/local/lib/python3.7/dist-packages/seaborn/distributions.py:2557: FutureWarning: `distplot` is a deprecated function and will be removed in a future version. Please adapt your code to use either `displot` (a figure-level function with similar flexibility) or `histplot` (an axes-level function for histograms).\n",
            "  warnings.warn(msg, FutureWarning)\n"
          ],
          "name": "stderr"
        },
        {
          "output_type": "stream",
          "text": [
            "Skewness: %f, Kurtosis: %f (0.08963630402012733, -0.6408851871034487)\n"
          ],
          "name": "stdout"
        },
        {
          "output_type": "display_data",
          "data": {
            "image/png": "[encoded data removed]",
            "text/plain": [
              "<Figure size 576x432 with 1 Axes>"
            ]
          },
          "metadata": {
            "tags": [],
            "needs_background": "light"
          }
        }
      ]
    },
    {
      "cell_type": "code",
      "metadata": {
        "id": "yfnnSALqyQou"
      },
      "source": [
        "drop_columns = ['apt', 'jibun', 'transaction_year_month']\n",
        "\n",
        "train = train.drop(drop_columns, axis=1)\n",
        "test = test.drop(drop_columns, axis=1)"
      ],
      "execution_count": null,
      "outputs": []
    },
    {
      "cell_type": "code",
      "metadata": {
        "colab": {
          "base_uri": "https://localhost:8080/",
          "height": 204
        },
        "id": "M6nMOlsHyXrX",
        "outputId": "f35a7a06-dbe4-489c-e0be-86f736c22373"
      },
      "source": [
        "train.head()"
      ],
      "execution_count": null,
      "outputs": [
        {
          "output_type": "execute_result",
          "data": {
            "text/html": [
              "<div>\n",
              "<style scoped>\n",
              "    .dataframe tbody tr th:only-of-type {\n",
              "        vertical-align: middle;\n",
              "    }\n",
              "\n",
              "    .dataframe tbody tr th {\n",
              "        vertical-align: top;\n",
              "    }\n",
              "\n",
              "    .dataframe thead th {\n",
              "        text-align: right;\n",
              "    }\n",
              "</style>\n",
              "<table border=\"1\" class=\"dataframe\">\n",
              "  <thead>\n",
              "    <tr style=\"text-align: right;\">\n",
              "      <th></th>\n",
              "      <th>transaction_id</th>\n",
              "      <th>apartment_id</th>\n",
              "      <th>city</th>\n",
              "      <th>dong</th>\n",
              "      <th>exclusive_use_area</th>\n",
              "      <th>year_of_completion</th>\n",
              "      <th>transaction_date</th>\n",
              "      <th>floor</th>\n",
              "      <th>transaction_real_price</th>\n",
              "      <th>year</th>\n",
              "      <th>month</th>\n",
              "      <th>hangang</th>\n",
              "      <th>day_diff</th>\n",
              "    </tr>\n",
              "  </thead>\n",
              "  <tbody>\n",
              "    <tr>\n",
              "      <th>0</th>\n",
              "      <td>0</td>\n",
              "      <td>7622</td>\n",
              "      <td>서울특별시</td>\n",
              "      <td>351</td>\n",
              "      <td>84.82</td>\n",
              "      <td>2002</td>\n",
              "      <td>4</td>\n",
              "      <td>1.945910</td>\n",
              "      <td>10.532123</td>\n",
              "      <td>2008</td>\n",
              "      <td>1</td>\n",
              "      <td>0</td>\n",
              "      <td>10</td>\n",
              "    </tr>\n",
              "    <tr>\n",
              "      <th>1</th>\n",
              "      <td>1</td>\n",
              "      <td>5399</td>\n",
              "      <td>서울특별시</td>\n",
              "      <td>414</td>\n",
              "      <td>99.17</td>\n",
              "      <td>1973</td>\n",
              "      <td>2</td>\n",
              "      <td>2.397895</td>\n",
              "      <td>9.903538</td>\n",
              "      <td>2008</td>\n",
              "      <td>1</td>\n",
              "      <td>0</td>\n",
              "      <td>9</td>\n",
              "    </tr>\n",
              "    <tr>\n",
              "      <th>2</th>\n",
              "      <td>2</td>\n",
              "      <td>3578</td>\n",
              "      <td>서울특별시</td>\n",
              "      <td>414</td>\n",
              "      <td>84.74</td>\n",
              "      <td>2007</td>\n",
              "      <td>2</td>\n",
              "      <td>2.397895</td>\n",
              "      <td>10.558439</td>\n",
              "      <td>2008</td>\n",
              "      <td>1</td>\n",
              "      <td>0</td>\n",
              "      <td>9</td>\n",
              "    </tr>\n",
              "    <tr>\n",
              "      <th>3</th>\n",
              "      <td>3</td>\n",
              "      <td>10957</td>\n",
              "      <td>서울특별시</td>\n",
              "      <td>462</td>\n",
              "      <td>146.39</td>\n",
              "      <td>2003</td>\n",
              "      <td>3</td>\n",
              "      <td>2.995732</td>\n",
              "      <td>11.678448</td>\n",
              "      <td>2008</td>\n",
              "      <td>1</td>\n",
              "      <td>0</td>\n",
              "      <td>9</td>\n",
              "    </tr>\n",
              "    <tr>\n",
              "      <th>4</th>\n",
              "      <td>4</td>\n",
              "      <td>10639</td>\n",
              "      <td>서울특별시</td>\n",
              "      <td>462</td>\n",
              "      <td>194.43</td>\n",
              "      <td>2004</td>\n",
              "      <td>4</td>\n",
              "      <td>2.079442</td>\n",
              "      <td>11.695255</td>\n",
              "      <td>2008</td>\n",
              "      <td>1</td>\n",
              "      <td>0</td>\n",
              "      <td>10</td>\n",
              "    </tr>\n",
              "  </tbody>\n",
              "</table>\n",
              "</div>"
            ],
            "text/plain": [
              "   transaction_id  apartment_id   city  dong  ...  year  month  hangang  day_diff\n",
              "0               0          7622  서울특별시   351  ...  2008      1        0        10\n",
              "1               1          5399  서울특별시   414  ...  2008      1        0         9\n",
              "2               2          3578  서울특별시   414  ...  2008      1        0         9\n",
              "3               3         10957  서울특별시   462  ...  2008      1        0         9\n",
              "4               4         10639  서울특별시   462  ...  2008      1        0        10\n",
              "\n",
              "[5 rows x 13 columns]"
            ]
          },
          "metadata": {
            "tags": []
          },
          "execution_count": 54
        }
      ]
    },
    {
      "cell_type": "markdown",
      "metadata": {
        "id": "RvEWdLn3ychO"
      },
      "source": [
        "#Feature Engineering"
      ]
    },
    {
      "cell_type": "markdown",
      "metadata": {
        "id": "vGLeVpO9yuBQ"
      },
      "source": [
        "아파트 나이와, 재건축 유무 column 생성"
      ]
    },
    {
      "cell_type": "code",
      "metadata": {
        "id": "IW97hxK6yZat"
      },
      "source": [
        "train_test_data = [train, test]\n",
        "\n",
        "for dataset in train_test_data:\n",
        "    dataset['age'] = dataset['year'] - dataset['year_of_completion']\n",
        "    dataset['is_rebuild']=(dataset['age']>=30).astype(int)"
      ],
      "execution_count": null,
      "outputs": []
    },
    {
      "cell_type": "code",
      "metadata": {
        "colab": {
          "base_uri": "https://localhost:8080/"
        },
        "id": "AFtec_2yy0Yu",
        "outputId": "39dd9673-5c73-40ad-d099-3649f644da73"
      },
      "source": [
        "train_columns = []\n",
        "for column in train.columns[:]:\n",
        "    if train[column].skew() >= 1:\n",
        "        print(\"%s -> Skewness: %f, Kurtosis: %f\" %  (column,train[column].skew(), train[column].kurt()))\n",
        "        train_columns.append(column)\n",
        "    elif train[column].kurt() >= 3:\n",
        "        print(\"%s -> Skewness: %f, Kurtosis: %f\" %  (column,train[column].skew(), train[column].kurt()))\n",
        "        train_columns.append(column)"
      ],
      "execution_count": null,
      "outputs": [
        {
          "output_type": "stream",
          "text": [
            "exclusive_use_area -> Skewness: 1.227509, Kurtosis: 3.100517\n",
            "hangang -> Skewness: 6.358349, Kurtosis: 38.428662\n",
            "day_diff -> Skewness: -0.589751, Kurtosis: 4.573129\n",
            "is_rebuild -> Skewness: 3.324832, Kurtosis: 9.054522\n"
          ],
          "name": "stdout"
        }
      ]
    },
    {
      "cell_type": "code",
      "metadata": {
        "colab": {
          "base_uri": "https://localhost:8080/"
        },
        "id": "yJ-FEuhxy-Ad",
        "outputId": "d34b5155-2d04-46fc-c83d-403207433004"
      },
      "source": [
        "for column in train_columns :\n",
        "    train[column] = np.log1p(train[column])\n",
        "    test[column] = np.log1p(test[column])\n",
        "    print(\"%s -> Skewness: %f, Kurtosis: %f\" %  (column,train[column].skew(), train[column].kurt()))"
      ],
      "execution_count": null,
      "outputs": [
        {
          "output_type": "stream",
          "text": [
            "exclusive_use_area -> Skewness: -0.438156, Kurtosis: 1.744119\n",
            "hangang -> Skewness: 6.358349, Kurtosis: 38.428662\n",
            "day_diff -> Skewness: -1.128137, Kurtosis: 6.788569\n",
            "is_rebuild -> Skewness: 3.324832, Kurtosis: 9.054522\n"
          ],
          "name": "stdout"
        }
      ]
    },
    {
      "cell_type": "code",
      "metadata": {
        "colab": {
          "base_uri": "https://localhost:8080/",
          "height": 496
        },
        "id": "PYvj7bkHzE44",
        "outputId": "376c9da4-353f-445e-ecd2-229da4d22ea1"
      },
      "source": [
        "k=train.shape[1] #히트맵 변수 갯수\n",
        "corrmat = train.corr() \n",
        "cols = corrmat.nlargest(k, 'transaction_real_price')['transaction_real_price'].index \n",
        "cm = np.corrcoef(train[cols].values.T)\n",
        "f, ax = plt.subplots(figsize=(20, 6))\n",
        "sns.heatmap(data = cm, annot=True, square=True, fmt = '.2f', linewidths=.5, cmap='Reds', yticklabels = cols.values, xticklabels = cols.values)"
      ],
      "execution_count": null,
      "outputs": [
        {
          "output_type": "execute_result",
          "data": {
            "text/plain": [
              "<matplotlib.axes._subplots.AxesSubplot at 0x7ff7fac98590>"
            ]
          },
          "metadata": {
            "tags": []
          },
          "execution_count": 68
        },
        {
          "output_type": "display_data",
          "data": {
            "image/png": "[encoded data removed]",
            "text/plain": [
              "<Figure size 1440x432 with 2 Axes>"
            ]
          },
          "metadata": {
            "tags": [],
            "needs_background": "light"
          }
        }
      ]
    },
    {
      "cell_type": "markdown",
      "metadata": {
        "id": "hShf4iiIzOc8"
      },
      "source": [
        "# Modeling"
      ]
    },
    {
      "cell_type": "code",
      "metadata": {
        "id": "83AX3KZvzLZ8"
      },
      "source": [
        "from sklearn.linear_model import ElasticNet, Lasso\n",
        "from sklearn.ensemble import GradientBoostingRegressor, RandomForestRegressor\n",
        "from sklearn.kernel_ridge import KernelRidge\n",
        "from sklearn.pipeline import make_pipeline\n",
        "from sklearn.preprocessing import RobustScaler\n",
        "from sklearn.model_selection import KFold, cross_val_score, train_test_split\n",
        "from sklearn.metrics import mean_squared_error\n",
        "import xgboost as xgb\n",
        "import lightgbm as lgb"
      ],
      "execution_count": null,
      "outputs": []
    },
    {
      "cell_type": "code",
      "metadata": {
        "id": "vdzp94AQzSCH"
      },
      "source": [
        "target = train['transaction_real_price']\n",
        "del train['transaction_real_price']"
      ],
      "execution_count": null,
      "outputs": []
    },
    {
      "cell_type": "code",
      "metadata": {
        "id": "_DhW2v8MzUkO"
      },
      "source": [
        "n_folds = 2\n",
        "\n",
        "def cv_score(models):\n",
        "    kfold = KFold(n_splits=n_folds, shuffle=True ,random_state=42).get_n_splits(train.values)\n",
        "    for m in models:\n",
        "        cvs = np.mean(cross_val_score(m['model'], train.values, target, cv=kfold))\n",
        "        rmse = np.mean(np.sqrt(-cross_val_score(m['model'], train.values, np.expm1(target), scoring = \"neg_mean_squared_error\", cv = kfold)))\n",
        "        print(\"Model {} CV score : {:.4f}\".format(m['name'], cvs))\n",
        "        print(\"RMSE : {:.4f}\".format(rmse))"
      ],
      "execution_count": null,
      "outputs": []
    },
    {
      "cell_type": "code",
      "metadata": {
        "id": "zNNfHqwzzW9u"
      },
      "source": [
        "lasso = make_pipeline(RobustScaler(), Lasso(alpha = 0.0005, random_state=42))\n",
        "ENet = make_pipeline(RobustScaler(), ElasticNet(alpha=0.0005, l1_ratio=.9, random_state=42))\n",
        "gboost = GradientBoostingRegressor(random_state=42)\n",
        "forest = RandomForestRegressor(n_estimators = 100, n_jobs = -1, random_state=42)\n",
        "xgboost = xgb.XGBRegressor(random_state=42)\n",
        "lightgbm = lgb.LGBMRegressor(random_state=42, num_leaves = 100, min_data_in_leaf = 15, max_depth=6,\n",
        "                            learning_rate = 0.1, min_child_samples = 30, feature_fraction=0.9, bagging_freq= 1,\n",
        "                            bagging_fraction = 0.9, bagging_seed = 11, lambda_l1 = 0.1, verbosity = -1 )\n",
        "\n",
        "models = [{'model': gboost, 'name':'GradientBoosting'}, \n",
        "          {'model': xgboost, 'name':'XGBoost'},\n",
        "          {'model': lightgbm, 'name':'LightGBM'}, \n",
        "          {'model' : lasso, 'name' : 'LASSO Regression'}, \n",
        "          {'model' : ENet, 'name' : 'Elastic Net Regression'}, \n",
        "          {'model' : forest, 'name' : 'RandomForset'}]"
      ],
      "execution_count": null,
      "outputs": []
    },
    {
      "cell_type": "code",
      "metadata": {
        "colab": {
          "base_uri": "https://localhost:8080/"
        },
        "id": "et_CNSe9zbUP",
        "outputId": "d6c66be1-cf2d-4b18-df0d-7fd78122f980"
      },
      "source": [
        "start = timeit.default_timer()\n",
        "cv_score(models)\n",
        "stop = timeit.default_timer()\n",
        "print('불러오는데 걸린 시간 : {}초'.format(stop - start))"
      ],
      "execution_count": null,
      "outputs": [
        {
          "output_type": "stream",
          "text": [
            "Model GradientBoosting CV score : 0.5817\n",
            "RMSE : 15799.0451\n",
            "[08:27:41] WARNING: /workspace/src/objective/regression_obj.cu:152: reg:linear is now deprecated in favor of reg:squarederror.\n",
            "[08:28:20] WARNING: /workspace/src/objective/regression_obj.cu:152: reg:linear is now deprecated in favor of reg:squarederror.\n",
            "[08:29:01] WARNING: /workspace/src/objective/regression_obj.cu:152: reg:linear is now deprecated in favor of reg:squarederror.\n",
            "[08:29:40] WARNING: /workspace/src/objective/regression_obj.cu:152: reg:linear is now deprecated in favor of reg:squarederror.\n",
            "Model XGBoost CV score : 0.5947\n",
            "RMSE : 15868.0485\n",
            "Model LightGBM CV score : 0.6131\n",
            "RMSE : 14330.6681\n"
          ],
          "name": "stdout"
        },
        {
          "output_type": "stream",
          "text": [
            "/usr/local/lib/python3.7/dist-packages/sklearn/linear_model/_coordinate_descent.py:476: ConvergenceWarning: Objective did not converge. You might want to increase the number of iterations. Duality gap: 2603139171564.703, tolerance: 40952955908.86993\n",
            "  positive)\n",
            "/usr/local/lib/python3.7/dist-packages/sklearn/linear_model/_coordinate_descent.py:476: ConvergenceWarning: Objective did not converge. You might want to increase the number of iterations. Duality gap: 4792351208476.406, tolerance: 66108280026.483154\n",
            "  positive)\n"
          ],
          "name": "stderr"
        },
        {
          "output_type": "stream",
          "text": [
            "Model LASSO Regression CV score : 0.6842\n",
            "RMSE : 19852.5360\n"
          ],
          "name": "stdout"
        },
        {
          "output_type": "stream",
          "text": [
            "/usr/local/lib/python3.7/dist-packages/sklearn/linear_model/_coordinate_descent.py:476: ConvergenceWarning: Objective did not converge. You might want to increase the number of iterations. Duality gap: 63250991868534.33, tolerance: 40952955908.86993\n",
            "  positive)\n",
            "/usr/local/lib/python3.7/dist-packages/sklearn/linear_model/_coordinate_descent.py:476: ConvergenceWarning: Objective did not converge. You might want to increase the number of iterations. Duality gap: 119067374000148.31, tolerance: 66108280026.483154\n",
            "  positive)\n"
          ],
          "name": "stderr"
        },
        {
          "output_type": "stream",
          "text": [
            "Model Elastic Net Regression CV score : 0.6841\n",
            "RMSE : 19848.9725\n",
            "Model RandomForset CV score : 0.5636\n",
            "RMSE : 15188.2729\n",
            "불러오는데 걸린 시간 : 1990.8073172250006초\n"
          ],
          "name": "stdout"
        }
      ]
    },
    {
      "cell_type": "code",
      "metadata": {
        "id": "90YT0k0Q7tlO"
      },
      "source": [
        "models = [{'model':xgboost, 'name':'XGBoost'},\n",
        "          {'model':lightgbm, 'name':'LightGBM'},\n",
        "         {'model':forest, 'name' : 'RandomForest'}]\n",
        "\n",
        "def AveragingBlending(models, x, y, sub_x):\n",
        "    for m in models : \n",
        "        m['model'].fit(x.values, y)\n",
        "    \n",
        "    predictions = np.column_stack([m['model'].predict(sub_x.values) for m in models])\n",
        "    return predictions"
      ],
      "execution_count": null,
      "outputs": []
    },
    {
      "cell_type": "code",
      "metadata": {
        "colab": {
          "base_uri": "https://localhost:8080/"
        },
        "id": "slZwLhUz70Mv",
        "outputId": "66d0a4b0-6fdf-4fc6-d48e-a188dce850d4"
      },
      "source": [
        "start = timeit.default_timer()\n",
        "\n",
        "y_test_pred = AveragingBlending(models, train, target, test)\n",
        "y_test_pred = (y_test_pred[:, 0]*0.05 + y_test_pred[:, 1]*0.1 + y_test_pred[:, 2]*0.85)\n",
        "predictions = y_test_pred\n",
        "\n",
        "stop = timeit.default_timer()\n",
        "print('불러오는데 걸린 시간 : {}초'.format(stop - start))"
      ],
      "execution_count": null,
      "outputs": [
        {
          "output_type": "stream",
          "text": [
            "[09:15:16] WARNING: /workspace/src/objective/regression_obj.cu:152: reg:linear is now deprecated in favor of reg:squarederror.\n",
            "불러오는데 걸린 시간 : 822.3969534390017초\n"
          ],
          "name": "stdout"
        }
      ]
    },
    {
      "cell_type": "code",
      "metadata": {
        "id": "SV46iULuzefI"
      },
      "source": [
        "sub = pd.read_csv('/tutorial/submission.csv')"
      ],
      "execution_count": null,
      "outputs": []
    },
    {
      "cell_type": "code",
      "metadata": {
        "id": "MfA29Q6R7OB0"
      },
      "source": [
        "sub['transaction_real_price']=np.expm1(predictions)"
      ],
      "execution_count": null,
      "outputs": []
    },
    {
      "cell_type": "code",
      "metadata": {
        "id": "r62G39XU7kCi"
      },
      "source": [
        "sub.to_csv('/tutorial/submission.csv', index=False)"
      ],
      "execution_count": null,
      "outputs": []
    }
  ]
}