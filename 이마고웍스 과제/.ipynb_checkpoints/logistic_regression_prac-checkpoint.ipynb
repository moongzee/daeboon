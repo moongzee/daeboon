{
 "cells": [
  {
   "cell_type": "code",
   "execution_count": 1,
   "metadata": {},
   "outputs": [],
   "source": [
    "## 로지스틱 회귀 분석 연습 [어떤 좌표값이 Accuracy에 영향을 주는가]"
   ]
  },
  {
   "cell_type": "code",
   "execution_count": 2,
   "metadata": {},
   "outputs": [
    {
     "data": {
      "text/html": [
       "<div>\n",
       "<style scoped>\n",
       "    .dataframe tbody tr th:only-of-type {\n",
       "        vertical-align: middle;\n",
       "    }\n",
       "\n",
       "    .dataframe tbody tr th {\n",
       "        vertical-align: top;\n",
       "    }\n",
       "\n",
       "    .dataframe thead th {\n",
       "        text-align: right;\n",
       "    }\n",
       "</style>\n",
       "<table border=\"1\" class=\"dataframe\">\n",
       "  <thead>\n",
       "    <tr style=\"text-align: right;\">\n",
       "      <th></th>\n",
       "      <th>x</th>\n",
       "      <th>y</th>\n",
       "      <th>z</th>\n",
       "      <th>real</th>\n",
       "      <th>guess</th>\n",
       "      <th>Accuracy</th>\n",
       "      <th>category</th>\n",
       "    </tr>\n",
       "  </thead>\n",
       "  <tbody>\n",
       "    <tr>\n",
       "      <th>0</th>\n",
       "      <td>-24.349979</td>\n",
       "      <td>-6.683811</td>\n",
       "      <td>-25.320509</td>\n",
       "      <td>0</td>\n",
       "      <td>0</td>\n",
       "      <td>1</td>\n",
       "      <td>ddh</td>\n",
       "    </tr>\n",
       "    <tr>\n",
       "      <th>1</th>\n",
       "      <td>-24.231140</td>\n",
       "      <td>-6.902044</td>\n",
       "      <td>-25.344255</td>\n",
       "      <td>0</td>\n",
       "      <td>0</td>\n",
       "      <td>1</td>\n",
       "      <td>ddh</td>\n",
       "    </tr>\n",
       "    <tr>\n",
       "      <th>2</th>\n",
       "      <td>-24.265633</td>\n",
       "      <td>-6.800621</td>\n",
       "      <td>-25.410980</td>\n",
       "      <td>0</td>\n",
       "      <td>0</td>\n",
       "      <td>1</td>\n",
       "      <td>ddh</td>\n",
       "    </tr>\n",
       "    <tr>\n",
       "      <th>3</th>\n",
       "      <td>-24.186052</td>\n",
       "      <td>-6.917467</td>\n",
       "      <td>-25.108315</td>\n",
       "      <td>0</td>\n",
       "      <td>0</td>\n",
       "      <td>1</td>\n",
       "      <td>ddh</td>\n",
       "    </tr>\n",
       "    <tr>\n",
       "      <th>4</th>\n",
       "      <td>-24.256601</td>\n",
       "      <td>-6.849070</td>\n",
       "      <td>-25.456841</td>\n",
       "      <td>0</td>\n",
       "      <td>0</td>\n",
       "      <td>1</td>\n",
       "      <td>ddh</td>\n",
       "    </tr>\n",
       "    <tr>\n",
       "      <th>...</th>\n",
       "      <td>...</td>\n",
       "      <td>...</td>\n",
       "      <td>...</td>\n",
       "      <td>...</td>\n",
       "      <td>...</td>\n",
       "      <td>...</td>\n",
       "      <td>...</td>\n",
       "    </tr>\n",
       "    <tr>\n",
       "      <th>145077</th>\n",
       "      <td>-27.796576</td>\n",
       "      <td>-16.609455</td>\n",
       "      <td>1.305533</td>\n",
       "      <td>0</td>\n",
       "      <td>0</td>\n",
       "      <td>1</td>\n",
       "      <td>daeyou</td>\n",
       "    </tr>\n",
       "    <tr>\n",
       "      <th>145078</th>\n",
       "      <td>-27.836927</td>\n",
       "      <td>-16.505949</td>\n",
       "      <td>1.178141</td>\n",
       "      <td>0</td>\n",
       "      <td>0</td>\n",
       "      <td>1</td>\n",
       "      <td>daeyou</td>\n",
       "    </tr>\n",
       "    <tr>\n",
       "      <th>145079</th>\n",
       "      <td>-27.827051</td>\n",
       "      <td>-16.311766</td>\n",
       "      <td>1.091510</td>\n",
       "      <td>0</td>\n",
       "      <td>0</td>\n",
       "      <td>1</td>\n",
       "      <td>daeyou</td>\n",
       "    </tr>\n",
       "    <tr>\n",
       "      <th>145080</th>\n",
       "      <td>-27.197662</td>\n",
       "      <td>-16.765966</td>\n",
       "      <td>2.268517</td>\n",
       "      <td>0</td>\n",
       "      <td>0</td>\n",
       "      <td>1</td>\n",
       "      <td>daeyou</td>\n",
       "    </tr>\n",
       "    <tr>\n",
       "      <th>145081</th>\n",
       "      <td>-27.389450</td>\n",
       "      <td>-16.905693</td>\n",
       "      <td>2.080765</td>\n",
       "      <td>0</td>\n",
       "      <td>0</td>\n",
       "      <td>1</td>\n",
       "      <td>daeyou</td>\n",
       "    </tr>\n",
       "  </tbody>\n",
       "</table>\n",
       "<p>145082 rows × 7 columns</p>\n",
       "</div>"
      ],
      "text/plain": [
       "                x          y          z  real  guess  Accuracy category\n",
       "0      -24.349979  -6.683811 -25.320509     0      0         1      ddh\n",
       "1      -24.231140  -6.902044 -25.344255     0      0         1      ddh\n",
       "2      -24.265633  -6.800621 -25.410980     0      0         1      ddh\n",
       "3      -24.186052  -6.917467 -25.108315     0      0         1      ddh\n",
       "4      -24.256601  -6.849070 -25.456841     0      0         1      ddh\n",
       "...           ...        ...        ...   ...    ...       ...      ...\n",
       "145077 -27.796576 -16.609455   1.305533     0      0         1   daeyou\n",
       "145078 -27.836927 -16.505949   1.178141     0      0         1   daeyou\n",
       "145079 -27.827051 -16.311766   1.091510     0      0         1   daeyou\n",
       "145080 -27.197662 -16.765966   2.268517     0      0         1   daeyou\n",
       "145081 -27.389450 -16.905693   2.080765     0      0         1   daeyou\n",
       "\n",
       "[145082 rows x 7 columns]"
      ]
     },
     "execution_count": 2,
     "metadata": {},
     "output_type": "execute_result"
    }
   ],
   "source": [
    "import pandas as pd \n",
    "from sklearn import datasets\n",
    "\n",
    "data=pd.read_csv('C:/Users/imagoworks-moongzeee/Desktop/과제/2021.01.21 과제/EDA_DATA.csv')\n",
    "data['Accuracy']=data['Accuracy'].astype(int)\n",
    "data"
   ]
  },
  {
   "cell_type": "code",
   "execution_count": 3,
   "metadata": {},
   "outputs": [],
   "source": [
    "import numpy as np\n",
    "from sklearn.model_selection import train_test_split\n",
    "\n",
    "x=data[['x','y','z']]\n",
    "y=data['Accuracy']\n",
    "\n",
    "x_train, x_test, y_train, y_test = train_test_split(x,y, test_size=0.3, random_state=0)"
   ]
  },
  {
   "cell_type": "code",
   "execution_count": 4,
   "metadata": {},
   "outputs": [
    {
     "name": "stdout",
     "output_type": "stream",
     "text": [
      "학습용 데이터 셋 정확도: 0.97\n",
      "검증용 데이터 셋 정확도: 0.97\n"
     ]
    }
   ],
   "source": [
    "from sklearn.linear_model import LogisticRegression\n",
    "log=LogisticRegression()\n",
    "\n",
    "log.fit(x_train, y_train)\n",
    "print('학습용 데이터 셋 정확도: %.2f' %log.score(x_train,y_train))\n",
    "print('검증용 데이터 셋 정확도: %.2f' %log.score(x_test,y_test))"
   ]
  },
  {
   "cell_type": "code",
   "execution_count": 5,
   "metadata": {},
   "outputs": [
    {
     "name": "stdout",
     "output_type": "stream",
     "text": [
      "              precision    recall  f1-score   support\n",
      "\n",
      "           0       0.00      0.00      0.00      1446\n",
      "           1       0.97      1.00      0.98     42079\n",
      "\n",
      "    accuracy                           0.97     43525\n",
      "   macro avg       0.48      0.50      0.49     43525\n",
      "weighted avg       0.93      0.97      0.95     43525\n",
      "\n"
     ]
    },
    {
     "name": "stderr",
     "output_type": "stream",
     "text": [
      "C:\\Users\\imagoworks-moongzeee\\.conda\\envs\\py\\lib\\site-packages\\sklearn\\metrics\\_classification.py:1245: UndefinedMetricWarning: Precision and F-score are ill-defined and being set to 0.0 in labels with no predicted samples. Use `zero_division` parameter to control this behavior.\n",
      "  _warn_prf(average, modifier, msg_start, len(result))\n",
      "C:\\Users\\imagoworks-moongzeee\\.conda\\envs\\py\\lib\\site-packages\\sklearn\\metrics\\_classification.py:1245: UndefinedMetricWarning: Precision and F-score are ill-defined and being set to 0.0 in labels with no predicted samples. Use `zero_division` parameter to control this behavior.\n",
      "  _warn_prf(average, modifier, msg_start, len(result))\n",
      "C:\\Users\\imagoworks-moongzeee\\.conda\\envs\\py\\lib\\site-packages\\sklearn\\metrics\\_classification.py:1245: UndefinedMetricWarning: Precision and F-score are ill-defined and being set to 0.0 in labels with no predicted samples. Use `zero_division` parameter to control this behavior.\n",
      "  _warn_prf(average, modifier, msg_start, len(result))\n"
     ]
    }
   ],
   "source": [
    "from sklearn.metrics import classification_report\n",
    "y_pred=log.predict(x_test)\n",
    "print(classification_report(y_test, y_pred))"
   ]
  },
  {
   "cell_type": "code",
   "execution_count": 6,
   "metadata": {},
   "outputs": [
    {
     "name": "stdout",
     "output_type": "stream",
     "text": [
      "Optimization terminated successfully.\n",
      "         Current function value: 0.182135\n",
      "         Iterations 9\n"
     ]
    }
   ],
   "source": [
    "import statsmodels.api as sm\n",
    "logit=sm.Logit(data[['Accuracy']],x)\n",
    "result=logit.fit()"
   ]
  },
  {
   "cell_type": "code",
   "execution_count": 7,
   "metadata": {},
   "outputs": [
    {
     "data": {
      "text/html": [
       "<table class=\"simpletable\">\n",
       "<tr>\n",
       "        <td>Model:</td>              <td>Logit</td>      <td>Pseudo R-squared:</td>   <td>-0.235</td>  \n",
       "</tr>\n",
       "<tr>\n",
       "  <td>Dependent Variable:</td>     <td>Accuracy</td>           <td>AIC:</td>        <td>52855.1468</td>\n",
       "</tr>\n",
       "<tr>\n",
       "         <td>Date:</td>        <td>2021-02-03 15:00</td>       <td>BIC:</td>        <td>52884.8020</td>\n",
       "</tr>\n",
       "<tr>\n",
       "   <td>No. Observations:</td>       <td>145082</td>       <td>Log-Likelihood:</td>    <td>-26425.</td> \n",
       "</tr>\n",
       "<tr>\n",
       "       <td>Df Model:</td>              <td>2</td>            <td>LL-Null:</td>        <td>-21394.</td> \n",
       "</tr>\n",
       "<tr>\n",
       "     <td>Df Residuals:</td>         <td>145079</td>        <td>LLR p-value:</td>      <td>1.0000</td>  \n",
       "</tr>\n",
       "<tr>\n",
       "      <td>Converged:</td>           <td>1.0000</td>           <td>Scale:</td>         <td>1.0000</td>  \n",
       "</tr>\n",
       "<tr>\n",
       "    <td>No. Iterations:</td>        <td>9.0000</td>              <td></td>               <td></td>     \n",
       "</tr>\n",
       "</table>\n",
       "<table class=\"simpletable\">\n",
       "<tr>\n",
       "  <td></td>   <th>Coef.</th>  <th>Std.Err.</th>     <th>z</th>      <th>P>|z|</th> <th>[0.025</th>  <th>0.975]</th> \n",
       "</tr>\n",
       "<tr>\n",
       "  <th>x</th> <td>0.0018</td>   <td>0.0006</td>   <td>3.2357</td>   <td>0.0012</td> <td>0.0007</td>  <td>0.0029</td> \n",
       "</tr>\n",
       "<tr>\n",
       "  <th>y</th> <td>-0.5371</td>  <td>0.0031</td>  <td>-173.4911</td> <td>0.0000</td> <td>-0.5432</td> <td>-0.5311</td>\n",
       "</tr>\n",
       "<tr>\n",
       "  <th>z</th> <td>0.0041</td>   <td>0.0007</td>   <td>5.8082</td>   <td>0.0000</td> <td>0.0027</td>  <td>0.0055</td> \n",
       "</tr>\n",
       "</table>"
      ],
      "text/plain": [
       "<class 'statsmodels.iolib.summary2.Summary'>\n",
       "\"\"\"\n",
       "                         Results: Logit\n",
       "=================================================================\n",
       "Model:              Logit            Pseudo R-squared: -0.235    \n",
       "Dependent Variable: Accuracy         AIC:              52855.1468\n",
       "Date:               2021-02-03 15:00 BIC:              52884.8020\n",
       "No. Observations:   145082           Log-Likelihood:   -26425.   \n",
       "Df Model:           2                LL-Null:          -21394.   \n",
       "Df Residuals:       145079           LLR p-value:      1.0000    \n",
       "Converged:          1.0000           Scale:            1.0000    \n",
       "No. Iterations:     9.0000                                       \n",
       "-------------------------------------------------------------------\n",
       "         Coef.    Std.Err.       z       P>|z|     [0.025    0.975]\n",
       "-------------------------------------------------------------------\n",
       "x        0.0018     0.0006      3.2357   0.0012    0.0007    0.0029\n",
       "y       -0.5371     0.0031   -173.4911   0.0000   -0.5432   -0.5311\n",
       "z        0.0041     0.0007      5.8082   0.0000    0.0027    0.0055\n",
       "=================================================================\n",
       "\n",
       "\"\"\""
      ]
     },
     "execution_count": 7,
     "metadata": {},
     "output_type": "execute_result"
    }
   ],
   "source": [
    "result.summary2()"
   ]
  },
  {
   "cell_type": "code",
   "execution_count": 8,
   "metadata": {},
   "outputs": [],
   "source": [
    "#y 좌표의 오즈비의 값이 1과 떨어져 있으므로, y좌표가 Accuracy의 값에 영향을 준다."
   ]
  },
  {
   "cell_type": "code",
   "execution_count": 9,
   "metadata": {},
   "outputs": [
    {
     "data": {
      "text/plain": [
       "x    1.001794\n",
       "y    0.584413\n",
       "z    1.004136\n",
       "dtype: float64"
      ]
     },
     "execution_count": 9,
     "metadata": {},
     "output_type": "execute_result"
    }
   ],
   "source": [
    "np.exp(result.params)"
   ]
  },
  {
   "cell_type": "code",
   "execution_count": null,
   "metadata": {},
   "outputs": [],
   "source": []
  }
 ],
 "metadata": {
  "kernelspec": {
   "display_name": "Python 3",
   "language": "python",
   "name": "python3"
  },
  "language_info": {
   "codemirror_mode": {
    "name": "ipython",
    "version": 3
   },
   "file_extension": ".py",
   "mimetype": "text/x-python",
   "name": "python",
   "nbconvert_exporter": "python",
   "pygments_lexer": "ipython3",
   "version": "3.8.5"
  }
 },
 "nbformat": 4,
 "nbformat_minor": 2
}
