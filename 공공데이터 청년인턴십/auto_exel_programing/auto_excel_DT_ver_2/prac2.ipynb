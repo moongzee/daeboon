{
 "cells": [
  {
   "cell_type": "code",
   "execution_count": 4,
   "metadata": {},
   "outputs": [
    {
     "ename": "SyntaxError",
     "evalue": "invalid syntax (<ipython-input-4-4390557215ab>, line 19)",
     "output_type": "error",
     "traceback": [
      "\u001b[1;36m  File \u001b[1;32m\"<ipython-input-4-4390557215ab>\"\u001b[1;36m, line \u001b[1;32m19\u001b[0m\n\u001b[1;33m    for j in data_frame.\u001b[0m\n\u001b[1;37m                        ^\u001b[0m\n\u001b[1;31mSyntaxError\u001b[0m\u001b[1;31m:\u001b[0m invalid syntax\n"
     ]
    }
   ],
   "source": [
    "import os\n",
    "import pandas as pd\n",
    "\n",
    "# input 폴더 안 파일들의 리스트를 불러옵니다\n",
    "path_dir = './input/'\n",
    "file_list = os.listdir(path_dir)\n",
    "\n",
    "first_sum_df = pd.DataFrame() # 데이터 프레임을 사용할 것이라는 명시만 한다\n",
    "\n",
    "for i in range(len(file_list)):\n",
    "    # 여기서는 데이터를 처리하는 구간입니다\n",
    "    data_frame = pd.read_excel('./input/' + file_list[i], sheet_name='개방결과정리') # 엑셀 파일 불러오기\n",
    "    data_frame = data_frame[['① 광역시도내 기관별개방현황','Unnamed: 2','Unnamed: 3']][2:7] # top5 랭킹 데이터만 가져오기\n",
    "    data_frame.columns = ['Ranking', 'Name', 'Quantity'] # 속성명이 이상하게 되어있으므로 다시 잡아주기\n",
    "    \n",
    "    \n",
    "    # 여기서부터는 현재 결과를 sum 결과에 저장합니다\n",
    "    \n",
    "    for j in data_frame.\n",
    "    \n",
    "    \n",
    "    \n",
    "    \n",
    "    \n",
    "\n",
    "    data_frame = data_frame.append({'Ranking': '', 'Name': '', 'Quantity': ''}, ignore_index=True)  # 한칸 띄워주기\n",
    "    first_sum_df = pd.concat([first_sum_df,data_frame])\n",
    "    \n",
    "\n",
    "\n",
    "    \n",
    "    \n",
    "    \n",
    "    \n",
    "    \n",
    "    \n",
    "first_sum_df.to_excel('result.xlsx',index = False)"
   ]
  },
  {
   "cell_type": "code",
   "execution_count": null,
   "metadata": {},
   "outputs": [],
   "source": []
  }
 ],
 "metadata": {
  "kernelspec": {
   "display_name": "Python 3",
   "language": "python",
   "name": "python3"
  },
  "language_info": {
   "codemirror_mode": {
    "name": "ipython",
    "version": 3
   },
   "file_extension": ".py",
   "mimetype": "text/x-python",
   "name": "python",
   "nbconvert_exporter": "python",
   "pygments_lexer": "ipython3",
   "version": "3.8.3"
  }
 },
 "nbformat": 4,
 "nbformat_minor": 4
}
