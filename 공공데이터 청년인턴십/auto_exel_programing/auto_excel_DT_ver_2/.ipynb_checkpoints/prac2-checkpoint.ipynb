{
 "cells": [
  {
   "cell_type": "code",
   "execution_count": 12,
   "metadata": {},
   "outputs": [],
   "source": [
    "import os\n",
    "import pandas as pd\n",
    "\n",
    "# input 폴더 안 파일들의 리스트를 불러옵니다\n",
    "path_dir = './input/'\n",
    "file_list = os.listdir(path_dir)\n",
    "\n",
    "first_sum_df = pd.DataFrame() # 데이터 프레임을 사용할 것이라는 명시만 한다\n",
    "\n",
    "for i in range(len(file_list)):\n",
    "    # 여기서는 데이터를 처리하는 구간입니다\n",
    "    data_frame = pd.read_excel('./input/' + file_list[i], sheet_name='개방결과정리') # 엑셀 파일 불러오기\n",
    "    data_frame = data_frame[['① 광역시도내 기관별개방현황','Unnamed: 2','Unnamed: 3']][2:7] # top5 랭킹 데이터만 가져오기\n",
    "    data_frame.columns = ['Ranking', 'Name', 'Quantity'] # 속성명이 이상하게 되어있으므로 다시 잡아주기\n",
    "\n",
    "    data_frame = data_frame.append({'Ranking': '', 'Name': '', 'Quantity': ''}, ignore_index=True)  # 한칸 띄워주기\n",
    "    final_df = pd.concat([first_sum_df,data_frame])\n",
    "    \n",
    "first_sum_df.to_excel('result.xlsx',index = False)"
   ]
  }
 ],
 "metadata": {
  "kernelspec": {
   "display_name": "Python 3",
   "language": "python",
   "name": "python3"
  },
  "language_info": {
   "codemirror_mode": {
    "name": "ipython",
    "version": 3
   },
   "file_extension": ".py",
   "mimetype": "text/x-python",
   "name": "python",
   "nbconvert_exporter": "python",
   "pygments_lexer": "ipython3",
   "version": "3.8.5"
  }
 },
 "nbformat": 4,
 "nbformat_minor": 4
}
