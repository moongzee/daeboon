{
 "metadata": {
  "language_info": {
   "codemirror_mode": {
    "name": "ipython",
    "version": 3
   },
   "file_extension": ".py",
   "mimetype": "text/x-python",
   "name": "python",
   "nbconvert_exporter": "python",
   "pygments_lexer": "ipython3",
   "version": "3.8.5-final"
  },
  "orig_nbformat": 2,
  "kernelspec": {
   "name": "python3",
   "display_name": "Python 3.8.5 64-bit ('py': conda)",
   "metadata": {
    "interpreter": {
     "hash": "b7bc1cfecc7c3f2136cc7073dfd33475e7d1121f6edcd8f90e78fb1ed941e158"
    }
   }
  }
 },
 "nbformat": 4,
 "nbformat_minor": 2,
 "cells": [
  {
   "cell_type": "code",
   "execution_count": 1,
   "metadata": {},
   "outputs": [],
   "source": [
    "import pandas as pd \n",
    "\n",
    "data=pd.read_csv(r'C:\\Users\\imagoworks-moongzeee\\test\\ml_preprocessing4.csv')"
   ]
  },
  {
   "cell_type": "code",
   "execution_count": 2,
   "metadata": {},
   "outputs": [],
   "source": [
    "X_num=data[['x','y','z','density']]\n",
    "y=data['label']"
   ]
  },
  {
   "cell_type": "code",
   "execution_count": 3,
   "metadata": {},
   "outputs": [],
   "source": [
    "from sklearn.preprocessing import StandardScaler\n",
    "from sklearn.model_selection import train_test_split\n",
    "\n",
    "scaler = StandardScaler()\n",
    "scaler.fit(X_num)\n",
    "X_scaled = scaler.transform(X_num)\n",
    "X_scaled = pd.DataFrame(data=X_scaled, index=X_num.index, columns=X_num.columns)\n",
    "\n",
    "X = X_scaled"
   ]
  },
  {
   "cell_type": "code",
   "execution_count": 4,
   "metadata": {},
   "outputs": [],
   "source": [
    "X_train, X_test, y_train, y_test = train_test_split(X, y, test_size=0.3, random_state=1)"
   ]
  },
  {
   "cell_type": "code",
   "execution_count": 5,
   "metadata": {},
   "outputs": [
    {
     "output_type": "stream",
     "name": "stdout",
     "text": [
      "[16:49:09] WARNING: C:/Users/Administrator/workspace/xgboost-win64_release_1.3.0/src/learner.cc:1061: Starting in XGBoost 1.3.0, the default evaluation metric used with the objective 'multi:softprob' was changed from 'merror' to 'mlogloss'. Explicitly set eval_metric if you'd like to restore the old behavior.\n"
     ]
    },
    {
     "output_type": "execute_result",
     "data": {
      "text/plain": [
       "XGBClassifier(base_score=0.5, booster='gbtree', colsample_bylevel=1,\n",
       "              colsample_bynode=1, colsample_bytree=1, gamma=0, gpu_id=-1,\n",
       "              importance_type='gain', interaction_constraints='',\n",
       "              learning_rate=0.300000012, max_delta_step=0, max_depth=6,\n",
       "              min_child_weight=1, missing=nan, monotone_constraints='()',\n",
       "              n_estimators=100, n_jobs=16, num_parallel_tree=1,\n",
       "              objective='multi:softprob', random_state=0, reg_alpha=0,\n",
       "              reg_lambda=1, scale_pos_weight=None, subsample=1,\n",
       "              tree_method='approx', validate_parameters=1, verbosity=None)"
      ]
     },
     "metadata": {},
     "execution_count": 5
    }
   ],
   "source": [
    "from xgboost import XGBClassifier\n",
    "\n",
    "model_xgb = XGBClassifier()\n",
    "model_xgb.fit(X_train, y_train)"
   ]
  },
  {
   "cell_type": "code",
   "execution_count": 6,
   "metadata": {},
   "outputs": [],
   "source": [
    "pred=model_xgb.predict(X_test)"
   ]
  },
  {
   "cell_type": "code",
   "execution_count": 7,
   "metadata": {},
   "outputs": [
    {
     "output_type": "execute_result",
     "data": {
      "text/plain": [
       "0.785372944429978"
      ]
     },
     "metadata": {},
     "execution_count": 7
    }
   ],
   "source": [
    "from sklearn.metrics import accuracy_score\n",
    "accuracy=accuracy_score(y_test, pred)\n",
    "accuracy"
   ]
  },
  {
   "cell_type": "code",
   "execution_count": 8,
   "metadata": {},
   "outputs": [
    {
     "output_type": "stream",
     "name": "stdout",
     "text": [
      "[[1726750    8100    7783    9181    8896    6255   11965   15371     230\n     6723    6942    8988    8356    6681   13061   15479     456]\n [   8596   38132    4544     187       1       0       0       0       0\n     4604     231       1       0       0       0       0       0]\n [  10286    5512   39271    4827      92       0       0       0       0\n      233       0       0       0       0     207       8       0]\n [  15426     203    5449   41487    5878      99       2       0       0\n       98       3       0      34      22     524     223       0]\n [  18193      70     312    7438   38876    6239     285      38       0\n        0       0      12     103     238    1446     378       0]\n [  19709       0       1     450    8641   33990    8166      86       0\n        0       0       4     860    1291    2276     586      26]\n [  32382       0       0      47    1335    9031   68882   10090      30\n        0       7     405    2893    2704    1560     199      37]\n [  27735       0       0       0      32      89   10807   69313     188\n        0       0      53     947     592     120       0       0]\n [   2017       0       0       0       0       0       0    2042    2361\n        0       0       0       0       0       0       0       0]\n [   8502    4048     173       0       0       0       0       0       0\n    38268    5047     109       0       0       0       0       0]\n [   9804     146       0       0       2       0       1       0       0\n     4893   37974    5855     146       5       0       0       0]\n [  16910       0       0       0      13      39     145      30       0\n      140    5764   41656    7250     381      23      42       0]\n [  22034       0       0      97     285     274    1401     515       0\n        0     146    8046   34761    6812    1234     511       0]\n [  21990       0       0      45     583    1331    1394     365       0\n        0      16     786    8521   28846   10815     595       0]\n [  33957       0       2     594    3576    2810    1069     126       0\n        0       2     187    1383    8024   70563   11978      22]\n [  26270       0       0     314    1169     509     331       0       0\n        0       0      41      48     148   13005   68404     227]\n [   2156       0       0       0       0      35       2       0       0\n        0       0       0       0       0     307    1639    3154]]\n"
     ]
    }
   ],
   "source": [
    "from sklearn.metrics import confusion_matrix\n",
    "conf_matrix=confusion_matrix(y_test,pred)\n",
    "print(conf_matrix)"
   ]
  },
  {
   "cell_type": "code",
   "execution_count": 9,
   "metadata": {},
   "outputs": [
    {
     "output_type": "stream",
     "name": "stdout",
     "text": [
      "              precision    recall  f1-score   support\n\n           0       0.86      0.93      0.89   1861217\n           1       0.68      0.68      0.68     56296\n           2       0.68      0.65      0.67     60436\n           3       0.64      0.60      0.62     69448\n           4       0.56      0.53      0.54     73628\n           5       0.56      0.45      0.50     76086\n           6       0.66      0.53      0.59    129602\n           7       0.71      0.63      0.67    109876\n           8       0.84      0.37      0.51      6420\n           9       0.70      0.68      0.69     56147\n          10       0.68      0.65      0.66     58826\n          11       0.63      0.58      0.60     72393\n          12       0.53      0.46      0.49     76116\n          13       0.52      0.38      0.44     75287\n          14       0.61      0.53      0.57    134293\n          15       0.68      0.62      0.65    110466\n          16       0.80      0.43      0.56      7293\n\n    accuracy                           0.79   3033830\n   macro avg       0.67      0.57      0.61   3033830\nweighted avg       0.77      0.79      0.78   3033830\n\n"
     ]
    }
   ],
   "source": [
    "from sklearn.metrics import classification_report\n",
    "class_report=classification_report(y_test,pred)\n",
    "print(class_report)"
   ]
  }
 ]
}