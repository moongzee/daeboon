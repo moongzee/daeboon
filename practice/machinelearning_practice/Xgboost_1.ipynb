{
 "metadata": {
  "language_info": {
   "codemirror_mode": {
    "name": "ipython",
    "version": 3
   },
   "file_extension": ".py",
   "mimetype": "text/x-python",
   "name": "python",
   "nbconvert_exporter": "python",
   "pygments_lexer": "ipython3",
   "version": "3.8.5-final"
  },
  "orig_nbformat": 2,
  "kernelspec": {
   "name": "python3",
   "display_name": "Python 3.8.5 64-bit ('py': conda)",
   "metadata": {
    "interpreter": {
     "hash": "b7bc1cfecc7c3f2136cc7073dfd33475e7d1121f6edcd8f90e78fb1ed941e158"
    }
   }
  }
 },
 "nbformat": 4,
 "nbformat_minor": 2,
 "cells": [
  {
   "cell_type": "code",
   "execution_count": 28,
   "metadata": {},
   "outputs": [],
   "source": [
    "import pandas as pd \n",
    "\n",
    "data=pd.read_csv(r'C:\\Users\\imagoworks-moongzeee\\test\\ml_preprocessing4.csv')\n"
   ]
  },
  {
   "cell_type": "code",
   "execution_count": 29,
   "metadata": {},
   "outputs": [],
   "source": [
    "X_num=data[['x','y','z','curvature','density']]\n",
    "y=data['label']"
   ]
  },
  {
   "cell_type": "code",
   "execution_count": 30,
   "metadata": {},
   "outputs": [],
   "source": [
    "from sklearn.preprocessing import StandardScaler\n",
    "from sklearn.model_selection import train_test_split\n",
    "\n",
    "scaler = StandardScaler()\n",
    "scaler.fit(X_num)\n",
    "X_scaled = scaler.transform(X_num)\n",
    "X_scaled = pd.DataFrame(data=X_scaled, index=X_num.index, columns=X_num.columns)\n",
    "\n",
    "X = X_scaled\n"
   ]
  },
  {
   "cell_type": "code",
   "execution_count": 31,
   "metadata": {},
   "outputs": [],
   "source": [
    "from xgboost import XGBClassifier\n",
    "from sklearn.metrics import classification_report"
   ]
  },
  {
   "cell_type": "code",
   "execution_count": 32,
   "metadata": {},
   "outputs": [],
   "source": [
    "X_train, X_test, y_train, y_test = train_test_split(X, y, test_size=0.3, random_state=1)"
   ]
  },
  {
   "cell_type": "code",
   "execution_count": 33,
   "metadata": {},
   "outputs": [
    {
     "output_type": "stream",
     "name": "stdout",
     "text": [
      "[13:26:55] WARNING: C:/Users/Administrator/workspace/xgboost-win64_release_1.3.0/src/learner.cc:1061: Starting in XGBoost 1.3.0, the default evaluation metric used with the objective 'multi:softprob' was changed from 'merror' to 'mlogloss'. Explicitly set eval_metric if you'd like to restore the old behavior.\n"
     ]
    },
    {
     "output_type": "execute_result",
     "data": {
      "text/plain": [
       "XGBClassifier(base_score=0.5, booster='gbtree', colsample_bylevel=1,\n",
       "              colsample_bynode=1, colsample_bytree=1, gamma=0, gpu_id=-1,\n",
       "              importance_type='gain', interaction_constraints='',\n",
       "              learning_rate=0.300000012, max_delta_step=0, max_depth=6,\n",
       "              min_child_weight=1, missing=nan, monotone_constraints='()',\n",
       "              n_estimators=100, n_jobs=16, num_parallel_tree=1,\n",
       "              objective='multi:softprob', random_state=0, reg_alpha=0,\n",
       "              reg_lambda=1, scale_pos_weight=None, subsample=1,\n",
       "              tree_method='approx', validate_parameters=1, verbosity=None)"
      ]
     },
     "metadata": {},
     "execution_count": 33
    }
   ],
   "source": [
    "model_xgb = XGBClassifier()\n",
    "model_xgb.fit(X_train, y_train)"
   ]
  },
  {
   "cell_type": "code",
   "execution_count": 34,
   "metadata": {},
   "outputs": [],
   "source": [
    "pred=model_xgb.predict(X_test)"
   ]
  },
  {
   "cell_type": "code",
   "execution_count": 35,
   "metadata": {},
   "outputs": [
    {
     "output_type": "execute_result",
     "data": {
      "text/plain": [
       "0.8712647050098391"
      ]
     },
     "metadata": {},
     "execution_count": 35
    }
   ],
   "source": [
    "from sklearn.metrics import accuracy_score\n",
    "accuracy=accuracy_score(y_test, pred)\n",
    "accuracy"
   ]
  },
  {
   "cell_type": "code",
   "execution_count": 36,
   "metadata": {},
   "outputs": [
    {
     "output_type": "stream",
     "name": "stdout",
     "text": [
      "[[1774240    5174    4984    5955    5322    4519    7294   10968     225\n     4779    4380    5102    5376    4216    8196   10213     274]\n [   5555   45793    2467      29       1       0       0       0       0\n     2414      36       0       0       0       0       1       0]\n [   6569    3286   47698    2665      26       0       0       0       0\n      120       0       0       0       5      51      16       0]\n [   9440      59    3783   51641    4088      80       2       0       0\n       68       1       0       1      45     182      58       0]\n [  11162      18     171    4511   52259    4237     218       8       0\n        0       0       2      19     143     661     219       0]\n [  11372       0       0     267    6201   47825    6819     194       0\n        0       0       0     193     912    2060     239       4]\n [  17557       0       0      55     418    6286   94868    5174       0\n        0       7     159    1076    1687    2212      79      24]\n [  16206       0       0       0       0      55    6603   85817     141\n        0       0       5     668     355      26       0       0]\n [    234       0       0       0       0       0       1     225    5960\n        0       0       0       0       0       0       0       0]\n [   5457    2136      54       1       0       0       0       0       0\n    46361    2113      25       0       0       0       0       0]\n [   6142      70       0       0       0       1       0       0       0\n     2619   47476    2451      67       0       0       0       0]\n [  10012       0       0       0       5       2      33       9       0\n       75    3474   54001    4348     341      93       0       0]\n [  12590       0       0      48      17      51     605     402       0\n        0      52    5179   51892    4539     684      57       0]\n [  13409       0       4      12     179     689    1415     362       0\n        0       0     285    5651   46192    6709     380       0]\n [  19181       0      89     424    1271    1775    1827     104       0\n        0       0     141     477    5780   98837    4366      21]\n [  16548       0       4     140     505     559      85       0       0\n        0       0       3       2      59    6700   85737     124]\n [    489       0       0       0       0      28       3       0       0\n        0       0       0       0       0       6      95    6672]]\n"
     ]
    }
   ],
   "source": [
    "from sklearn.metrics import confusion_matrix\n",
    "conf_matrix=confusion_matrix(y_test,pred)\n",
    "print(conf_matrix)"
   ]
  },
  {
   "cell_type": "code",
   "execution_count": 37,
   "metadata": {},
   "outputs": [
    {
     "output_type": "stream",
     "name": "stdout",
     "text": [
      "              precision    recall  f1-score   support\n\n           0       0.92      0.95      0.93   1861217\n           1       0.81      0.81      0.81     56296\n           2       0.80      0.79      0.80     60436\n           3       0.79      0.74      0.76     69448\n           4       0.74      0.71      0.73     73628\n           5       0.72      0.63      0.67     76086\n           6       0.79      0.73      0.76    129602\n           7       0.83      0.78      0.81    109876\n           8       0.94      0.93      0.94      6420\n           9       0.82      0.83      0.82     56147\n          10       0.83      0.81      0.82     58826\n          11       0.80      0.75      0.77     72393\n          12       0.74      0.68      0.71     76116\n          13       0.72      0.61      0.66     75287\n          14       0.78      0.74      0.76    134293\n          15       0.85      0.78      0.81    110466\n          16       0.94      0.91      0.93      7293\n\n    accuracy                           0.87   3033830\n   macro avg       0.81      0.78      0.79   3033830\nweighted avg       0.87      0.87      0.87   3033830\n\n"
     ]
    }
   ],
   "source": [
    "from sklearn.metrics import classification_report\n",
    "class_report=classification_report(y_test,pred)\n",
    "print(class_report)"
   ]
  }
 ]
}