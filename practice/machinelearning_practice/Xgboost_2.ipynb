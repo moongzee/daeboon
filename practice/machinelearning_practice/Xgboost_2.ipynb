{
 "metadata": {
  "language_info": {
   "codemirror_mode": {
    "name": "ipython",
    "version": 3
   },
   "file_extension": ".py",
   "mimetype": "text/x-python",
   "name": "python",
   "nbconvert_exporter": "python",
   "pygments_lexer": "ipython3",
   "version": "3.8.5-final"
  },
  "orig_nbformat": 2,
  "kernelspec": {
   "name": "python3",
   "display_name": "Python 3.8.5 64-bit ('py': conda)",
   "metadata": {
    "interpreter": {
     "hash": "b7bc1cfecc7c3f2136cc7073dfd33475e7d1121f6edcd8f90e78fb1ed941e158"
    }
   }
  }
 },
 "nbformat": 4,
 "nbformat_minor": 2,
 "cells": [
  {
   "cell_type": "code",
   "execution_count": 1,
   "metadata": {},
   "outputs": [],
   "source": [
    "import pandas as pd \n",
    "\n",
    "data=pd.read_csv(r'C:\\Users\\imagoworks-moongzeee\\test\\ml_preprocessing4.csv')"
   ]
  },
  {
   "cell_type": "code",
   "execution_count": 2,
   "metadata": {},
   "outputs": [],
   "source": [
    "X_num=data[['x','y','z']]\n",
    "y=data['label']"
   ]
  },
  {
   "cell_type": "code",
   "execution_count": 3,
   "metadata": {},
   "outputs": [],
   "source": [
    "from sklearn.preprocessing import StandardScaler\n",
    "from sklearn.model_selection import train_test_split\n",
    "\n",
    "scaler = StandardScaler()\n",
    "scaler.fit(X_num)\n",
    "X_scaled = scaler.transform(X_num)\n",
    "X_scaled = pd.DataFrame(data=X_scaled, index=X_num.index, columns=X_num.columns)\n",
    "\n",
    "X = X_scaled"
   ]
  },
  {
   "cell_type": "code",
   "execution_count": 4,
   "metadata": {},
   "outputs": [],
   "source": [
    "X_train, X_test, y_train, y_test = train_test_split(X, y, test_size=0.3, random_state=1)"
   ]
  },
  {
   "cell_type": "code",
   "execution_count": 5,
   "metadata": {},
   "outputs": [
    {
     "output_type": "stream",
     "name": "stdout",
     "text": [
      "[15:17:12] WARNING: C:/Users/Administrator/workspace/xgboost-win64_release_1.3.0/src/learner.cc:1061: Starting in XGBoost 1.3.0, the default evaluation metric used with the objective 'multi:softprob' was changed from 'merror' to 'mlogloss'. Explicitly set eval_metric if you'd like to restore the old behavior.\n"
     ]
    },
    {
     "output_type": "execute_result",
     "data": {
      "text/plain": [
       "XGBClassifier(base_score=0.5, booster='gbtree', colsample_bylevel=1,\n",
       "              colsample_bynode=1, colsample_bytree=1, gamma=0, gpu_id=-1,\n",
       "              importance_type='gain', interaction_constraints='',\n",
       "              learning_rate=0.300000012, max_delta_step=0, max_depth=6,\n",
       "              min_child_weight=1, missing=nan, monotone_constraints='()',\n",
       "              n_estimators=100, n_jobs=16, num_parallel_tree=1,\n",
       "              objective='multi:softprob', random_state=0, reg_alpha=0,\n",
       "              reg_lambda=1, scale_pos_weight=None, subsample=1,\n",
       "              tree_method='approx', validate_parameters=1, verbosity=None)"
      ]
     },
     "metadata": {},
     "execution_count": 5
    }
   ],
   "source": [
    "from xgboost import XGBClassifier\n",
    "\n",
    "model_xgb = XGBClassifier()\n",
    "model_xgb.fit(X_train, y_train)"
   ]
  },
  {
   "cell_type": "code",
   "execution_count": 6,
   "metadata": {},
   "outputs": [],
   "source": [
    "pred=model_xgb.predict(X_test)"
   ]
  },
  {
   "cell_type": "code",
   "execution_count": 7,
   "metadata": {},
   "outputs": [
    {
     "output_type": "execute_result",
     "data": {
      "text/plain": [
       "0.7403766855756585"
      ]
     },
     "metadata": {},
     "execution_count": 7
    }
   ],
   "source": [
    "from sklearn.metrics import accuracy_score\n",
    "accuracy=accuracy_score(y_test, pred)\n",
    "accuracy"
   ]
  },
  {
   "cell_type": "code",
   "execution_count": 8,
   "metadata": {},
   "outputs": [
    {
     "output_type": "stream",
     "name": "stdout",
     "text": [
      "[[1681343    9705    9516   10813   10412    8930   19787   21434     215\n     8593    9240   10667   11380    8703   20426   19854     199]\n [  12332   34064    4627     348       0       0       0       0       0\n     4699     226       0       0       0       0       0       0]\n [  15019    5523   34231    5061      68       0       0       0       0\n      319       1       0       0       0     214       0       0]\n [  20270     281    5562   36583    5254      74       2       0       0\n      106       0       0      47      41    1022     206       0]\n [  22004      81     387    8240   31975    5758     696      33       0\n        2       0      15     173     401    3430     433       0]\n [  23003       0       0     598    9820   24244    9934      61       0\n        0       0      51     974    2563    4108     730       0]\n [  32288       0       0      87    1741    9206   63427   11756      44\n        0       0     655    4062    3931    2183     222       0]\n [  32654       0       0       0      10     108   13543   60905     157\n        0       0      70    1216     689     516       8       0]\n [   2964       0       0       0       0       0       0    2244    1212\n        0       0       0       0       0       0       0       0]\n [  12231    4115     270       0       0       0       0       0       0\n    34394    4990     147       0       0       0       0       0]\n [  14329     349       0       0      13       0      35       4       0\n     5128   32698    6130     140       0       0       0       0]\n [  21440       0       0       0      15      31     451     182       0\n      133    6124   36378    7025     358     124     132       0]\n [  25235       0       0      38     266     407    3958     691       0\n        0     134    8555   28510    6074    1567     681       0]\n [  25297       0       0      22     311    2714    3148     599       0\n        0       1    1054    9580   20340   11498     723       0]\n [  37391       0      26     512    3961    4162    1406     189       0\n        0       0     270    1621    7961   64719   12075       0]\n [  32325       0       2     383    1347     732     407       0       0\n        0       0      11     100     172   14986   59910      91]\n [   4072       0       0       0       0       0       0       0       0\n        0       0       0       0       0     303    1674    1244]]\n"
     ]
    }
   ],
   "source": [
    "from sklearn.metrics import confusion_matrix\n",
    "conf_matrix=confusion_matrix(y_test,pred)\n",
    "print(conf_matrix)"
   ]
  },
  {
   "cell_type": "code",
   "execution_count": 9,
   "metadata": {},
   "outputs": [
    {
     "output_type": "stream",
     "name": "stdout",
     "text": [
      "              precision    recall  f1-score   support\n\n           0       0.83      0.90      0.87   1861217\n           1       0.63      0.61      0.62     56296\n           2       0.63      0.57      0.60     60436\n           3       0.58      0.53      0.55     69448\n           4       0.49      0.43      0.46     73628\n           5       0.43      0.32      0.37     76086\n           6       0.54      0.49      0.51    129602\n           7       0.62      0.55      0.59    109876\n           8       0.74      0.19      0.30      6420\n           9       0.64      0.61      0.63     56147\n          10       0.61      0.56      0.58     58826\n          11       0.57      0.50      0.53     72393\n          12       0.44      0.37      0.40     76116\n          13       0.40      0.27      0.32     75287\n          14       0.52      0.48      0.50    134293\n          15       0.62      0.54      0.58    110466\n          16       0.81      0.17      0.28      7293\n\n    accuracy                           0.74   3033830\n   macro avg       0.59      0.48      0.51   3033830\nweighted avg       0.73      0.74      0.73   3033830\n\n"
     ]
    }
   ],
   "source": [
    "from sklearn.metrics import classification_report\n",
    "class_report=classification_report(y_test,pred)\n",
    "print(class_report)"
   ]
  }
 ]
}