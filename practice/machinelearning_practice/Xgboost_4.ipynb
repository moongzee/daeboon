{
 "metadata": {
  "language_info": {
   "codemirror_mode": {
    "name": "ipython",
    "version": 3
   },
   "file_extension": ".py",
   "mimetype": "text/x-python",
   "name": "python",
   "nbconvert_exporter": "python",
   "pygments_lexer": "ipython3",
   "version": "3.8.5-final"
  },
  "orig_nbformat": 2,
  "kernelspec": {
   "name": "python3",
   "display_name": "Python 3.8.5 64-bit ('py': conda)",
   "metadata": {
    "interpreter": {
     "hash": "b7bc1cfecc7c3f2136cc7073dfd33475e7d1121f6edcd8f90e78fb1ed941e158"
    }
   }
  }
 },
 "nbformat": 4,
 "nbformat_minor": 2,
 "cells": [
  {
   "cell_type": "code",
   "execution_count": 1,
   "metadata": {},
   "outputs": [],
   "source": [
    "import pandas as pd \n",
    "\n",
    "data=pd.read_csv(r'C:\\Users\\imagoworks-moongzeee\\test\\ml_preprocessing4.csv')"
   ]
  },
  {
   "cell_type": "code",
   "execution_count": 2,
   "metadata": {},
   "outputs": [],
   "source": [
    "X_num=data[['x','y','z','curvature']]\n",
    "y=data['label']"
   ]
  },
  {
   "cell_type": "code",
   "execution_count": 3,
   "metadata": {},
   "outputs": [],
   "source": [
    "from sklearn.preprocessing import StandardScaler\n",
    "from sklearn.model_selection import train_test_split\n",
    "\n",
    "scaler = StandardScaler()\n",
    "scaler.fit(X_num)\n",
    "X_scaled = scaler.transform(X_num)\n",
    "X_scaled = pd.DataFrame(data=X_scaled, index=X_num.index, columns=X_num.columns)\n",
    "\n",
    "X = X_scaled"
   ]
  },
  {
   "cell_type": "code",
   "execution_count": 4,
   "metadata": {},
   "outputs": [],
   "source": [
    "X_train, X_test, y_train, y_test = train_test_split(X, y, test_size=0.3, random_state=1)"
   ]
  },
  {
   "cell_type": "code",
   "execution_count": 5,
   "metadata": {},
   "outputs": [
    {
     "output_type": "stream",
     "name": "stdout",
     "text": [
      "[16:51:06] WARNING: C:/Users/Administrator/workspace/xgboost-win64_release_1.3.0/src/learner.cc:1061: Starting in XGBoost 1.3.0, the default evaluation metric used with the objective 'multi:softprob' was changed from 'merror' to 'mlogloss'. Explicitly set eval_metric if you'd like to restore the old behavior.\n"
     ]
    },
    {
     "output_type": "execute_result",
     "data": {
      "text/plain": [
       "XGBClassifier(base_score=0.5, booster='gbtree', colsample_bylevel=1,\n",
       "              colsample_bynode=1, colsample_bytree=1, gamma=0, gpu_id=-1,\n",
       "              importance_type='gain', interaction_constraints='',\n",
       "              learning_rate=0.300000012, max_delta_step=0, max_depth=6,\n",
       "              min_child_weight=1, missing=nan, monotone_constraints='()',\n",
       "              n_estimators=100, n_jobs=16, num_parallel_tree=1,\n",
       "              objective='multi:softprob', random_state=0, reg_alpha=0,\n",
       "              reg_lambda=1, scale_pos_weight=None, subsample=1,\n",
       "              tree_method='approx', validate_parameters=1, verbosity=None)"
      ]
     },
     "metadata": {},
     "execution_count": 5
    }
   ],
   "source": [
    "from xgboost import XGBClassifier\n",
    "\n",
    "model_xgb = XGBClassifier()\n",
    "model_xgb.fit(X_train, y_train)"
   ]
  },
  {
   "cell_type": "code",
   "execution_count": 6,
   "metadata": {},
   "outputs": [],
   "source": [
    "pred=model_xgb.predict(X_test)"
   ]
  },
  {
   "cell_type": "code",
   "execution_count": 7,
   "metadata": {},
   "outputs": [
    {
     "output_type": "execute_result",
     "data": {
      "text/plain": [
       "0.8605343740420525"
      ]
     },
     "metadata": {},
     "execution_count": 7
    }
   ],
   "source": [
    "from sklearn.metrics import accuracy_score\n",
    "accuracy=accuracy_score(y_test, pred)\n",
    "accuracy"
   ]
  },
  {
   "cell_type": "code",
   "execution_count": 8,
   "metadata": {},
   "outputs": [
    {
     "output_type": "stream",
     "name": "stdout",
     "text": [
      "[[1761493    5058    5124    5890    5849    5647   10311   12082     291\n     4702    4544    4959    5518    5991   11685   11736     337]\n [   6773   44639    2445      36       1       0       0       0       0\n     2359      41       1       0       0       0       1       0]\n [   8441    2910   46221    2705      23       0       0       0       0\n       31       7       0       0      13      81       4       0]\n [  11388      41    3319   50255    3767      61      13       0       0\n       17       0       0      37      34     426      90       0]\n [  12623       8     321    4790   50104    3980     238       0       0\n        2       0       1      36     110    1188     227       0]\n [  12096       0       1     359    6000   45971    6825     116       0\n        0       0      56     233    1231    2794     398       6]\n [  16580       0       0      61     426    6321   94825    4961       8\n        0       3     221    1146    2322    2656      49      23]\n [  16944       0       0       0       0      13    7141   83713     158\n        0       0      16     834     720     330       7       0]\n [    368       0       0       0       0       0      18     224    5810\n        0       0       0       0       0       0       0       0]\n [   6951    2147      97       3       0       0       0       0       0\n    45010    1908      31       0       0       0       0       0]\n [   7706      76       2       0       1       3       0       0       0\n     2896   45687    2389      66       0       0       0       0]\n [  12303       6       0       0       3       6      97      18       0\n       55    3324   52240    3960     215     163       3       0]\n [  12886       0       0      50     107     219     934     525       0\n        0      46    4516   51386    4794     622      31       0]\n [  14310       0       1      38      62     795    2674     289       0\n        0       0     355    5067   44089    7114     493       0]\n [  18235       0     117     481    1355    2034    2934      64       0\n        0       0     116     303    4764   98874    4983      33]\n [  17464       0       8     280     721     682     113       0       0\n        0       0       5      16      36    7065   83934     142]\n [    660       0       0       1       0      33       0       0       0\n        0       0       0       0       0       2     133    6464]]\n"
     ]
    }
   ],
   "source": [
    "from sklearn.metrics import confusion_matrix\n",
    "conf_matrix=confusion_matrix(y_test,pred)\n",
    "print(conf_matrix)"
   ]
  },
  {
   "cell_type": "code",
   "execution_count": 9,
   "metadata": {},
   "outputs": [
    {
     "output_type": "stream",
     "name": "stdout",
     "text": [
      "              precision    recall  f1-score   support\n\n           0       0.91      0.95      0.93   1861217\n           1       0.81      0.79      0.80     56296\n           2       0.80      0.76      0.78     60436\n           3       0.77      0.72      0.75     69448\n           4       0.73      0.68      0.71     73628\n           5       0.70      0.60      0.65     76086\n           6       0.75      0.73      0.74    129602\n           7       0.82      0.76      0.79    109876\n           8       0.93      0.90      0.92      6420\n           9       0.82      0.80      0.81     56147\n          10       0.82      0.78      0.80     58826\n          11       0.80      0.72      0.76     72393\n          12       0.75      0.68      0.71     76116\n          13       0.69      0.59      0.63     75287\n          14       0.74      0.74      0.74    134293\n          15       0.82      0.76      0.79    110466\n          16       0.92      0.89      0.90      7293\n\n    accuracy                           0.86   3033830\n   macro avg       0.80      0.76      0.78   3033830\nweighted avg       0.86      0.86      0.86   3033830\n\n"
     ]
    }
   ],
   "source": [
    "from sklearn.metrics import classification_report\n",
    "class_report=classification_report(y_test,pred)\n",
    "print(class_report)"
   ]
  }
 ]
}