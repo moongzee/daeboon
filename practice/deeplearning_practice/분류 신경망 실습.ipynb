{
 "cells": [
  {
   "cell_type": "markdown",
   "id": "weird-thailand",
   "metadata": {},
   "source": [
    "# 분류 신경망 실습"
   ]
  },
  {
   "cell_type": "code",
   "execution_count": 1,
   "id": "funky-preservation",
   "metadata": {},
   "outputs": [],
   "source": [
    "import numpy as np\n",
    "import tensorflow as tf\n",
    "\n",
    "# 일관된 결과값이 나오도록 하는 랜덤시드 \n",
    "np.random.seed(0)\n",
    "tf.random.set_seed(0)"
   ]
  },
  {
   "cell_type": "markdown",
   "id": "studied-campus",
   "metadata": {},
   "source": [
    "## 와인데이터 로드"
   ]
  },
  {
   "cell_type": "code",
   "execution_count": 2,
   "id": "continuous-establishment",
   "metadata": {},
   "outputs": [],
   "source": [
    "from sklearn import datasets\n",
    "raw_wine = datasets.load_wine()\n",
    "\n",
    "#feature, target data\n",
    "\n",
    "X = raw_wine.data\n",
    "y = raw_wine.target "
   ]
  },
  {
   "cell_type": "markdown",
   "id": "physical-prevention",
   "metadata": {},
   "source": [
    "## 피처 갯수 확인. 신경망 생성시 사용됨 "
   ]
  },
  {
   "cell_type": "code",
   "execution_count": 3,
   "id": "weighted-foundation",
   "metadata": {},
   "outputs": [
    {
     "data": {
      "text/plain": [
       "(178, 13)"
      ]
     },
     "execution_count": 3,
     "metadata": {},
     "output_type": "execute_result"
    }
   ],
   "source": [
    "X.shape"
   ]
  },
  {
   "cell_type": "markdown",
   "id": "strange-charity",
   "metadata": {},
   "source": [
    "## 타깃데이터 종류 확인. 회귀 vs 분류 판별"
   ]
  },
  {
   "cell_type": "code",
   "execution_count": 4,
   "id": "processed-professional",
   "metadata": {},
   "outputs": [
    {
     "data": {
      "text/plain": [
       "{0, 1, 2}"
      ]
     },
     "execution_count": 4,
     "metadata": {},
     "output_type": "execute_result"
    }
   ],
   "source": [
    "set(y)"
   ]
  },
  {
   "cell_type": "markdown",
   "id": "expensive-vegetation",
   "metadata": {},
   "source": [
    "## 타깃데이터 -> 분류. 원핫인코딩 "
   ]
  },
  {
   "cell_type": "code",
   "execution_count": 5,
   "id": "athletic-skating",
   "metadata": {},
   "outputs": [
    {
     "data": {
      "text/plain": [
       "array([[1., 0., 0.],\n",
       "       [1., 0., 0.],\n",
       "       [1., 0., 0.],\n",
       "       [1., 0., 0.],\n",
       "       [1., 0., 0.],\n",
       "       [1., 0., 0.],\n",
       "       [1., 0., 0.],\n",
       "       [1., 0., 0.],\n",
       "       [1., 0., 0.],\n",
       "       [1., 0., 0.],\n",
       "       [1., 0., 0.],\n",
       "       [1., 0., 0.],\n",
       "       [1., 0., 0.],\n",
       "       [1., 0., 0.],\n",
       "       [1., 0., 0.],\n",
       "       [1., 0., 0.],\n",
       "       [1., 0., 0.],\n",
       "       [1., 0., 0.],\n",
       "       [1., 0., 0.],\n",
       "       [1., 0., 0.],\n",
       "       [1., 0., 0.],\n",
       "       [1., 0., 0.],\n",
       "       [1., 0., 0.],\n",
       "       [1., 0., 0.],\n",
       "       [1., 0., 0.],\n",
       "       [1., 0., 0.],\n",
       "       [1., 0., 0.],\n",
       "       [1., 0., 0.],\n",
       "       [1., 0., 0.],\n",
       "       [1., 0., 0.],\n",
       "       [1., 0., 0.],\n",
       "       [1., 0., 0.],\n",
       "       [1., 0., 0.],\n",
       "       [1., 0., 0.],\n",
       "       [1., 0., 0.],\n",
       "       [1., 0., 0.],\n",
       "       [1., 0., 0.],\n",
       "       [1., 0., 0.],\n",
       "       [1., 0., 0.],\n",
       "       [1., 0., 0.],\n",
       "       [1., 0., 0.],\n",
       "       [1., 0., 0.],\n",
       "       [1., 0., 0.],\n",
       "       [1., 0., 0.],\n",
       "       [1., 0., 0.],\n",
       "       [1., 0., 0.],\n",
       "       [1., 0., 0.],\n",
       "       [1., 0., 0.],\n",
       "       [1., 0., 0.],\n",
       "       [1., 0., 0.],\n",
       "       [1., 0., 0.],\n",
       "       [1., 0., 0.],\n",
       "       [1., 0., 0.],\n",
       "       [1., 0., 0.],\n",
       "       [1., 0., 0.],\n",
       "       [1., 0., 0.],\n",
       "       [1., 0., 0.],\n",
       "       [1., 0., 0.],\n",
       "       [1., 0., 0.],\n",
       "       [0., 1., 0.],\n",
       "       [0., 1., 0.],\n",
       "       [0., 1., 0.],\n",
       "       [0., 1., 0.],\n",
       "       [0., 1., 0.],\n",
       "       [0., 1., 0.],\n",
       "       [0., 1., 0.],\n",
       "       [0., 1., 0.],\n",
       "       [0., 1., 0.],\n",
       "       [0., 1., 0.],\n",
       "       [0., 1., 0.],\n",
       "       [0., 1., 0.],\n",
       "       [0., 1., 0.],\n",
       "       [0., 1., 0.],\n",
       "       [0., 1., 0.],\n",
       "       [0., 1., 0.],\n",
       "       [0., 1., 0.],\n",
       "       [0., 1., 0.],\n",
       "       [0., 1., 0.],\n",
       "       [0., 1., 0.],\n",
       "       [0., 1., 0.],\n",
       "       [0., 1., 0.],\n",
       "       [0., 1., 0.],\n",
       "       [0., 1., 0.],\n",
       "       [0., 1., 0.],\n",
       "       [0., 1., 0.],\n",
       "       [0., 1., 0.],\n",
       "       [0., 1., 0.],\n",
       "       [0., 1., 0.],\n",
       "       [0., 1., 0.],\n",
       "       [0., 1., 0.],\n",
       "       [0., 1., 0.],\n",
       "       [0., 1., 0.],\n",
       "       [0., 1., 0.],\n",
       "       [0., 1., 0.],\n",
       "       [0., 1., 0.],\n",
       "       [0., 1., 0.],\n",
       "       [0., 1., 0.],\n",
       "       [0., 1., 0.],\n",
       "       [0., 1., 0.],\n",
       "       [0., 1., 0.],\n",
       "       [0., 1., 0.],\n",
       "       [0., 1., 0.],\n",
       "       [0., 1., 0.],\n",
       "       [0., 1., 0.],\n",
       "       [0., 1., 0.],\n",
       "       [0., 1., 0.],\n",
       "       [0., 1., 0.],\n",
       "       [0., 1., 0.],\n",
       "       [0., 1., 0.],\n",
       "       [0., 1., 0.],\n",
       "       [0., 1., 0.],\n",
       "       [0., 1., 0.],\n",
       "       [0., 1., 0.],\n",
       "       [0., 1., 0.],\n",
       "       [0., 1., 0.],\n",
       "       [0., 1., 0.],\n",
       "       [0., 1., 0.],\n",
       "       [0., 1., 0.],\n",
       "       [0., 1., 0.],\n",
       "       [0., 1., 0.],\n",
       "       [0., 1., 0.],\n",
       "       [0., 1., 0.],\n",
       "       [0., 1., 0.],\n",
       "       [0., 1., 0.],\n",
       "       [0., 1., 0.],\n",
       "       [0., 1., 0.],\n",
       "       [0., 1., 0.],\n",
       "       [0., 1., 0.],\n",
       "       [0., 1., 0.],\n",
       "       [0., 1., 0.],\n",
       "       [0., 0., 1.],\n",
       "       [0., 0., 1.],\n",
       "       [0., 0., 1.],\n",
       "       [0., 0., 1.],\n",
       "       [0., 0., 1.],\n",
       "       [0., 0., 1.],\n",
       "       [0., 0., 1.],\n",
       "       [0., 0., 1.],\n",
       "       [0., 0., 1.],\n",
       "       [0., 0., 1.],\n",
       "       [0., 0., 1.],\n",
       "       [0., 0., 1.],\n",
       "       [0., 0., 1.],\n",
       "       [0., 0., 1.],\n",
       "       [0., 0., 1.],\n",
       "       [0., 0., 1.],\n",
       "       [0., 0., 1.],\n",
       "       [0., 0., 1.],\n",
       "       [0., 0., 1.],\n",
       "       [0., 0., 1.],\n",
       "       [0., 0., 1.],\n",
       "       [0., 0., 1.],\n",
       "       [0., 0., 1.],\n",
       "       [0., 0., 1.],\n",
       "       [0., 0., 1.],\n",
       "       [0., 0., 1.],\n",
       "       [0., 0., 1.],\n",
       "       [0., 0., 1.],\n",
       "       [0., 0., 1.],\n",
       "       [0., 0., 1.],\n",
       "       [0., 0., 1.],\n",
       "       [0., 0., 1.],\n",
       "       [0., 0., 1.],\n",
       "       [0., 0., 1.],\n",
       "       [0., 0., 1.],\n",
       "       [0., 0., 1.],\n",
       "       [0., 0., 1.],\n",
       "       [0., 0., 1.],\n",
       "       [0., 0., 1.],\n",
       "       [0., 0., 1.],\n",
       "       [0., 0., 1.],\n",
       "       [0., 0., 1.],\n",
       "       [0., 0., 1.],\n",
       "       [0., 0., 1.],\n",
       "       [0., 0., 1.],\n",
       "       [0., 0., 1.],\n",
       "       [0., 0., 1.],\n",
       "       [0., 0., 1.]], dtype=float32)"
      ]
     },
     "execution_count": 5,
     "metadata": {},
     "output_type": "execute_result"
    }
   ],
   "source": [
    "from tensorflow.keras.utils import to_categorical\n",
    "y_hot = to_categorical(y)\n",
    "y_hot"
   ]
  },
  {
   "cell_type": "markdown",
   "id": "criminal-boutique",
   "metadata": {},
   "source": [
    "## 트레이닝/ 테스트 분할"
   ]
  },
  {
   "cell_type": "code",
   "execution_count": 6,
   "id": "developing-witch",
   "metadata": {},
   "outputs": [],
   "source": [
    "from sklearn.model_selection import train_test_split\n",
    "X_tn, X_te, y_tn, y_te = train_test_split(X, y_hot, random_state=0)"
   ]
  },
  {
   "cell_type": "markdown",
   "id": "vital-carter",
   "metadata": {},
   "source": [
    "## 신경망 생성"
   ]
  },
  {
   "cell_type": "code",
   "execution_count": 9,
   "id": "visible-platform",
   "metadata": {},
   "outputs": [
    {
     "name": "stdout",
     "output_type": "stream",
     "text": [
      "Model: \"sequential_1\"\n",
      "_________________________________________________________________\n",
      "Layer (type)                 Output Shape              Param #   \n",
      "=================================================================\n",
      "dense_1 (Dense)              (None, 20)                280       \n",
      "_________________________________________________________________\n",
      "batch_normalization (BatchNo (None, 20)                80        \n",
      "_________________________________________________________________\n",
      "activation (Activation)      (None, 20)                0         \n",
      "_________________________________________________________________\n",
      "dense_2 (Dense)              (None, 3)                 63        \n",
      "_________________________________________________________________\n",
      "activation_1 (Activation)    (None, 3)                 0         \n",
      "=================================================================\n",
      "Total params: 423\n",
      "Trainable params: 383\n",
      "Non-trainable params: 40\n",
      "_________________________________________________________________\n"
     ]
    }
   ],
   "source": [
    "from tensorflow.keras.models import Sequential\n",
    "from tensorflow.keras.layers import Dense\n",
    "from tensorflow.keras.layers import BatchNormalization\n",
    "from tensorflow.keras.layers import Activation\n",
    "\n",
    "n_feat = X_tn.shape[1]\n",
    "n_class = len(set(y))\n",
    "epo = 30\n",
    "\n",
    "model = Sequential()\n",
    "\n",
    "model.add(Dense(20, input_dim=n_feat))\n",
    "model.add(BatchNormalization())\n",
    "model.add(Activation('relu'))\n",
    "model.add(Dense(n_class))\n",
    "model.add(Activation('softmax'))\n",
    "\n",
    "model.summary()"
   ]
  },
  {
   "cell_type": "markdown",
   "id": "defined-estimate",
   "metadata": {},
   "source": [
    "## 모형 컴파일"
   ]
  },
  {
   "cell_type": "code",
   "execution_count": 10,
   "id": "congressional-holmes",
   "metadata": {},
   "outputs": [],
   "source": [
    "model.compile(loss='categorical_crossentropy',\n",
    "             optimizer='adam',\n",
    "             metrics=['accuracy'])"
   ]
  },
  {
   "cell_type": "markdown",
   "id": "activated-repository",
   "metadata": {},
   "source": [
    "## 신경망 학습"
   ]
  },
  {
   "cell_type": "code",
   "execution_count": 11,
   "id": "adult-irish",
   "metadata": {},
   "outputs": [
    {
     "name": "stdout",
     "output_type": "stream",
     "text": [
      "Epoch 1/30\n",
      "27/27 [==============================] - 0s 460us/step - loss: 1.0471 - accuracy: 0.4355\n",
      "Epoch 2/30\n",
      "27/27 [==============================] - 0s 460us/step - loss: 0.9325 - accuracy: 0.5871\n",
      "Epoch 3/30\n",
      "27/27 [==============================] - 0s 422us/step - loss: 0.9115 - accuracy: 0.6756\n",
      "Epoch 4/30\n",
      "27/27 [==============================] - 0s 460us/step - loss: 0.7561 - accuracy: 0.6725\n",
      "Epoch 5/30\n",
      "27/27 [==============================] - 0s 460us/step - loss: 0.7057 - accuracy: 0.7448\n",
      "Epoch 6/30\n",
      "27/27 [==============================] - 0s 460us/step - loss: 0.8857 - accuracy: 0.6128\n",
      "Epoch 7/30\n",
      "27/27 [==============================] - 0s 460us/step - loss: 0.7723 - accuracy: 0.7147\n",
      "Epoch 8/30\n",
      "27/27 [==============================] - 0s 460us/step - loss: 0.7140 - accuracy: 0.7327\n",
      "Epoch 9/30\n",
      "27/27 [==============================] - 0s 460us/step - loss: 0.7402 - accuracy: 0.7042\n",
      "Epoch 10/30\n",
      "27/27 [==============================] - 0s 422us/step - loss: 0.6906 - accuracy: 0.7155\n",
      "Epoch 11/30\n",
      "27/27 [==============================] - 0s 422us/step - loss: 0.6292 - accuracy: 0.7801\n",
      "Epoch 12/30\n",
      "27/27 [==============================] - 0s 422us/step - loss: 0.6242 - accuracy: 0.7586\n",
      "Epoch 13/30\n",
      "27/27 [==============================] - 0s 460us/step - loss: 0.5734 - accuracy: 0.8001\n",
      "Epoch 14/30\n",
      "27/27 [==============================] - 0s 460us/step - loss: 0.5676 - accuracy: 0.8233\n",
      "Epoch 15/30\n",
      "27/27 [==============================] - 0s 460us/step - loss: 0.5256 - accuracy: 0.8550\n",
      "Epoch 16/30\n",
      "27/27 [==============================] - 0s 460us/step - loss: 0.5374 - accuracy: 0.8135\n",
      "Epoch 17/30\n",
      "27/27 [==============================] - 0s 460us/step - loss: 0.5612 - accuracy: 0.8032\n",
      "Epoch 18/30\n",
      "27/27 [==============================] - 0s 460us/step - loss: 0.5692 - accuracy: 0.8082\n",
      "Epoch 19/30\n",
      "27/27 [==============================] - 0s 460us/step - loss: 0.6370 - accuracy: 0.7786\n",
      "Epoch 20/30\n",
      "27/27 [==============================] - 0s 422us/step - loss: 0.5709 - accuracy: 0.8042\n",
      "Epoch 21/30\n",
      "27/27 [==============================] - 0s 460us/step - loss: 0.6037 - accuracy: 0.7470\n",
      "Epoch 22/30\n",
      "27/27 [==============================] - 0s 460us/step - loss: 0.5684 - accuracy: 0.8119\n",
      "Epoch 23/30\n",
      "27/27 [==============================] - 0s 460us/step - loss: 0.4484 - accuracy: 0.8489\n",
      "Epoch 24/30\n",
      "27/27 [==============================] - 0s 460us/step - loss: 0.5803 - accuracy: 0.7787\n",
      "Epoch 25/30\n",
      "27/27 [==============================] - 0s 460us/step - loss: 0.4877 - accuracy: 0.8239\n",
      "Epoch 26/30\n",
      "27/27 [==============================] - 0s 460us/step - loss: 0.4046 - accuracy: 0.9000\n",
      "Epoch 27/30\n",
      "27/27 [==============================] - 0s 422us/step - loss: 0.4391 - accuracy: 0.8671\n",
      "Epoch 28/30\n",
      "27/27 [==============================] - 0s 460us/step - loss: 0.4190 - accuracy: 0.8287\n",
      "Epoch 29/30\n",
      "27/27 [==============================] - 0s 460us/step - loss: 0.4983 - accuracy: 0.8001\n",
      "Epoch 30/30\n",
      "27/27 [==============================] - 0s 460us/step - loss: 0.4524 - accuracy: 0.8214\n"
     ]
    }
   ],
   "source": [
    "hist = model.fit(X_tn, y_tn, epochs=epo, batch_size=5)"
   ]
  },
  {
   "cell_type": "markdown",
   "id": "logical-ceiling",
   "metadata": {},
   "source": [
    "## 모형평가"
   ]
  },
  {
   "cell_type": "code",
   "execution_count": 16,
   "id": "neural-petersburg",
   "metadata": {},
   "outputs": [
    {
     "name": "stdout",
     "output_type": "stream",
     "text": [
      "5/5 [==============================] - 0s 496us/step - loss: 1.0682 - accuracy: 0.5789\n"
     ]
    },
    {
     "data": {
      "text/plain": [
       "[1.0682215690612793, 0.5789473652839661]"
      ]
     },
     "execution_count": 16,
     "metadata": {},
     "output_type": "execute_result"
    }
   ],
   "source": [
    "model.evaluate(X_tn, y_tn)"
   ]
  },
  {
   "cell_type": "code",
   "execution_count": 17,
   "id": "italic-mistress",
   "metadata": {},
   "outputs": [
    {
     "name": "stdout",
     "output_type": "stream",
     "text": [
      "5/5 [==============================] - 0s 499us/step - loss: 1.0682 - accuracy: 0.5789\n"
     ]
    },
    {
     "data": {
      "text/plain": [
       "0.5789473652839661"
      ]
     },
     "execution_count": 17,
     "metadata": {},
     "output_type": "execute_result"
    }
   ],
   "source": [
    "model.evaluate(X_tn, y_tn)[1]"
   ]
  },
  {
   "cell_type": "code",
   "execution_count": 18,
   "id": "traditional-prophet",
   "metadata": {},
   "outputs": [
    {
     "name": "stdout",
     "output_type": "stream",
     "text": [
      "2/2 [==============================] - 0s 999us/step - loss: 1.2528 - accuracy: 0.5556\n"
     ]
    },
    {
     "data": {
      "text/plain": [
       "[1.252758502960205, 0.5555555820465088]"
      ]
     },
     "execution_count": 18,
     "metadata": {},
     "output_type": "execute_result"
    }
   ],
   "source": [
    "model.evaluate(X_te, y_te)"
   ]
  },
  {
   "cell_type": "code",
   "execution_count": 19,
   "id": "choice-evaluation",
   "metadata": {
    "scrolled": true
   },
   "outputs": [
    {
     "name": "stdout",
     "output_type": "stream",
     "text": [
      "2/2 [==============================] - 0s 1ms/step - loss: 1.2528 - accuracy: 0.5556\n"
     ]
    },
    {
     "data": {
      "text/plain": [
       "0.5555555820465088"
      ]
     },
     "execution_count": 19,
     "metadata": {},
     "output_type": "execute_result"
    }
   ],
   "source": [
    "model.evaluate(X_te, y_te)[1]"
   ]
  },
  {
   "cell_type": "markdown",
   "id": "shared-margin",
   "metadata": {},
   "source": [
    "## 시각화"
   ]
  },
  {
   "cell_type": "code",
   "execution_count": 23,
   "id": "scientific-wrestling",
   "metadata": {},
   "outputs": [],
   "source": [
    "import numpy as np\n",
    "epoch = np.arange(1, epo+1)\n",
    "accuracy = hist.history['accuracy']\n",
    "loss = hist.history['loss']"
   ]
  },
  {
   "cell_type": "code",
   "execution_count": 25,
   "id": "invisible-archive",
   "metadata": {},
   "outputs": [
    {
     "data": {
      "image/png": "[encoded data removed]",
      "text/plain": [
       "<Figure size 432x288 with 1 Axes>"
      ]
     },
     "metadata": {
      "needs_background": "light"
     },
     "output_type": "display_data"
    }
   ],
   "source": [
    "import matplotlib.pyplot as plt \n",
    "plt.plot(epoch, accuracy, label = 'accuracy')\n",
    "plt.xlabel('epoch')\n",
    "plt.ylabel('accuracy')\n",
    "plt.legend()\n",
    "plt.show()"
   ]
  },
  {
   "cell_type": "code",
   "execution_count": 26,
   "id": "invalid-saying",
   "metadata": {},
   "outputs": [
    {
     "data": {
      "image/png": "[encoded data removed]",
      "text/plain": [
       "<Figure size 432x288 with 1 Axes>"
      ]
     },
     "metadata": {
      "needs_background": "light"
     },
     "output_type": "display_data"
    }
   ],
   "source": [
    "import matplotlib.pyplot as plt \n",
    "plt.plot(epoch, loss, label = 'loss')\n",
    "plt.xlabel('epoch')\n",
    "plt.ylabel('loss')\n",
    "plt.legend()\n",
    "plt.show()"
   ]
  }
 ],
 "metadata": {
  "kernelspec": {
   "display_name": "Python 3",
   "language": "python",
   "name": "python3"
  },
  "language_info": {
   "codemirror_mode": {
    "name": "ipython",
    "version": 3
   },
   "file_extension": ".py",
   "mimetype": "text/x-python",
   "name": "python",
   "nbconvert_exporter": "python",
   "pygments_lexer": "ipython3",
   "version": "3.8.5"
  }
 },
 "nbformat": 4,
 "nbformat_minor": 5
}
