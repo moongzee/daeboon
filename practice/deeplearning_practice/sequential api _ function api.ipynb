{
 "cells": [
  {
   "cell_type": "markdown",
   "id": "subjective-bristol",
   "metadata": {},
   "source": [
    "# sequential api"
   ]
  },
  {
   "cell_type": "code",
   "execution_count": 1,
   "id": "virgin-seeking",
   "metadata": {
    "scrolled": false
   },
   "outputs": [
    {
     "name": "stdout",
     "output_type": "stream",
     "text": [
      "Model: \"sequential\"\n",
      "_________________________________________________________________\n",
      "Layer (type)                 Output Shape              Param #   \n",
      "=================================================================\n",
      "dense (Dense)                (None, 32, 32, 100)       200       \n",
      "_________________________________________________________________\n",
      "dense_1 (Dense)              (None, 32, 32, 50)        5050      \n",
      "_________________________________________________________________\n",
      "dense_2 (Dense)              (None, 32, 32, 5)         255       \n",
      "=================================================================\n",
      "Total params: 5,505\n",
      "Trainable params: 5,505\n",
      "Non-trainable params: 0\n",
      "_________________________________________________________________\n"
     ]
    }
   ],
   "source": [
    "from tensorflow.keras.models import Sequential\n",
    "from tensorflow.keras.layers import Dense\n",
    "\n",
    "model = Sequential()\n",
    "model.add(Dense(100, activation='relu', input_shape=(32,32,1)))\n",
    "model.add(Dense(50, activation='relu'))\n",
    "model.add(Dense(5, activation='softmax'))\n",
    "model.summary()"
   ]
  },
  {
   "cell_type": "markdown",
   "id": "entertaining-senegal",
   "metadata": {},
   "source": [
    "# function api"
   ]
  },
  {
   "cell_type": "code",
   "execution_count": 2,
   "id": "capable-removal",
   "metadata": {},
   "outputs": [
    {
     "name": "stdout",
     "output_type": "stream",
     "text": [
      "Model: \"model\"\n",
      "_________________________________________________________________\n",
      "Layer (type)                 Output Shape              Param #   \n",
      "=================================================================\n",
      "input_1 (InputLayer)         [(None, 32, 32, 1)]       0         \n",
      "_________________________________________________________________\n",
      "dense_3 (Dense)              (None, 32, 32, 100)       200       \n",
      "_________________________________________________________________\n",
      "dense_4 (Dense)              (None, 32, 32, 50)        5050      \n",
      "_________________________________________________________________\n",
      "dense_5 (Dense)              (None, 32, 32, 5)         255       \n",
      "=================================================================\n",
      "Total params: 5,505\n",
      "Trainable params: 5,505\n",
      "Non-trainable params: 0\n",
      "_________________________________________________________________\n"
     ]
    }
   ],
   "source": [
    "from tensorflow.keras.layers import Input, Dense\n",
    "from tensorflow.keras.models import Model\n",
    "\n",
    "input_layer = Input(shape=(32,32,1))\n",
    "x = Dense(units=100, activation = 'relu')(input_layer)\n",
    "x = Dense(units=50, activation = 'relu')(x)\n",
    "output_layer = Dense(units=5, activation='softmax')(x)\n",
    "model2 = Model(input_layer, output_layer)\n",
    "model2.summary()"
   ]
  }
 ],
 "metadata": {
  "kernelspec": {
   "display_name": "Python 3",
   "language": "python",
   "name": "python3"
  },
  "language_info": {
   "codemirror_mode": {
    "name": "ipython",
    "version": 3
   },
   "file_extension": ".py",
   "mimetype": "text/x-python",
   "name": "python",
   "nbconvert_exporter": "python",
   "pygments_lexer": "ipython3",
   "version": "3.8.5"
  }
 },
 "nbformat": 4,
 "nbformat_minor": 5
}
