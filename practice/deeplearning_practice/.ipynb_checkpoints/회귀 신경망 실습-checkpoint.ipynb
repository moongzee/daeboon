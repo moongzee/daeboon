{
 "cells": [
  {
   "cell_type": "markdown",
   "id": "similar-puzzle",
   "metadata": {},
   "source": [
    "# 회귀 신경망 실습"
   ]
  },
  {
   "cell_type": "code",
   "execution_count": 2,
   "id": "potential-pierce",
   "metadata": {},
   "outputs": [],
   "source": [
    "import numpy as np\n",
    "import tensorflow as tf \n",
    "np.random.seed(0)\n",
    "tf.random.set_seed(0)"
   ]
  },
  {
   "cell_type": "markdown",
   "id": "outer-arcade",
   "metadata": {},
   "source": [
    "## 집값 데이터 로드"
   ]
  },
  {
   "cell_type": "code",
   "execution_count": 5,
   "id": "future-chamber",
   "metadata": {},
   "outputs": [],
   "source": [
    "from sklearn import datasets\n",
    "raw_boston = datasets.load_boston()"
   ]
  },
  {
   "cell_type": "markdown",
   "id": "governing-insider",
   "metadata": {},
   "source": [
    "## 피처 데이터, 타겟 데이터"
   ]
  },
  {
   "cell_type": "code",
   "execution_count": 8,
   "id": "infectious-brazil",
   "metadata": {},
   "outputs": [],
   "source": [
    "X = raw_boston.data\n",
    "y = raw_boston.target"
   ]
  },
  {
   "cell_type": "markdown",
   "id": "nasty-truck",
   "metadata": {},
   "source": [
    "## 13개의 피처"
   ]
  },
  {
   "cell_type": "code",
   "execution_count": 9,
   "id": "bright-hebrew",
   "metadata": {
    "scrolled": true
   },
   "outputs": [
    {
     "data": {
      "text/plain": [
       "(506, 13)"
      ]
     },
     "execution_count": 9,
     "metadata": {},
     "output_type": "execute_result"
    }
   ],
   "source": [
    "X.shape"
   ]
  },
  {
   "cell_type": "markdown",
   "id": "gothic-certificate",
   "metadata": {},
   "source": [
    "## 연속형 데이터 , 회귀 문제"
   ]
  },
  {
   "cell_type": "code",
   "execution_count": 10,
   "id": "bridal-timing",
   "metadata": {},
   "outputs": [
    {
     "data": {
      "text/plain": [
       "{5.0,\n",
       " 5.6,\n",
       " 6.3,\n",
       " 7.0,\n",
       " 7.2,\n",
       " 7.4,\n",
       " 7.5,\n",
       " 8.1,\n",
       " 8.3,\n",
       " 8.4,\n",
       " 8.5,\n",
       " 8.7,\n",
       " 8.8,\n",
       " 9.5,\n",
       " 9.6,\n",
       " 9.7,\n",
       " 10.2,\n",
       " 10.4,\n",
       " 10.5,\n",
       " 10.8,\n",
       " 10.9,\n",
       " 11.0,\n",
       " 11.3,\n",
       " 11.5,\n",
       " 11.7,\n",
       " 11.8,\n",
       " 11.9,\n",
       " 12.0,\n",
       " 12.1,\n",
       " 12.3,\n",
       " 12.5,\n",
       " 12.6,\n",
       " 12.7,\n",
       " 12.8,\n",
       " 13.0,\n",
       " 13.1,\n",
       " 13.2,\n",
       " 13.3,\n",
       " 13.4,\n",
       " 13.5,\n",
       " 13.6,\n",
       " 13.8,\n",
       " 13.9,\n",
       " 14.0,\n",
       " 14.1,\n",
       " 14.2,\n",
       " 14.3,\n",
       " 14.4,\n",
       " 14.5,\n",
       " 14.6,\n",
       " 14.8,\n",
       " 14.9,\n",
       " 15.0,\n",
       " 15.1,\n",
       " 15.2,\n",
       " 15.3,\n",
       " 15.4,\n",
       " 15.6,\n",
       " 15.7,\n",
       " 16.0,\n",
       " 16.1,\n",
       " 16.2,\n",
       " 16.3,\n",
       " 16.4,\n",
       " 16.5,\n",
       " 16.6,\n",
       " 16.7,\n",
       " 16.8,\n",
       " 17.0,\n",
       " 17.1,\n",
       " 17.2,\n",
       " 17.3,\n",
       " 17.4,\n",
       " 17.5,\n",
       " 17.6,\n",
       " 17.7,\n",
       " 17.8,\n",
       " 17.9,\n",
       " 18.0,\n",
       " 18.1,\n",
       " 18.2,\n",
       " 18.3,\n",
       " 18.4,\n",
       " 18.5,\n",
       " 18.6,\n",
       " 18.7,\n",
       " 18.8,\n",
       " 18.9,\n",
       " 19.0,\n",
       " 19.1,\n",
       " 19.2,\n",
       " 19.3,\n",
       " 19.4,\n",
       " 19.5,\n",
       " 19.6,\n",
       " 19.7,\n",
       " 19.8,\n",
       " 19.9,\n",
       " 20.0,\n",
       " 20.1,\n",
       " 20.2,\n",
       " 20.3,\n",
       " 20.4,\n",
       " 20.5,\n",
       " 20.6,\n",
       " 20.7,\n",
       " 20.8,\n",
       " 20.9,\n",
       " 21.0,\n",
       " 21.1,\n",
       " 21.2,\n",
       " 21.4,\n",
       " 21.5,\n",
       " 21.6,\n",
       " 21.7,\n",
       " 21.8,\n",
       " 21.9,\n",
       " 22.0,\n",
       " 22.1,\n",
       " 22.2,\n",
       " 22.3,\n",
       " 22.4,\n",
       " 22.5,\n",
       " 22.6,\n",
       " 22.7,\n",
       " 22.8,\n",
       " 22.9,\n",
       " 23.0,\n",
       " 23.1,\n",
       " 23.2,\n",
       " 23.3,\n",
       " 23.4,\n",
       " 23.5,\n",
       " 23.6,\n",
       " 23.7,\n",
       " 23.8,\n",
       " 23.9,\n",
       " 24.0,\n",
       " 24.1,\n",
       " 24.2,\n",
       " 24.3,\n",
       " 24.4,\n",
       " 24.5,\n",
       " 24.6,\n",
       " 24.7,\n",
       " 24.8,\n",
       " 25.0,\n",
       " 25.1,\n",
       " 25.2,\n",
       " 25.3,\n",
       " 26.2,\n",
       " 26.4,\n",
       " 26.5,\n",
       " 26.6,\n",
       " 26.7,\n",
       " 27.0,\n",
       " 27.1,\n",
       " 27.5,\n",
       " 27.9,\n",
       " 28.0,\n",
       " 28.1,\n",
       " 28.2,\n",
       " 28.4,\n",
       " 28.5,\n",
       " 28.6,\n",
       " 28.7,\n",
       " 29.0,\n",
       " 29.1,\n",
       " 29.4,\n",
       " 29.6,\n",
       " 29.8,\n",
       " 29.9,\n",
       " 30.1,\n",
       " 30.3,\n",
       " 30.5,\n",
       " 30.7,\n",
       " 30.8,\n",
       " 31.0,\n",
       " 31.1,\n",
       " 31.2,\n",
       " 31.5,\n",
       " 31.6,\n",
       " 31.7,\n",
       " 32.0,\n",
       " 32.2,\n",
       " 32.4,\n",
       " 32.5,\n",
       " 32.7,\n",
       " 32.9,\n",
       " 33.0,\n",
       " 33.1,\n",
       " 33.2,\n",
       " 33.3,\n",
       " 33.4,\n",
       " 33.8,\n",
       " 34.6,\n",
       " 34.7,\n",
       " 34.9,\n",
       " 35.1,\n",
       " 35.2,\n",
       " 35.4,\n",
       " 36.0,\n",
       " 36.1,\n",
       " 36.2,\n",
       " 36.4,\n",
       " 36.5,\n",
       " 37.0,\n",
       " 37.2,\n",
       " 37.3,\n",
       " 37.6,\n",
       " 37.9,\n",
       " 38.7,\n",
       " 39.8,\n",
       " 41.3,\n",
       " 41.7,\n",
       " 42.3,\n",
       " 42.8,\n",
       " 43.1,\n",
       " 43.5,\n",
       " 43.8,\n",
       " 44.0,\n",
       " 44.8,\n",
       " 45.4,\n",
       " 46.0,\n",
       " 46.7,\n",
       " 48.3,\n",
       " 48.5,\n",
       " 48.8,\n",
       " 50.0}"
      ]
     },
     "execution_count": 10,
     "metadata": {},
     "output_type": "execute_result"
    }
   ],
   "source": [
    "set(y)"
   ]
  },
  {
   "cell_type": "markdown",
   "id": "analyzed-arbitration",
   "metadata": {},
   "source": [
    "## 트레이닝/ 테스트 분할"
   ]
  },
  {
   "cell_type": "code",
   "execution_count": 11,
   "id": "bacterial-exclusive",
   "metadata": {},
   "outputs": [],
   "source": [
    "from sklearn.model_selection import train_test_split\n",
    "\n",
    "X_tn, X_te, y_tn, y_te = train_test_split(X,y,random_state=0)"
   ]
  },
  {
   "cell_type": "markdown",
   "id": "worthy-thompson",
   "metadata": {},
   "source": [
    "## 신경망 생성"
   ]
  },
  {
   "cell_type": "code",
   "execution_count": 12,
   "id": "champion-innocent",
   "metadata": {},
   "outputs": [
    {
     "name": "stdout",
     "output_type": "stream",
     "text": [
      "Model: \"sequential\"\n",
      "_________________________________________________________________\n",
      "Layer (type)                 Output Shape              Param #   \n",
      "=================================================================\n",
      "dense (Dense)                (None, 20)                280       \n",
      "_________________________________________________________________\n",
      "dense_1 (Dense)              (None, 1)                 21        \n",
      "=================================================================\n",
      "Total params: 301\n",
      "Trainable params: 301\n",
      "Non-trainable params: 0\n",
      "_________________________________________________________________\n"
     ]
    }
   ],
   "source": [
    "from tensorflow.keras.models import Sequential\n",
    "from tensorflow.keras.layers import Dense \n",
    "\n",
    "n_feat = X_tn.shape[1]\n",
    "epo = 30 \n",
    "\n",
    "model = Sequential()\n",
    "\n",
    "#아웃풋 차원?????? 20??????????\n",
    "model.add(Dense(20, input_dim=n_feat, activation='relu'))\n",
    "model.add(Dense(1))\n",
    "\n",
    "model.summary()"
   ]
  },
  {
   "cell_type": "markdown",
   "id": "other-worst",
   "metadata": {},
   "source": [
    "## 모형 컴파일"
   ]
  },
  {
   "cell_type": "code",
   "execution_count": 13,
   "id": "hired-printer",
   "metadata": {},
   "outputs": [],
   "source": [
    "model.compile(loss = 'mean_squared_error',\n",
    "             optimizer = 'adam',\n",
    "             metrics = ['mean_squared_error'])"
   ]
  },
  {
   "cell_type": "markdown",
   "id": "periodic-section",
   "metadata": {},
   "source": [
    "## 신경망 학습"
   ]
  },
  {
   "cell_type": "code",
   "execution_count": 20,
   "id": "imperial-alarm",
   "metadata": {},
   "outputs": [
    {
     "name": "stdout",
     "output_type": "stream",
     "text": [
      "Epoch 1/30\n",
      "76/76 [==============================] - 0s 386us/step - loss: 32.1289 - mean_squared_error: 32.1289\n",
      "Epoch 2/30\n",
      "76/76 [==============================] - 0s 372us/step - loss: 29.0281 - mean_squared_error: 29.0281\n",
      "Epoch 3/30\n",
      "76/76 [==============================] - 0s 359us/step - loss: 26.8747 - mean_squared_error: 26.8747\n",
      "Epoch 4/30\n",
      "76/76 [==============================] - 0s 372us/step - loss: 27.6006 - mean_squared_error: 27.6006\n",
      "Epoch 5/30\n",
      "76/76 [==============================] - 0s 372us/step - loss: 38.4620 - mean_squared_error: 38.4620\n",
      "Epoch 6/30\n",
      "76/76 [==============================] - 0s 378us/step - loss: 33.1269 - mean_squared_error: 33.1269\n",
      "Epoch 7/30\n",
      "76/76 [==============================] - 0s 375us/step - loss: 35.7030 - mean_squared_error: 35.7030\n",
      "Epoch 8/30\n",
      "76/76 [==============================] - 0s 372us/step - loss: 28.6823 - mean_squared_error: 28.6823\n",
      "Epoch 9/30\n",
      "76/76 [==============================] - 0s 372us/step - loss: 27.7034 - mean_squared_error: 27.7034\n",
      "Epoch 10/30\n",
      "76/76 [==============================] - 0s 372us/step - loss: 28.6375 - mean_squared_error: 28.6375\n",
      "Epoch 11/30\n",
      "76/76 [==============================] - 0s 372us/step - loss: 29.9340 - mean_squared_error: 29.9340\n",
      "Epoch 12/30\n",
      "76/76 [==============================] - 0s 372us/step - loss: 25.9212 - mean_squared_error: 25.9212\n",
      "Epoch 13/30\n",
      "76/76 [==============================] - 0s 372us/step - loss: 26.0696 - mean_squared_error: 26.0696\n",
      "Epoch 14/30\n",
      "76/76 [==============================] - 0s 377us/step - loss: 28.6128 - mean_squared_error: 28.6128\n",
      "Epoch 15/30\n",
      "76/76 [==============================] - 0s 372us/step - loss: 25.5058 - mean_squared_error: 25.5058\n",
      "Epoch 16/30\n",
      "76/76 [==============================] - 0s 372us/step - loss: 32.3549 - mean_squared_error: 32.3549\n",
      "Epoch 17/30\n",
      "76/76 [==============================] - 0s 372us/step - loss: 27.3876 - mean_squared_error: 27.3876\n",
      "Epoch 18/30\n",
      "76/76 [==============================] - 0s 372us/step - loss: 27.3154 - mean_squared_error: 27.3154\n",
      "Epoch 19/30\n",
      "76/76 [==============================] - 0s 372us/step - loss: 26.2841 - mean_squared_error: 26.2841\n",
      "Epoch 20/30\n",
      "76/76 [==============================] - 0s 372us/step - loss: 25.6724 - mean_squared_error: 25.6724\n",
      "Epoch 21/30\n",
      "76/76 [==============================] - 0s 359us/step - loss: 28.5101 - mean_squared_error: 28.5101\n",
      "Epoch 22/30\n",
      "76/76 [==============================] - 0s 359us/step - loss: 26.0620 - mean_squared_error: 26.0620\n",
      "Epoch 23/30\n",
      "76/76 [==============================] - 0s 372us/step - loss: 26.2102 - mean_squared_error: 26.2102\n",
      "Epoch 24/30\n",
      "76/76 [==============================] - 0s 374us/step - loss: 26.1368 - mean_squared_error: 26.1368\n",
      "Epoch 25/30\n",
      "76/76 [==============================] - 0s 372us/step - loss: 22.8801 - mean_squared_error: 22.8801\n",
      "Epoch 26/30\n",
      "76/76 [==============================] - 0s 372us/step - loss: 25.9630 - mean_squared_error: 25.9630\n",
      "Epoch 27/30\n",
      "76/76 [==============================] - 0s 359us/step - loss: 22.2575 - mean_squared_error: 22.2575\n",
      "Epoch 28/30\n",
      "76/76 [==============================] - 0s 372us/step - loss: 26.4184 - mean_squared_error: 26.4184\n",
      "Epoch 29/30\n",
      "76/76 [==============================] - 0s 372us/step - loss: 23.2907 - mean_squared_error: 23.2907\n",
      "Epoch 30/30\n",
      "76/76 [==============================] - 0s 372us/step - loss: 21.6294 - mean_squared_error: 21.6294\n"
     ]
    }
   ],
   "source": [
    "hist = model.fit(X_tn, y_tn, epochs=epo, batch_size=5)"
   ]
  },
  {
   "cell_type": "markdown",
   "id": "accepting-bridges",
   "metadata": {},
   "source": [
    "## 모형평가"
   ]
  },
  {
   "cell_type": "code",
   "execution_count": 21,
   "id": "capable-advance",
   "metadata": {},
   "outputs": [
    {
     "name": "stdout",
     "output_type": "stream",
     "text": [
      "12/12 [==============================] - 0s 453us/step - loss: 35.9345 - mean_squared_error: 35.9345\n"
     ]
    },
    {
     "data": {
      "text/plain": [
       "[35.93445587158203, 35.93445587158203]"
      ]
     },
     "execution_count": 21,
     "metadata": {},
     "output_type": "execute_result"
    }
   ],
   "source": [
    "model.evaluate(X_tn,y_tn)"
   ]
  },
  {
   "cell_type": "code",
   "execution_count": 22,
   "id": "impossible-delivery",
   "metadata": {},
   "outputs": [
    {
     "name": "stdout",
     "output_type": "stream",
     "text": [
      "4/4 [==============================] - 0s 665us/step - loss: 56.0674 - mean_squared_error: 56.0674\n"
     ]
    },
    {
     "data": {
      "text/plain": [
       "[56.06744384765625, 56.06744384765625]"
      ]
     },
     "execution_count": 22,
     "metadata": {},
     "output_type": "execute_result"
    }
   ],
   "source": [
    "model.evaluate(X_te,y_te)"
   ]
  },
  {
   "cell_type": "markdown",
   "id": "fiscal-indicator",
   "metadata": {},
   "source": [
    "## 시각화"
   ]
  },
  {
   "cell_type": "code",
   "execution_count": 23,
   "id": "removable-italic",
   "metadata": {},
   "outputs": [],
   "source": [
    "import numpy as np\n",
    "epoch = np.arange(1, epo+1)\n",
    "mse = hist.history['mean_squared_error']\n",
    "loss = hist.history['loss']"
   ]
  },
  {
   "cell_type": "code",
   "execution_count": 26,
   "id": "living-geneva",
   "metadata": {},
   "outputs": [
    {
     "data": {
      "image/png": "[encoded data removed]",
      "text/plain": [
       "<Figure size 432x288 with 1 Axes>"
      ]
     },
     "metadata": {
      "needs_background": "light"
     },
     "output_type": "display_data"
    }
   ],
   "source": [
    "import matplotlib.pyplot as plt \n",
    "\n",
    "plt.plot(epoch, mse, label='mse')\n",
    "plt.xlabel('epoch')\n",
    "plt.ylabel('mse')\n",
    "plt.legend()\n",
    "plt.show()"
   ]
  },
  {
   "cell_type": "code",
   "execution_count": 27,
   "id": "accessible-merchandise",
   "metadata": {
    "scrolled": true
   },
   "outputs": [
    {
     "data": {
      "image/png": "[encoded data removed]",
      "text/plain": [
       "<Figure size 432x288 with 1 Axes>"
      ]
     },
     "metadata": {
      "needs_background": "light"
     },
     "output_type": "display_data"
    }
   ],
   "source": [
    "import matplotlib.pyplot as plt\n",
    "\n",
    "plt.plot(epoch, loss, label='loss')\n",
    "plt.xlabel('epoch')\n",
    "plt.ylabel('loss')\n",
    "plt.legend()\n",
    "plt.show()"
   ]
  },
  {
   "cell_type": "markdown",
   "id": "enormous-desert",
   "metadata": {},
   "source": [
    "## 실제값과 예측값 데이터프레임, 그래프"
   ]
  },
  {
   "cell_type": "code",
   "execution_count": 33,
   "id": "north-draft",
   "metadata": {},
   "outputs": [
    {
     "data": {
      "text/html": [
       "<div>\n",
       "<style scoped>\n",
       "    .dataframe tbody tr th:only-of-type {\n",
       "        vertical-align: middle;\n",
       "    }\n",
       "\n",
       "    .dataframe tbody tr th {\n",
       "        vertical-align: top;\n",
       "    }\n",
       "\n",
       "    .dataframe thead th {\n",
       "        text-align: right;\n",
       "    }\n",
       "</style>\n",
       "<table border=\"1\" class=\"dataframe\">\n",
       "  <thead>\n",
       "    <tr style=\"text-align: right;\">\n",
       "      <th></th>\n",
       "      <th>predict_val</th>\n",
       "      <th>real</th>\n",
       "    </tr>\n",
       "  </thead>\n",
       "  <tbody>\n",
       "    <tr>\n",
       "      <th>96</th>\n",
       "      <td>1.130471</td>\n",
       "      <td>13.8</td>\n",
       "    </tr>\n",
       "    <tr>\n",
       "      <th>75</th>\n",
       "      <td>1.777642</td>\n",
       "      <td>7.4</td>\n",
       "    </tr>\n",
       "    <tr>\n",
       "      <th>116</th>\n",
       "      <td>1.901460</td>\n",
       "      <td>8.4</td>\n",
       "    </tr>\n",
       "  </tbody>\n",
       "</table>\n",
       "</div>"
      ],
      "text/plain": [
       "     predict_val  real\n",
       "96      1.130471  13.8\n",
       "75      1.777642   7.4\n",
       "116     1.901460   8.4"
      ]
     },
     "execution_count": 33,
     "metadata": {},
     "output_type": "execute_result"
    }
   ],
   "source": [
    "pred_y = model.predict(X_te).flatten()\n",
    "\n",
    "import pandas as pd \n",
    "\n",
    "res_df = pd.DataFrame(pred_y, columns=['predict_val'])\n",
    "res_df['real'] = y_te\n",
    "df_sort = res_df.sort_values(['predict_val'], ascending=True)\n",
    "df_sort.head(3)"
   ]
  },
  {
   "cell_type": "code",
   "execution_count": 35,
   "id": "specified-biology",
   "metadata": {},
   "outputs": [
    {
     "data": {
      "image/png": "[encoded data removed]",
      "text/plain": [
       "<Figure size 432x288 with 1 Axes>"
      ]
     },
     "metadata": {
      "needs_background": "light"
     },
     "output_type": "display_data"
    }
   ],
   "source": [
    "idx = np.arange(1, len(df_sort)+1)\n",
    "plt.scatter(idx, df_sort['real'], marker='o', label='real_val')\n",
    "plt.plot(idx, df_sort['predict_val'], color='r', label='predict_val')\n",
    "plt.xlabel('index')\n",
    "plt.ylabel('value')\n",
    "plt.legend()\n",
    "plt.show()"
   ]
  }
 ],
 "metadata": {
  "kernelspec": {
   "display_name": "Python 3",
   "language": "python",
   "name": "python3"
  },
  "language_info": {
   "codemirror_mode": {
    "name": "ipython",
    "version": 3
   },
   "file_extension": ".py",
   "mimetype": "text/x-python",
   "name": "python",
   "nbconvert_exporter": "python",
   "pygments_lexer": "ipython3",
   "version": "3.8.5"
  }
 },
 "nbformat": 4,
 "nbformat_minor": 5
}
